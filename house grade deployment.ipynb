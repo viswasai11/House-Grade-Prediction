{
 "cells": [
  {
   "cell_type": "code",
   "execution_count": 2,
   "id": "4d9b0785-b597-47cc-bae8-05752edd738a",
   "metadata": {},
   "outputs": [
    {
     "name": "stdout",
     "output_type": "stream",
     "text": [
      "D:\\hackaton\n"
     ]
    }
   ],
   "source": [
    "import io\n",
    "import os\n",
    "import pandas as pd\n",
    "import numpy as np\n",
    "import seaborn as sns\n",
    "import matplotlib.pyplot as plt\n",
    "%matplotlib inline\n",
    "%cd \"D:\\hackaton\""
   ]
  },
  {
   "cell_type": "code",
   "execution_count": 3,
   "id": "441fe6ac-c9f7-46b3-b5a6-948c0710064a",
   "metadata": {},
   "outputs": [
    {
     "name": "stdout",
     "output_type": "stream",
     "text": [
      "WARNING:tensorflow:From C:\\Users\\HP\\anaconda3\\Lib\\site-packages\\keras\\src\\backend.py:1398: The name tf.executing_eagerly_outside_functions is deprecated. Please use tf.compat.v1.executing_eagerly_outside_functions instead.\n",
      "\n"
     ]
    },
    {
     "name": "stderr",
     "output_type": "stream",
     "text": [
      "2024-02-17 18:07:33.521 \n",
      "  \u001b[33m\u001b[1mWarning:\u001b[0m to view this Streamlit app on a browser, run it with the following\n",
      "  command:\n",
      "\n",
      "    streamlit run C:\\Users\\HP\\anaconda3\\Lib\\site-packages\\ipykernel_launcher.py [ARGUMENTS]\n"
     ]
    }
   ],
   "source": [
    "import streamlit as st\n",
    "import numpy as np\n",
    "import pandas as pd\n",
    "from sklearn.preprocessing import StandardScaler\n",
    "from tensorflow.keras.models import load_model\n",
    "\n",
    "# Load the trained model\n",
    "model = load_model(\"trained_model.h5\")  # Replace \"trained_model.h5\" with the path to your trained model file\n",
    "\n",
    "# Function to preprocess input data\n",
    "def preprocess_input_data(data):\n",
    "    scaler = StandardScaler()\n",
    "    scaled_data = scaler.fit_transform(data)\n",
    "    return scaled_data\n",
    "\n",
    "# Define the Streamlit app\n",
    "def main():\n",
    "    st.title(\"House Grade Prediction\")\n",
    "    st.write(\"Enter the details of the house to predict its price:\")\n",
    "\n",
    "    # Input fields\n",
    "    area = st.number_input(\"Total area of the plot\")\n",
    "    t_rooms = st.number_input(\"Total number of rooms\")\n",
    "    n_bedrooms = st.number_input(\"Number of bedrooms\")\n",
    "    n_bwashrooms = st.number_input(\"Number of washrooms attached to the bedroom\")\n",
    "    t_washrooms = st.number_input(\"Total number of washrooms\")\n",
    "    roof = st.radio(\"Does the house have a roof?\", (\"Yes\", \"No\"))\n",
    "    roof_area = st.number_input(\"Total area of the terrace\")\n",
    "    lawn_area = st.number_input(\"Area of the lawn including garden and parking\")\n",
    "    n_floor = st.number_input(\"Number of floors\")\n",
    "    api = st.number_input(\"Air purity index (API)\")\n",
    "    anb = st.number_input(\"Number of amenities nearby within 2 miles\")\n",
    "    \n",
    "    # Convert radio button value to numerical\n",
    "    roof = 1 if roof == \"Yes\" else 0\n",
    "    \n",
    "    # Preprocess input data\n",
    "    input_data = pd.DataFrame({\n",
    "        \"Area(total)\": [area],\n",
    "        \"Trooms\": [t_rooms],\n",
    "        \"Nbedrooms\": [n_bedrooms],\n",
    "        \"Nbwashrooms\": [n_bwashrooms],\n",
    "        \"Twashrooms\": [t_washrooms],\n",
    "        \"Roof\": [roof],\n",
    "        \"Roof(Area)\": [roof_area],\n",
    "        \"Lawn(Area)\": [lawn_area],\n",
    "        \"Nfloor\": [n_floor],\n",
    "        \"API\": [api],\n",
    "        \"ANB\": [anb]\n",
    "    })\n",
    "    input_data = preprocess_input_data(input_data)\n",
    "    \n",
    "    # Make prediction\n",
    "    if st.button(\"Predict\"):\n",
    "        prediction = model.predict(input_data)\n",
    "        st.success(f\"Expected price: ${prediction[0][0]:,.2f}\")\n",
    "\n",
    "if __name__ == \"__main__\":\n",
    "    main()\n"
   ]
  },
  {
   "cell_type": "code",
   "execution_count": null,
   "id": "fb56ccf5-de90-4bf5-8d68-935b5fdeff1f",
   "metadata": {},
   "outputs": [],
   "source": []
  }
 ],
 "metadata": {
  "kernelspec": {
   "display_name": "Python 3 (ipykernel)",
   "language": "python",
   "name": "python3"
  },
  "language_info": {
   "codemirror_mode": {
    "name": "ipython",
    "version": 3
   },
   "file_extension": ".py",
   "mimetype": "text/x-python",
   "name": "python",
   "nbconvert_exporter": "python",
   "pygments_lexer": "ipython3",
   "version": "3.11.5"
  },
  "widgets": {
   "application/vnd.jupyter.widget-state+json": {
    "state": {},
    "version_major": 2,
    "version_minor": 0
   }
  }
 },
 "nbformat": 4,
 "nbformat_minor": 5
}
