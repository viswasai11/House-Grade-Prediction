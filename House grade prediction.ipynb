{
 "cells": [
  {
   "cell_type": "markdown",
   "id": "65f29db7-7713-4c7d-abc4-f0e65bb7db1e",
   "metadata": {
    "editable": true,
    "slideshow": {
     "slide_type": ""
    },
    "tags": []
   },
   "source": [
    "# House Grade Prediction\n",
    "# The problem statement and description of the dataset:\n",
    "## House Grade Prediction\n",
    "Find The Best House: The 1234ABC Realtors Limited is in great losses due to the automation in the industry and the new innovations and players in the real estate market. So they have hired a Data Science Team to give them a business solution so as to help regain their place in the market. In order to do that, the group thought of a compiled way of grading the houses in order from A to E with respect to different aspects in mind. This would help them to rate the houses as well as different areas as well. So gear up and help the realtors get back their place in the market.\n",
    "\n",
    "## Objective of the problem: \n",
    "The objective of the problem is to predict values “Grade” attribute from the given features of the Test data. Please view the sample submission file to understand how the submission file is to be written. Please upload the submission file to get a score.\n",
    "\n",
    "1. The predictions are to be written to a CSV file along with ID which is the unique identifier for each tuple.\n",
    "2. Please upload the submission file to get a score.\n",
    "3. Please note that the training data is only for creating your data model and all predictions are to be made as per serial numbers on the test file.\n",
    "\n",
    "## Description of files: -\n",
    "1. Training File: All features including the target would be present in this file. The machine learning model would trained using this file. This file is to be used for training and validation.\n",
    "2. Test File: This file contains all features, but the target variable. Prediction is to be made for all tuples in the test file. The predicted values are to be written to a CSV file along with the ID and uploaded.\n",
    "3. Sample Submission: Sample submission is an example of how the actual submission file should be like.\n",
    "\n",
    "# Description of the data attributes is as below:\n",
    "| **Variable Name** | **Description** |\n",
    "|--|--|\n",
    "|Area(total) | Total area of the plot.|\n",
    "|Trooms | Total Number of rooms in the house.|\n",
    "|Nbedrooms | Number of bedrooms in the house.|\n",
    "|Nbwashrooms | Number of washrooms attached to the bedroom.|\n",
    "|Twashrooms | total number of washrooms in the house.|\n",
    "|Roof |Does the house has roof(yes or no).|\n",
    "|Roof(Area)|Total area of the terrace.|\n",
    "|Lawn(Area)| Area of the lawn including garden and parking.|\n",
    "|Nfloor| Number of floors in the house.|\n",
    "|API | Air purity index API is in percentage for example if API is 85 it means it's 85% of the standard API for the city.|\n",
    "|ANB| Amenities nearby amenities like hospitals, parks, multiplex, malls, etc within 2 miles.|\n",
    "|Expected price| price expected by seller.|\n",
    "|Grade| Grade provided by a company that depends on the condition and other features mentioned in the data. (Note A is best grade and E is worst.)|\n",
    "\n",
    "# Evaluation metric: \n",
    "## The Evaluation metrics are used to assess the performance of a classification model by comparing its predictions against the actual true values.\n",
    "1. Accuracy: Accuracy is the proportion of correct predictions (both true positives and true negatives) among the total number of predictions made."
   ]
  },
  {
   "cell_type": "code",
   "execution_count": 1,
   "id": "f54ab055",
   "metadata": {},
   "outputs": [
    {
     "name": "stdout",
     "output_type": "stream",
     "text": [
      "D:\\imarticus learning\\hackaton\n"
     ]
    }
   ],
   "source": [
    "import io\n",
    "import os\n",
    "import pandas as pd\n",
    "import numpy as np\n",
    "import seaborn as sns\n",
    "import matplotlib.pyplot as plt\n",
    "import warnings\n",
    "warnings.filterwarnings('ignore')\n",
    "%matplotlib inline\n",
    "%cd \"D:\\imarticus learning\\hackaton\"\n"
   ]
  },
  {
   "cell_type": "code",
   "execution_count": 2,
   "id": "4c7b8eaa",
   "metadata": {},
   "outputs": [],
   "source": [
    "# to read the CSV file\n",
    "grade_tr=pd.read_csv(\"TRAINING_.csv\")"
   ]
  },
  {
   "cell_type": "code",
   "execution_count": 3,
   "id": "37ed4160",
   "metadata": {},
   "outputs": [],
   "source": [
    "grade_tt=pd.read_csv(\"TEST_.csv\")"
   ]
  },
  {
   "cell_type": "code",
   "execution_count": 4,
   "id": "981826f7",
   "metadata": {},
   "outputs": [
    {
     "data": {
      "text/html": [
       "<div>\n",
       "<style scoped>\n",
       "    .dataframe tbody tr th:only-of-type {\n",
       "        vertical-align: middle;\n",
       "    }\n",
       "\n",
       "    .dataframe tbody tr th {\n",
       "        vertical-align: top;\n",
       "    }\n",
       "\n",
       "    .dataframe thead th {\n",
       "        text-align: right;\n",
       "    }\n",
       "</style>\n",
       "<table border=\"1\" class=\"dataframe\">\n",
       "  <thead>\n",
       "    <tr style=\"text-align: right;\">\n",
       "      <th></th>\n",
       "      <th>id</th>\n",
       "      <th>Area(total)</th>\n",
       "      <th>Troom</th>\n",
       "      <th>Nbedrooms</th>\n",
       "      <th>Nbwashrooms</th>\n",
       "      <th>Twashrooms</th>\n",
       "      <th>roof</th>\n",
       "      <th>Roof(Area)</th>\n",
       "      <th>Lawn(Area)</th>\n",
       "      <th>Nfloors</th>\n",
       "      <th>API</th>\n",
       "      <th>ANB</th>\n",
       "      <th>Grade</th>\n",
       "      <th>EXPECTED</th>\n",
       "    </tr>\n",
       "  </thead>\n",
       "  <tbody>\n",
       "    <tr>\n",
       "      <th>0</th>\n",
       "      <td>1</td>\n",
       "      <td>305</td>\n",
       "      <td>8.0</td>\n",
       "      <td>2.0</td>\n",
       "      <td>1.0</td>\n",
       "      <td>3.0</td>\n",
       "      <td>NO</td>\n",
       "      <td>0.0</td>\n",
       "      <td>76.0</td>\n",
       "      <td>2</td>\n",
       "      <td>63.0</td>\n",
       "      <td>4</td>\n",
       "      <td>D</td>\n",
       "      <td>3826$</td>\n",
       "    </tr>\n",
       "    <tr>\n",
       "      <th>1</th>\n",
       "      <td>2</td>\n",
       "      <td>344</td>\n",
       "      <td>6.0</td>\n",
       "      <td>7.0</td>\n",
       "      <td>7.0</td>\n",
       "      <td>8.0</td>\n",
       "      <td>no</td>\n",
       "      <td>0.0</td>\n",
       "      <td>83.0</td>\n",
       "      <td>7</td>\n",
       "      <td>97.0</td>\n",
       "      <td>1</td>\n",
       "      <td>B</td>\n",
       "      <td>4458$</td>\n",
       "    </tr>\n",
       "    <tr>\n",
       "      <th>2</th>\n",
       "      <td>3</td>\n",
       "      <td>294</td>\n",
       "      <td>8.0</td>\n",
       "      <td>4.0</td>\n",
       "      <td>3.0</td>\n",
       "      <td>4.0</td>\n",
       "      <td>yes</td>\n",
       "      <td>97.0</td>\n",
       "      <td>78.0</td>\n",
       "      <td>1</td>\n",
       "      <td>88.0</td>\n",
       "      <td>4</td>\n",
       "      <td>C</td>\n",
       "      <td>4199$</td>\n",
       "    </tr>\n",
       "    <tr>\n",
       "      <th>3</th>\n",
       "      <td>4</td>\n",
       "      <td>328</td>\n",
       "      <td>5.0</td>\n",
       "      <td>4.0</td>\n",
       "      <td>2.0</td>\n",
       "      <td>4.0</td>\n",
       "      <td>NO</td>\n",
       "      <td>0.0</td>\n",
       "      <td>91.0</td>\n",
       "      <td>5</td>\n",
       "      <td>86.0</td>\n",
       "      <td>1</td>\n",
       "      <td>D</td>\n",
       "      <td>3462$</td>\n",
       "    </tr>\n",
       "    <tr>\n",
       "      <th>4</th>\n",
       "      <td>5</td>\n",
       "      <td>295</td>\n",
       "      <td>9.0</td>\n",
       "      <td>5.0</td>\n",
       "      <td>3.0</td>\n",
       "      <td>5.0</td>\n",
       "      <td>NaN</td>\n",
       "      <td>NaN</td>\n",
       "      <td>97.0</td>\n",
       "      <td>4</td>\n",
       "      <td>93.0</td>\n",
       "      <td>3</td>\n",
       "      <td>C</td>\n",
       "      <td>4543$</td>\n",
       "    </tr>\n",
       "  </tbody>\n",
       "</table>\n",
       "</div>"
      ],
      "text/plain": [
       "   id  Area(total)  Troom  Nbedrooms  Nbwashrooms  Twashrooms roof  \\\n",
       "0   1          305    8.0        2.0          1.0         3.0   NO   \n",
       "1   2          344    6.0        7.0          7.0         8.0   no   \n",
       "2   3          294    8.0        4.0          3.0         4.0  yes   \n",
       "3   4          328    5.0        4.0          2.0         4.0   NO   \n",
       "4   5          295    9.0        5.0          3.0         5.0  NaN   \n",
       "\n",
       "   Roof(Area)  Lawn(Area)  Nfloors   API  ANB Grade EXPECTED  \n",
       "0         0.0        76.0        2  63.0    4     D    3826$  \n",
       "1         0.0        83.0        7  97.0    1     B    4458$  \n",
       "2        97.0        78.0        1  88.0    4     C    4199$  \n",
       "3         0.0        91.0        5  86.0    1     D    3462$  \n",
       "4         NaN        97.0        4  93.0    3     C    4543$  "
      ]
     },
     "execution_count": 4,
     "metadata": {},
     "output_type": "execute_result"
    }
   ],
   "source": [
    "# head() function is access or to show the row and columns in the file\n",
    "# by deafault head() gives first 5 rows\n",
    "grade_tr.head()"
   ]
  },
  {
   "cell_type": "code",
   "execution_count": 5,
   "id": "7e222033",
   "metadata": {},
   "outputs": [
    {
     "data": {
      "text/html": [
       "<div>\n",
       "<style scoped>\n",
       "    .dataframe tbody tr th:only-of-type {\n",
       "        vertical-align: middle;\n",
       "    }\n",
       "\n",
       "    .dataframe tbody tr th {\n",
       "        vertical-align: top;\n",
       "    }\n",
       "\n",
       "    .dataframe thead th {\n",
       "        text-align: right;\n",
       "    }\n",
       "</style>\n",
       "<table border=\"1\" class=\"dataframe\">\n",
       "  <thead>\n",
       "    <tr style=\"text-align: right;\">\n",
       "      <th></th>\n",
       "      <th>id</th>\n",
       "      <th>Area(total)</th>\n",
       "      <th>Troom</th>\n",
       "      <th>Nbedrooms</th>\n",
       "      <th>Nbwashrooms</th>\n",
       "      <th>Twashrooms</th>\n",
       "      <th>roof</th>\n",
       "      <th>Roof(Area)</th>\n",
       "      <th>Lawn(Area)</th>\n",
       "      <th>Nfloors</th>\n",
       "      <th>API</th>\n",
       "      <th>ANB</th>\n",
       "      <th>Grade</th>\n",
       "      <th>EXPECTED</th>\n",
       "    </tr>\n",
       "  </thead>\n",
       "  <tbody>\n",
       "    <tr>\n",
       "      <th>6995</th>\n",
       "      <td>6996</td>\n",
       "      <td>306</td>\n",
       "      <td>8.0</td>\n",
       "      <td>2.0</td>\n",
       "      <td>1.0</td>\n",
       "      <td>3.0</td>\n",
       "      <td>NaN</td>\n",
       "      <td>NaN</td>\n",
       "      <td>78.0</td>\n",
       "      <td>1</td>\n",
       "      <td>73.0</td>\n",
       "      <td>5</td>\n",
       "      <td>D</td>\n",
       "      <td>3717$</td>\n",
       "    </tr>\n",
       "    <tr>\n",
       "      <th>6996</th>\n",
       "      <td>6997</td>\n",
       "      <td>341</td>\n",
       "      <td>5.0</td>\n",
       "      <td>3.0</td>\n",
       "      <td>2.0</td>\n",
       "      <td>4.0</td>\n",
       "      <td>YES</td>\n",
       "      <td>100.0</td>\n",
       "      <td>72.0</td>\n",
       "      <td>4</td>\n",
       "      <td>76.0</td>\n",
       "      <td>4</td>\n",
       "      <td>D</td>\n",
       "      <td>3339$</td>\n",
       "    </tr>\n",
       "    <tr>\n",
       "      <th>6997</th>\n",
       "      <td>6998</td>\n",
       "      <td>306</td>\n",
       "      <td>6.0</td>\n",
       "      <td>4.0</td>\n",
       "      <td>2.0</td>\n",
       "      <td>4.0</td>\n",
       "      <td>yes</td>\n",
       "      <td>83.0</td>\n",
       "      <td>80.0</td>\n",
       "      <td>4</td>\n",
       "      <td>96.0</td>\n",
       "      <td>4</td>\n",
       "      <td>D</td>\n",
       "      <td>3829$</td>\n",
       "    </tr>\n",
       "    <tr>\n",
       "      <th>6998</th>\n",
       "      <td>6999</td>\n",
       "      <td>338</td>\n",
       "      <td>8.0</td>\n",
       "      <td>7.0</td>\n",
       "      <td>6.0</td>\n",
       "      <td>7.0</td>\n",
       "      <td>NO</td>\n",
       "      <td>0.0</td>\n",
       "      <td>95.0</td>\n",
       "      <td>4</td>\n",
       "      <td>84.0</td>\n",
       "      <td>1</td>\n",
       "      <td>B</td>\n",
       "      <td>4488$</td>\n",
       "    </tr>\n",
       "    <tr>\n",
       "      <th>6999</th>\n",
       "      <td>7000</td>\n",
       "      <td>314</td>\n",
       "      <td>5.0</td>\n",
       "      <td>6.0</td>\n",
       "      <td>4.0</td>\n",
       "      <td>6.0</td>\n",
       "      <td>yes</td>\n",
       "      <td>109.0</td>\n",
       "      <td>80.0</td>\n",
       "      <td>4</td>\n",
       "      <td>96.0</td>\n",
       "      <td>2</td>\n",
       "      <td>C</td>\n",
       "      <td>3418$</td>\n",
       "    </tr>\n",
       "  </tbody>\n",
       "</table>\n",
       "</div>"
      ],
      "text/plain": [
       "        id  Area(total)  Troom  Nbedrooms  Nbwashrooms  Twashrooms roof  \\\n",
       "6995  6996          306    8.0        2.0          1.0         3.0  NaN   \n",
       "6996  6997          341    5.0        3.0          2.0         4.0  YES   \n",
       "6997  6998          306    6.0        4.0          2.0         4.0  yes   \n",
       "6998  6999          338    8.0        7.0          6.0         7.0   NO   \n",
       "6999  7000          314    5.0        6.0          4.0         6.0  yes   \n",
       "\n",
       "      Roof(Area)  Lawn(Area)  Nfloors   API  ANB Grade EXPECTED  \n",
       "6995         NaN        78.0        1  73.0    5     D    3717$  \n",
       "6996       100.0        72.0        4  76.0    4     D    3339$  \n",
       "6997        83.0        80.0        4  96.0    4     D    3829$  \n",
       "6998         0.0        95.0        4  84.0    1     B    4488$  \n",
       "6999       109.0        80.0        4  96.0    2     C    3418$  "
      ]
     },
     "execution_count": 5,
     "metadata": {},
     "output_type": "execute_result"
    }
   ],
   "source": [
    "# tail() function is access or to show the row and columns in the file\n",
    "# by deafault tail() gives first 5 rows\n",
    "grade_tr.tail()"
   ]
  },
  {
   "cell_type": "code",
   "execution_count": 6,
   "id": "48337101",
   "metadata": {},
   "outputs": [
    {
     "data": {
      "text/plain": [
       "(7000, 14)"
      ]
     },
     "execution_count": 6,
     "metadata": {},
     "output_type": "execute_result"
    }
   ],
   "source": [
    "# to fetch the total number of (rows,columns)\n",
    "grade_tr.shape"
   ]
  },
  {
   "cell_type": "code",
   "execution_count": 7,
   "id": "eb027783",
   "metadata": {},
   "outputs": [
    {
     "data": {
      "text/html": [
       "<div>\n",
       "<style scoped>\n",
       "    .dataframe tbody tr th:only-of-type {\n",
       "        vertical-align: middle;\n",
       "    }\n",
       "\n",
       "    .dataframe tbody tr th {\n",
       "        vertical-align: top;\n",
       "    }\n",
       "\n",
       "    .dataframe thead th {\n",
       "        text-align: right;\n",
       "    }\n",
       "</style>\n",
       "<table border=\"1\" class=\"dataframe\">\n",
       "  <thead>\n",
       "    <tr style=\"text-align: right;\">\n",
       "      <th></th>\n",
       "      <th>id</th>\n",
       "      <th>Area(total)</th>\n",
       "      <th>Troom</th>\n",
       "      <th>Nbedrooms</th>\n",
       "      <th>Nbwashrooms</th>\n",
       "      <th>Twashrooms</th>\n",
       "      <th>Roof(Area)</th>\n",
       "      <th>Lawn(Area)</th>\n",
       "      <th>Nfloors</th>\n",
       "      <th>API</th>\n",
       "      <th>ANB</th>\n",
       "    </tr>\n",
       "  </thead>\n",
       "  <tbody>\n",
       "    <tr>\n",
       "      <th>count</th>\n",
       "      <td>7000.000000</td>\n",
       "      <td>7000.000000</td>\n",
       "      <td>6998.000000</td>\n",
       "      <td>6997.000000</td>\n",
       "      <td>6998.000000</td>\n",
       "      <td>6999.000000</td>\n",
       "      <td>5647.000000</td>\n",
       "      <td>6998.000000</td>\n",
       "      <td>7000.000000</td>\n",
       "      <td>6999.000000</td>\n",
       "      <td>7000.000000</td>\n",
       "    </tr>\n",
       "    <tr>\n",
       "      <th>mean</th>\n",
       "      <td>3500.500000</td>\n",
       "      <td>325.225571</td>\n",
       "      <td>7.012146</td>\n",
       "      <td>4.992568</td>\n",
       "      <td>4.004716</td>\n",
       "      <td>5.501357</td>\n",
       "      <td>47.202763</td>\n",
       "      <td>89.957988</td>\n",
       "      <td>4.509429</td>\n",
       "      <td>78.975711</td>\n",
       "      <td>3.494714</td>\n",
       "    </tr>\n",
       "    <tr>\n",
       "      <th>std</th>\n",
       "      <td>2020.870275</td>\n",
       "      <td>20.550583</td>\n",
       "      <td>1.420061</td>\n",
       "      <td>1.653418</td>\n",
       "      <td>1.596984</td>\n",
       "      <td>1.509129</td>\n",
       "      <td>48.806472</td>\n",
       "      <td>11.812719</td>\n",
       "      <td>1.831187</td>\n",
       "      <td>11.852443</td>\n",
       "      <td>1.700449</td>\n",
       "    </tr>\n",
       "    <tr>\n",
       "      <th>min</th>\n",
       "      <td>1.000000</td>\n",
       "      <td>290.000000</td>\n",
       "      <td>5.000000</td>\n",
       "      <td>2.000000</td>\n",
       "      <td>1.000000</td>\n",
       "      <td>3.000000</td>\n",
       "      <td>0.000000</td>\n",
       "      <td>70.000000</td>\n",
       "      <td>1.000000</td>\n",
       "      <td>59.000000</td>\n",
       "      <td>1.000000</td>\n",
       "    </tr>\n",
       "    <tr>\n",
       "      <th>25%</th>\n",
       "      <td>1750.750000</td>\n",
       "      <td>307.000000</td>\n",
       "      <td>6.000000</td>\n",
       "      <td>4.000000</td>\n",
       "      <td>3.000000</td>\n",
       "      <td>4.000000</td>\n",
       "      <td>0.000000</td>\n",
       "      <td>80.000000</td>\n",
       "      <td>3.000000</td>\n",
       "      <td>69.000000</td>\n",
       "      <td>2.000000</td>\n",
       "    </tr>\n",
       "    <tr>\n",
       "      <th>50%</th>\n",
       "      <td>3500.500000</td>\n",
       "      <td>326.000000</td>\n",
       "      <td>7.000000</td>\n",
       "      <td>5.000000</td>\n",
       "      <td>4.000000</td>\n",
       "      <td>5.000000</td>\n",
       "      <td>0.000000</td>\n",
       "      <td>90.000000</td>\n",
       "      <td>5.000000</td>\n",
       "      <td>79.000000</td>\n",
       "      <td>3.000000</td>\n",
       "    </tr>\n",
       "    <tr>\n",
       "      <th>75%</th>\n",
       "      <td>5250.250000</td>\n",
       "      <td>343.000000</td>\n",
       "      <td>8.000000</td>\n",
       "      <td>6.000000</td>\n",
       "      <td>5.000000</td>\n",
       "      <td>7.000000</td>\n",
       "      <td>95.000000</td>\n",
       "      <td>100.000000</td>\n",
       "      <td>6.000000</td>\n",
       "      <td>89.000000</td>\n",
       "      <td>5.000000</td>\n",
       "    </tr>\n",
       "    <tr>\n",
       "      <th>max</th>\n",
       "      <td>7000.000000</td>\n",
       "      <td>360.000000</td>\n",
       "      <td>9.000000</td>\n",
       "      <td>8.000000</td>\n",
       "      <td>7.000000</td>\n",
       "      <td>8.000000</td>\n",
       "      <td>120.000000</td>\n",
       "      <td>110.000000</td>\n",
       "      <td>8.000000</td>\n",
       "      <td>99.000000</td>\n",
       "      <td>6.000000</td>\n",
       "    </tr>\n",
       "  </tbody>\n",
       "</table>\n",
       "</div>"
      ],
      "text/plain": [
       "                id  Area(total)        Troom    Nbedrooms  Nbwashrooms  \\\n",
       "count  7000.000000  7000.000000  6998.000000  6997.000000  6998.000000   \n",
       "mean   3500.500000   325.225571     7.012146     4.992568     4.004716   \n",
       "std    2020.870275    20.550583     1.420061     1.653418     1.596984   \n",
       "min       1.000000   290.000000     5.000000     2.000000     1.000000   \n",
       "25%    1750.750000   307.000000     6.000000     4.000000     3.000000   \n",
       "50%    3500.500000   326.000000     7.000000     5.000000     4.000000   \n",
       "75%    5250.250000   343.000000     8.000000     6.000000     5.000000   \n",
       "max    7000.000000   360.000000     9.000000     8.000000     7.000000   \n",
       "\n",
       "        Twashrooms   Roof(Area)   Lawn(Area)      Nfloors          API  \\\n",
       "count  6999.000000  5647.000000  6998.000000  7000.000000  6999.000000   \n",
       "mean      5.501357    47.202763    89.957988     4.509429    78.975711   \n",
       "std       1.509129    48.806472    11.812719     1.831187    11.852443   \n",
       "min       3.000000     0.000000    70.000000     1.000000    59.000000   \n",
       "25%       4.000000     0.000000    80.000000     3.000000    69.000000   \n",
       "50%       5.000000     0.000000    90.000000     5.000000    79.000000   \n",
       "75%       7.000000    95.000000   100.000000     6.000000    89.000000   \n",
       "max       8.000000   120.000000   110.000000     8.000000    99.000000   \n",
       "\n",
       "               ANB  \n",
       "count  7000.000000  \n",
       "mean      3.494714  \n",
       "std       1.700449  \n",
       "min       1.000000  \n",
       "25%       2.000000  \n",
       "50%       3.000000  \n",
       "75%       5.000000  \n",
       "max       6.000000  "
      ]
     },
     "execution_count": 7,
     "metadata": {},
     "output_type": "execute_result"
    }
   ],
   "source": [
    "# Descriptive statistics\n",
    "grade_tr.describe()"
   ]
  },
  {
   "cell_type": "code",
   "execution_count": 8,
   "id": "a394734c",
   "metadata": {},
   "outputs": [
    {
     "name": "stdout",
     "output_type": "stream",
     "text": [
      "<class 'pandas.core.frame.DataFrame'>\n",
      "RangeIndex: 7000 entries, 0 to 6999\n",
      "Data columns (total 14 columns):\n",
      " #   Column       Non-Null Count  Dtype  \n",
      "---  ------       --------------  -----  \n",
      " 0   id           7000 non-null   int64  \n",
      " 1   Area(total)  7000 non-null   int64  \n",
      " 2   Troom        6998 non-null   float64\n",
      " 3   Nbedrooms    6997 non-null   float64\n",
      " 4   Nbwashrooms  6998 non-null   float64\n",
      " 5   Twashrooms   6999 non-null   float64\n",
      " 6   roof         5647 non-null   object \n",
      " 7   Roof(Area)   5647 non-null   float64\n",
      " 8   Lawn(Area)   6998 non-null   float64\n",
      " 9   Nfloors      7000 non-null   int64  \n",
      " 10  API          6999 non-null   float64\n",
      " 11  ANB          7000 non-null   int64  \n",
      " 12  Grade        7000 non-null   object \n",
      " 13  EXPECTED     7000 non-null   object \n",
      "dtypes: float64(7), int64(4), object(3)\n",
      "memory usage: 765.8+ KB\n"
     ]
    }
   ],
   "source": [
    "#info() is used to get the total information about the file like no of rows and columns\n",
    "grade_tr.info()"
   ]
  },
  {
   "cell_type": "code",
   "execution_count": 9,
   "id": "7b630bd5",
   "metadata": {},
   "outputs": [
    {
     "data": {
      "text/html": [
       "<div>\n",
       "<style scoped>\n",
       "    .dataframe tbody tr th:only-of-type {\n",
       "        vertical-align: middle;\n",
       "    }\n",
       "\n",
       "    .dataframe tbody tr th {\n",
       "        vertical-align: top;\n",
       "    }\n",
       "\n",
       "    .dataframe thead th {\n",
       "        text-align: right;\n",
       "    }\n",
       "</style>\n",
       "<table border=\"1\" class=\"dataframe\">\n",
       "  <thead>\n",
       "    <tr style=\"text-align: right;\">\n",
       "      <th></th>\n",
       "      <th>id</th>\n",
       "      <th>Area(total)</th>\n",
       "      <th>Troom</th>\n",
       "      <th>Nbedrooms</th>\n",
       "      <th>Nbwashrooms</th>\n",
       "      <th>Twashrooms</th>\n",
       "      <th>roof</th>\n",
       "      <th>Roof(Area)</th>\n",
       "      <th>Lawn(Area)</th>\n",
       "      <th>Nfloors</th>\n",
       "      <th>API</th>\n",
       "      <th>ANB</th>\n",
       "      <th>EXPECTED</th>\n",
       "    </tr>\n",
       "  </thead>\n",
       "  <tbody>\n",
       "    <tr>\n",
       "      <th>0</th>\n",
       "      <td>1</td>\n",
       "      <td>348</td>\n",
       "      <td>9.0</td>\n",
       "      <td>5.0</td>\n",
       "      <td>3.0</td>\n",
       "      <td>5</td>\n",
       "      <td>NaN</td>\n",
       "      <td>NaN</td>\n",
       "      <td>84.0</td>\n",
       "      <td>5</td>\n",
       "      <td>91.0</td>\n",
       "      <td>6</td>\n",
       "      <td>4422$</td>\n",
       "    </tr>\n",
       "    <tr>\n",
       "      <th>1</th>\n",
       "      <td>2</td>\n",
       "      <td>311</td>\n",
       "      <td>6.0</td>\n",
       "      <td>5.0</td>\n",
       "      <td>5.0</td>\n",
       "      <td>6</td>\n",
       "      <td>NO</td>\n",
       "      <td>0.0</td>\n",
       "      <td>86.0</td>\n",
       "      <td>6</td>\n",
       "      <td>83.0</td>\n",
       "      <td>4</td>\n",
       "      <td>3432$</td>\n",
       "    </tr>\n",
       "    <tr>\n",
       "      <th>2</th>\n",
       "      <td>3</td>\n",
       "      <td>342</td>\n",
       "      <td>5.0</td>\n",
       "      <td>6.0</td>\n",
       "      <td>6.0</td>\n",
       "      <td>7</td>\n",
       "      <td>yes</td>\n",
       "      <td>120.0</td>\n",
       "      <td>85.0</td>\n",
       "      <td>4</td>\n",
       "      <td>95.0</td>\n",
       "      <td>5</td>\n",
       "      <td>4066$</td>\n",
       "    </tr>\n",
       "    <tr>\n",
       "      <th>3</th>\n",
       "      <td>4</td>\n",
       "      <td>329</td>\n",
       "      <td>7.0</td>\n",
       "      <td>7.0</td>\n",
       "      <td>4.0</td>\n",
       "      <td>6</td>\n",
       "      <td>NaN</td>\n",
       "      <td>NaN</td>\n",
       "      <td>105.0</td>\n",
       "      <td>5</td>\n",
       "      <td>97.0</td>\n",
       "      <td>6</td>\n",
       "      <td>4322$</td>\n",
       "    </tr>\n",
       "    <tr>\n",
       "      <th>4</th>\n",
       "      <td>5</td>\n",
       "      <td>307</td>\n",
       "      <td>6.0</td>\n",
       "      <td>2.0</td>\n",
       "      <td>3.0</td>\n",
       "      <td>4</td>\n",
       "      <td>no</td>\n",
       "      <td>0.0</td>\n",
       "      <td>76.0</td>\n",
       "      <td>2</td>\n",
       "      <td>64.0</td>\n",
       "      <td>4</td>\n",
       "      <td>3031$</td>\n",
       "    </tr>\n",
       "  </tbody>\n",
       "</table>\n",
       "</div>"
      ],
      "text/plain": [
       "   id  Area(total)  Troom  Nbedrooms  Nbwashrooms  Twashrooms roof  \\\n",
       "0   1          348    9.0        5.0          3.0           5  NaN   \n",
       "1   2          311    6.0        5.0          5.0           6   NO   \n",
       "2   3          342    5.0        6.0          6.0           7  yes   \n",
       "3   4          329    7.0        7.0          4.0           6  NaN   \n",
       "4   5          307    6.0        2.0          3.0           4   no   \n",
       "\n",
       "   Roof(Area)  Lawn(Area)  Nfloors   API  ANB EXPECTED  \n",
       "0         NaN        84.0        5  91.0    6    4422$  \n",
       "1         0.0        86.0        6  83.0    4    3432$  \n",
       "2       120.0        85.0        4  95.0    5    4066$  \n",
       "3         NaN       105.0        5  97.0    6    4322$  \n",
       "4         0.0        76.0        2  64.0    4    3031$  "
      ]
     },
     "execution_count": 9,
     "metadata": {},
     "output_type": "execute_result"
    }
   ],
   "source": [
    "grade_tt.head()"
   ]
  },
  {
   "cell_type": "code",
   "execution_count": 10,
   "id": "21bfb297",
   "metadata": {},
   "outputs": [
    {
     "data": {
      "text/html": [
       "<div>\n",
       "<style scoped>\n",
       "    .dataframe tbody tr th:only-of-type {\n",
       "        vertical-align: middle;\n",
       "    }\n",
       "\n",
       "    .dataframe tbody tr th {\n",
       "        vertical-align: top;\n",
       "    }\n",
       "\n",
       "    .dataframe thead th {\n",
       "        text-align: right;\n",
       "    }\n",
       "</style>\n",
       "<table border=\"1\" class=\"dataframe\">\n",
       "  <thead>\n",
       "    <tr style=\"text-align: right;\">\n",
       "      <th></th>\n",
       "      <th>id</th>\n",
       "      <th>Area(total)</th>\n",
       "      <th>Troom</th>\n",
       "      <th>Nbedrooms</th>\n",
       "      <th>Nbwashrooms</th>\n",
       "      <th>Twashrooms</th>\n",
       "      <th>roof</th>\n",
       "      <th>Roof(Area)</th>\n",
       "      <th>Lawn(Area)</th>\n",
       "      <th>Nfloors</th>\n",
       "      <th>API</th>\n",
       "      <th>ANB</th>\n",
       "      <th>EXPECTED</th>\n",
       "    </tr>\n",
       "  </thead>\n",
       "  <tbody>\n",
       "    <tr>\n",
       "      <th>3294</th>\n",
       "      <td>3295</td>\n",
       "      <td>349</td>\n",
       "      <td>7.0</td>\n",
       "      <td>3.0</td>\n",
       "      <td>3.0</td>\n",
       "      <td>4</td>\n",
       "      <td>NaN</td>\n",
       "      <td>NaN</td>\n",
       "      <td>100.0</td>\n",
       "      <td>5</td>\n",
       "      <td>89.0</td>\n",
       "      <td>4</td>\n",
       "      <td>3858$</td>\n",
       "    </tr>\n",
       "    <tr>\n",
       "      <th>3295</th>\n",
       "      <td>3296</td>\n",
       "      <td>338</td>\n",
       "      <td>7.0</td>\n",
       "      <td>3.0</td>\n",
       "      <td>2.0</td>\n",
       "      <td>4</td>\n",
       "      <td>NO</td>\n",
       "      <td>0.0</td>\n",
       "      <td>87.0</td>\n",
       "      <td>3</td>\n",
       "      <td>75.0</td>\n",
       "      <td>6</td>\n",
       "      <td>3714$</td>\n",
       "    </tr>\n",
       "    <tr>\n",
       "      <th>3296</th>\n",
       "      <td>3297</td>\n",
       "      <td>307</td>\n",
       "      <td>8.0</td>\n",
       "      <td>4.0</td>\n",
       "      <td>5.0</td>\n",
       "      <td>6</td>\n",
       "      <td>yes</td>\n",
       "      <td>88.0</td>\n",
       "      <td>88.0</td>\n",
       "      <td>4</td>\n",
       "      <td>83.0</td>\n",
       "      <td>6</td>\n",
       "      <td>3824$</td>\n",
       "    </tr>\n",
       "    <tr>\n",
       "      <th>3297</th>\n",
       "      <td>3298</td>\n",
       "      <td>352</td>\n",
       "      <td>5.0</td>\n",
       "      <td>3.0</td>\n",
       "      <td>4.0</td>\n",
       "      <td>5</td>\n",
       "      <td>YES</td>\n",
       "      <td>88.0</td>\n",
       "      <td>100.0</td>\n",
       "      <td>2</td>\n",
       "      <td>99.0</td>\n",
       "      <td>4</td>\n",
       "      <td>3533$</td>\n",
       "    </tr>\n",
       "    <tr>\n",
       "      <th>3298</th>\n",
       "      <td>3299</td>\n",
       "      <td>329</td>\n",
       "      <td>5.0</td>\n",
       "      <td>3.0</td>\n",
       "      <td>1.0</td>\n",
       "      <td>3</td>\n",
       "      <td>yes</td>\n",
       "      <td>82.0</td>\n",
       "      <td>83.0</td>\n",
       "      <td>3</td>\n",
       "      <td>97.0</td>\n",
       "      <td>5</td>\n",
       "      <td>3404$</td>\n",
       "    </tr>\n",
       "  </tbody>\n",
       "</table>\n",
       "</div>"
      ],
      "text/plain": [
       "        id  Area(total)  Troom  Nbedrooms  Nbwashrooms  Twashrooms roof  \\\n",
       "3294  3295          349    7.0        3.0          3.0           4  NaN   \n",
       "3295  3296          338    7.0        3.0          2.0           4   NO   \n",
       "3296  3297          307    8.0        4.0          5.0           6  yes   \n",
       "3297  3298          352    5.0        3.0          4.0           5  YES   \n",
       "3298  3299          329    5.0        3.0          1.0           3  yes   \n",
       "\n",
       "      Roof(Area)  Lawn(Area)  Nfloors   API  ANB EXPECTED  \n",
       "3294         NaN       100.0        5  89.0    4    3858$  \n",
       "3295         0.0        87.0        3  75.0    6    3714$  \n",
       "3296        88.0        88.0        4  83.0    6    3824$  \n",
       "3297        88.0       100.0        2  99.0    4    3533$  \n",
       "3298        82.0        83.0        3  97.0    5    3404$  "
      ]
     },
     "execution_count": 10,
     "metadata": {},
     "output_type": "execute_result"
    }
   ],
   "source": [
    "grade_tt.tail()"
   ]
  },
  {
   "cell_type": "code",
   "execution_count": 11,
   "id": "75f0c406",
   "metadata": {},
   "outputs": [
    {
     "data": {
      "text/plain": [
       "(3299, 13)"
      ]
     },
     "execution_count": 11,
     "metadata": {},
     "output_type": "execute_result"
    }
   ],
   "source": [
    "grade_tt.shape"
   ]
  },
  {
   "cell_type": "code",
   "execution_count": 12,
   "id": "47e27377",
   "metadata": {},
   "outputs": [
    {
     "data": {
      "text/html": [
       "<div>\n",
       "<style scoped>\n",
       "    .dataframe tbody tr th:only-of-type {\n",
       "        vertical-align: middle;\n",
       "    }\n",
       "\n",
       "    .dataframe tbody tr th {\n",
       "        vertical-align: top;\n",
       "    }\n",
       "\n",
       "    .dataframe thead th {\n",
       "        text-align: right;\n",
       "    }\n",
       "</style>\n",
       "<table border=\"1\" class=\"dataframe\">\n",
       "  <thead>\n",
       "    <tr style=\"text-align: right;\">\n",
       "      <th></th>\n",
       "      <th>id</th>\n",
       "      <th>Area(total)</th>\n",
       "      <th>Troom</th>\n",
       "      <th>Nbedrooms</th>\n",
       "      <th>Nbwashrooms</th>\n",
       "      <th>Twashrooms</th>\n",
       "      <th>Roof(Area)</th>\n",
       "      <th>Lawn(Area)</th>\n",
       "      <th>Nfloors</th>\n",
       "      <th>API</th>\n",
       "      <th>ANB</th>\n",
       "    </tr>\n",
       "  </thead>\n",
       "  <tbody>\n",
       "    <tr>\n",
       "      <th>count</th>\n",
       "      <td>3299.000000</td>\n",
       "      <td>3299.000000</td>\n",
       "      <td>3298.000000</td>\n",
       "      <td>3298.000000</td>\n",
       "      <td>3298.000000</td>\n",
       "      <td>3299.000000</td>\n",
       "      <td>2646.000000</td>\n",
       "      <td>3298.000000</td>\n",
       "      <td>3299.000000</td>\n",
       "      <td>3298.000000</td>\n",
       "      <td>3299.000000</td>\n",
       "    </tr>\n",
       "    <tr>\n",
       "      <th>mean</th>\n",
       "      <td>1650.000000</td>\n",
       "      <td>324.530464</td>\n",
       "      <td>6.982110</td>\n",
       "      <td>5.001516</td>\n",
       "      <td>4.006367</td>\n",
       "      <td>5.501667</td>\n",
       "      <td>47.267196</td>\n",
       "      <td>90.130079</td>\n",
       "      <td>4.507123</td>\n",
       "      <td>79.142207</td>\n",
       "      <td>3.493483</td>\n",
       "    </tr>\n",
       "    <tr>\n",
       "      <th>std</th>\n",
       "      <td>952.483596</td>\n",
       "      <td>20.329783</td>\n",
       "      <td>1.419773</td>\n",
       "      <td>1.625266</td>\n",
       "      <td>1.547437</td>\n",
       "      <td>1.467532</td>\n",
       "      <td>48.943608</td>\n",
       "      <td>11.849568</td>\n",
       "      <td>1.780613</td>\n",
       "      <td>11.812589</td>\n",
       "      <td>1.696732</td>\n",
       "    </tr>\n",
       "    <tr>\n",
       "      <th>min</th>\n",
       "      <td>1.000000</td>\n",
       "      <td>290.000000</td>\n",
       "      <td>5.000000</td>\n",
       "      <td>2.000000</td>\n",
       "      <td>1.000000</td>\n",
       "      <td>3.000000</td>\n",
       "      <td>0.000000</td>\n",
       "      <td>70.000000</td>\n",
       "      <td>1.000000</td>\n",
       "      <td>59.000000</td>\n",
       "      <td>1.000000</td>\n",
       "    </tr>\n",
       "    <tr>\n",
       "      <th>25%</th>\n",
       "      <td>825.500000</td>\n",
       "      <td>307.000000</td>\n",
       "      <td>6.000000</td>\n",
       "      <td>4.000000</td>\n",
       "      <td>3.000000</td>\n",
       "      <td>4.000000</td>\n",
       "      <td>0.000000</td>\n",
       "      <td>80.000000</td>\n",
       "      <td>3.000000</td>\n",
       "      <td>69.000000</td>\n",
       "      <td>2.000000</td>\n",
       "    </tr>\n",
       "    <tr>\n",
       "      <th>50%</th>\n",
       "      <td>1650.000000</td>\n",
       "      <td>324.000000</td>\n",
       "      <td>7.000000</td>\n",
       "      <td>5.000000</td>\n",
       "      <td>4.000000</td>\n",
       "      <td>6.000000</td>\n",
       "      <td>0.000000</td>\n",
       "      <td>90.000000</td>\n",
       "      <td>5.000000</td>\n",
       "      <td>79.000000</td>\n",
       "      <td>3.000000</td>\n",
       "    </tr>\n",
       "    <tr>\n",
       "      <th>75%</th>\n",
       "      <td>2474.500000</td>\n",
       "      <td>342.000000</td>\n",
       "      <td>8.000000</td>\n",
       "      <td>6.000000</td>\n",
       "      <td>5.000000</td>\n",
       "      <td>7.000000</td>\n",
       "      <td>95.000000</td>\n",
       "      <td>100.000000</td>\n",
       "      <td>6.000000</td>\n",
       "      <td>89.000000</td>\n",
       "      <td>5.000000</td>\n",
       "    </tr>\n",
       "    <tr>\n",
       "      <th>max</th>\n",
       "      <td>3299.000000</td>\n",
       "      <td>360.000000</td>\n",
       "      <td>9.000000</td>\n",
       "      <td>8.000000</td>\n",
       "      <td>7.000000</td>\n",
       "      <td>8.000000</td>\n",
       "      <td>120.000000</td>\n",
       "      <td>110.000000</td>\n",
       "      <td>8.000000</td>\n",
       "      <td>99.000000</td>\n",
       "      <td>6.000000</td>\n",
       "    </tr>\n",
       "  </tbody>\n",
       "</table>\n",
       "</div>"
      ],
      "text/plain": [
       "                id  Area(total)        Troom    Nbedrooms  Nbwashrooms  \\\n",
       "count  3299.000000  3299.000000  3298.000000  3298.000000  3298.000000   \n",
       "mean   1650.000000   324.530464     6.982110     5.001516     4.006367   \n",
       "std     952.483596    20.329783     1.419773     1.625266     1.547437   \n",
       "min       1.000000   290.000000     5.000000     2.000000     1.000000   \n",
       "25%     825.500000   307.000000     6.000000     4.000000     3.000000   \n",
       "50%    1650.000000   324.000000     7.000000     5.000000     4.000000   \n",
       "75%    2474.500000   342.000000     8.000000     6.000000     5.000000   \n",
       "max    3299.000000   360.000000     9.000000     8.000000     7.000000   \n",
       "\n",
       "        Twashrooms   Roof(Area)   Lawn(Area)      Nfloors          API  \\\n",
       "count  3299.000000  2646.000000  3298.000000  3299.000000  3298.000000   \n",
       "mean      5.501667    47.267196    90.130079     4.507123    79.142207   \n",
       "std       1.467532    48.943608    11.849568     1.780613    11.812589   \n",
       "min       3.000000     0.000000    70.000000     1.000000    59.000000   \n",
       "25%       4.000000     0.000000    80.000000     3.000000    69.000000   \n",
       "50%       6.000000     0.000000    90.000000     5.000000    79.000000   \n",
       "75%       7.000000    95.000000   100.000000     6.000000    89.000000   \n",
       "max       8.000000   120.000000   110.000000     8.000000    99.000000   \n",
       "\n",
       "               ANB  \n",
       "count  3299.000000  \n",
       "mean      3.493483  \n",
       "std       1.696732  \n",
       "min       1.000000  \n",
       "25%       2.000000  \n",
       "50%       3.000000  \n",
       "75%       5.000000  \n",
       "max       6.000000  "
      ]
     },
     "execution_count": 12,
     "metadata": {},
     "output_type": "execute_result"
    }
   ],
   "source": [
    "grade_tt.describe()"
   ]
  },
  {
   "cell_type": "code",
   "execution_count": 13,
   "id": "a98396ae",
   "metadata": {},
   "outputs": [
    {
     "name": "stdout",
     "output_type": "stream",
     "text": [
      "<class 'pandas.core.frame.DataFrame'>\n",
      "RangeIndex: 3299 entries, 0 to 3298\n",
      "Data columns (total 13 columns):\n",
      " #   Column       Non-Null Count  Dtype  \n",
      "---  ------       --------------  -----  \n",
      " 0   id           3299 non-null   int64  \n",
      " 1   Area(total)  3299 non-null   int64  \n",
      " 2   Troom        3298 non-null   float64\n",
      " 3   Nbedrooms    3298 non-null   float64\n",
      " 4   Nbwashrooms  3298 non-null   float64\n",
      " 5   Twashrooms   3299 non-null   int64  \n",
      " 6   roof         2646 non-null   object \n",
      " 7   Roof(Area)   2646 non-null   float64\n",
      " 8   Lawn(Area)   3298 non-null   float64\n",
      " 9   Nfloors      3299 non-null   int64  \n",
      " 10  API          3298 non-null   float64\n",
      " 11  ANB          3299 non-null   int64  \n",
      " 12  EXPECTED     3299 non-null   object \n",
      "dtypes: float64(6), int64(5), object(2)\n",
      "memory usage: 335.2+ KB\n"
     ]
    }
   ],
   "source": [
    "grade_tt.info()"
   ]
  },
  {
   "cell_type": "code",
   "execution_count": 14,
   "id": "103c2813",
   "metadata": {},
   "outputs": [],
   "source": [
    "grade_tt['Grade']='Missing'"
   ]
  },
  {
   "cell_type": "code",
   "execution_count": 15,
   "id": "8b417292",
   "metadata": {},
   "outputs": [
    {
     "name": "stdout",
     "output_type": "stream",
     "text": [
      "<class 'pandas.core.frame.DataFrame'>\n",
      "RangeIndex: 3299 entries, 0 to 3298\n",
      "Data columns (total 14 columns):\n",
      " #   Column       Non-Null Count  Dtype  \n",
      "---  ------       --------------  -----  \n",
      " 0   id           3299 non-null   int64  \n",
      " 1   Area(total)  3299 non-null   int64  \n",
      " 2   Troom        3298 non-null   float64\n",
      " 3   Nbedrooms    3298 non-null   float64\n",
      " 4   Nbwashrooms  3298 non-null   float64\n",
      " 5   Twashrooms   3299 non-null   int64  \n",
      " 6   roof         2646 non-null   object \n",
      " 7   Roof(Area)   2646 non-null   float64\n",
      " 8   Lawn(Area)   3298 non-null   float64\n",
      " 9   Nfloors      3299 non-null   int64  \n",
      " 10  API          3298 non-null   float64\n",
      " 11  ANB          3299 non-null   int64  \n",
      " 12  EXPECTED     3299 non-null   object \n",
      " 13  Grade        3299 non-null   object \n",
      "dtypes: float64(6), int64(5), object(3)\n",
      "memory usage: 361.0+ KB\n"
     ]
    }
   ],
   "source": [
    "grade_tt.info()"
   ]
  },
  {
   "cell_type": "code",
   "execution_count": 16,
   "id": "b35b25b5",
   "metadata": {},
   "outputs": [],
   "source": [
    "combine_df=pd.concat([grade_tr,grade_tt],axis=0,ignore_index=True)"
   ]
  },
  {
   "cell_type": "code",
   "execution_count": 17,
   "id": "a0ad7928",
   "metadata": {},
   "outputs": [
    {
     "data": {
      "text/html": [
       "<div>\n",
       "<style scoped>\n",
       "    .dataframe tbody tr th:only-of-type {\n",
       "        vertical-align: middle;\n",
       "    }\n",
       "\n",
       "    .dataframe tbody tr th {\n",
       "        vertical-align: top;\n",
       "    }\n",
       "\n",
       "    .dataframe thead th {\n",
       "        text-align: right;\n",
       "    }\n",
       "</style>\n",
       "<table border=\"1\" class=\"dataframe\">\n",
       "  <thead>\n",
       "    <tr style=\"text-align: right;\">\n",
       "      <th></th>\n",
       "      <th>id</th>\n",
       "      <th>Area(total)</th>\n",
       "      <th>Troom</th>\n",
       "      <th>Nbedrooms</th>\n",
       "      <th>Nbwashrooms</th>\n",
       "      <th>Twashrooms</th>\n",
       "      <th>roof</th>\n",
       "      <th>Roof(Area)</th>\n",
       "      <th>Lawn(Area)</th>\n",
       "      <th>Nfloors</th>\n",
       "      <th>API</th>\n",
       "      <th>ANB</th>\n",
       "      <th>Grade</th>\n",
       "      <th>EXPECTED</th>\n",
       "    </tr>\n",
       "  </thead>\n",
       "  <tbody>\n",
       "    <tr>\n",
       "      <th>0</th>\n",
       "      <td>1</td>\n",
       "      <td>305</td>\n",
       "      <td>8.0</td>\n",
       "      <td>2.0</td>\n",
       "      <td>1.0</td>\n",
       "      <td>3.0</td>\n",
       "      <td>NO</td>\n",
       "      <td>0.0</td>\n",
       "      <td>76.0</td>\n",
       "      <td>2</td>\n",
       "      <td>63.0</td>\n",
       "      <td>4</td>\n",
       "      <td>D</td>\n",
       "      <td>3826$</td>\n",
       "    </tr>\n",
       "    <tr>\n",
       "      <th>1</th>\n",
       "      <td>2</td>\n",
       "      <td>344</td>\n",
       "      <td>6.0</td>\n",
       "      <td>7.0</td>\n",
       "      <td>7.0</td>\n",
       "      <td>8.0</td>\n",
       "      <td>no</td>\n",
       "      <td>0.0</td>\n",
       "      <td>83.0</td>\n",
       "      <td>7</td>\n",
       "      <td>97.0</td>\n",
       "      <td>1</td>\n",
       "      <td>B</td>\n",
       "      <td>4458$</td>\n",
       "    </tr>\n",
       "    <tr>\n",
       "      <th>2</th>\n",
       "      <td>3</td>\n",
       "      <td>294</td>\n",
       "      <td>8.0</td>\n",
       "      <td>4.0</td>\n",
       "      <td>3.0</td>\n",
       "      <td>4.0</td>\n",
       "      <td>yes</td>\n",
       "      <td>97.0</td>\n",
       "      <td>78.0</td>\n",
       "      <td>1</td>\n",
       "      <td>88.0</td>\n",
       "      <td>4</td>\n",
       "      <td>C</td>\n",
       "      <td>4199$</td>\n",
       "    </tr>\n",
       "    <tr>\n",
       "      <th>3</th>\n",
       "      <td>4</td>\n",
       "      <td>328</td>\n",
       "      <td>5.0</td>\n",
       "      <td>4.0</td>\n",
       "      <td>2.0</td>\n",
       "      <td>4.0</td>\n",
       "      <td>NO</td>\n",
       "      <td>0.0</td>\n",
       "      <td>91.0</td>\n",
       "      <td>5</td>\n",
       "      <td>86.0</td>\n",
       "      <td>1</td>\n",
       "      <td>D</td>\n",
       "      <td>3462$</td>\n",
       "    </tr>\n",
       "    <tr>\n",
       "      <th>4</th>\n",
       "      <td>5</td>\n",
       "      <td>295</td>\n",
       "      <td>9.0</td>\n",
       "      <td>5.0</td>\n",
       "      <td>3.0</td>\n",
       "      <td>5.0</td>\n",
       "      <td>NaN</td>\n",
       "      <td>NaN</td>\n",
       "      <td>97.0</td>\n",
       "      <td>4</td>\n",
       "      <td>93.0</td>\n",
       "      <td>3</td>\n",
       "      <td>C</td>\n",
       "      <td>4543$</td>\n",
       "    </tr>\n",
       "  </tbody>\n",
       "</table>\n",
       "</div>"
      ],
      "text/plain": [
       "   id  Area(total)  Troom  Nbedrooms  Nbwashrooms  Twashrooms roof  \\\n",
       "0   1          305    8.0        2.0          1.0         3.0   NO   \n",
       "1   2          344    6.0        7.0          7.0         8.0   no   \n",
       "2   3          294    8.0        4.0          3.0         4.0  yes   \n",
       "3   4          328    5.0        4.0          2.0         4.0   NO   \n",
       "4   5          295    9.0        5.0          3.0         5.0  NaN   \n",
       "\n",
       "   Roof(Area)  Lawn(Area)  Nfloors   API  ANB Grade EXPECTED  \n",
       "0         0.0        76.0        2  63.0    4     D    3826$  \n",
       "1         0.0        83.0        7  97.0    1     B    4458$  \n",
       "2        97.0        78.0        1  88.0    4     C    4199$  \n",
       "3         0.0        91.0        5  86.0    1     D    3462$  \n",
       "4         NaN        97.0        4  93.0    3     C    4543$  "
      ]
     },
     "execution_count": 17,
     "metadata": {},
     "output_type": "execute_result"
    }
   ],
   "source": [
    "combine_df.head()"
   ]
  },
  {
   "cell_type": "code",
   "execution_count": 18,
   "id": "9a515074",
   "metadata": {},
   "outputs": [
    {
     "name": "stdout",
     "output_type": "stream",
     "text": [
      "<class 'pandas.core.frame.DataFrame'>\n",
      "RangeIndex: 10299 entries, 0 to 10298\n",
      "Data columns (total 14 columns):\n",
      " #   Column       Non-Null Count  Dtype  \n",
      "---  ------       --------------  -----  \n",
      " 0   id           10299 non-null  int64  \n",
      " 1   Area(total)  10299 non-null  int64  \n",
      " 2   Troom        10296 non-null  float64\n",
      " 3   Nbedrooms    10295 non-null  float64\n",
      " 4   Nbwashrooms  10296 non-null  float64\n",
      " 5   Twashrooms   10298 non-null  float64\n",
      " 6   roof         8293 non-null   object \n",
      " 7   Roof(Area)   8293 non-null   float64\n",
      " 8   Lawn(Area)   10296 non-null  float64\n",
      " 9   Nfloors      10299 non-null  int64  \n",
      " 10  API          10297 non-null  float64\n",
      " 11  ANB          10299 non-null  int64  \n",
      " 12  Grade        10299 non-null  object \n",
      " 13  EXPECTED     10299 non-null  object \n",
      "dtypes: float64(7), int64(4), object(3)\n",
      "memory usage: 1.1+ MB\n"
     ]
    }
   ],
   "source": [
    "combine_df.info()"
   ]
  },
  {
   "cell_type": "markdown",
   "id": "72e4ecb9-8cab-4ec3-9bc2-46c24fc17a66",
   "metadata": {},
   "source": [
    "# Checking the null values"
   ]
  },
  {
   "cell_type": "code",
   "execution_count": 19,
   "id": "b87ca225",
   "metadata": {},
   "outputs": [
    {
     "data": {
      "text/plain": [
       "id                0\n",
       "Area(total)       0\n",
       "Troom             3\n",
       "Nbedrooms         4\n",
       "Nbwashrooms       3\n",
       "Twashrooms        1\n",
       "roof           2006\n",
       "Roof(Area)     2006\n",
       "Lawn(Area)        3\n",
       "Nfloors           0\n",
       "API               2\n",
       "ANB               0\n",
       "Grade             0\n",
       "EXPECTED          0\n",
       "dtype: int64"
      ]
     },
     "execution_count": 19,
     "metadata": {},
     "output_type": "execute_result"
    }
   ],
   "source": [
    "combine_df.isnull().sum()"
   ]
  },
  {
   "cell_type": "markdown",
   "id": "e3e6ec3e-17ea-430e-9867-b239b7cb33f3",
   "metadata": {},
   "source": [
    "# Null Value imputation"
   ]
  },
  {
   "cell_type": "code",
   "execution_count": 20,
   "id": "cb26215d",
   "metadata": {},
   "outputs": [
    {
     "data": {
      "text/plain": [
       "Troom\n",
       "9.0    2095\n",
       "5.0    2081\n",
       "7.0    2066\n",
       "6.0    2028\n",
       "8.0    2026\n",
       "NaN       3\n",
       "Name: count, dtype: int64"
      ]
     },
     "execution_count": 20,
     "metadata": {},
     "output_type": "execute_result"
    }
   ],
   "source": [
    "combine_df.Troom.value_counts(dropna=False)"
   ]
  },
  {
   "cell_type": "code",
   "execution_count": 21,
   "id": "278e7da1",
   "metadata": {},
   "outputs": [],
   "source": [
    "combine_df.Troom=combine_df.Troom.fillna(combine_df.Troom.median())"
   ]
  },
  {
   "cell_type": "code",
   "execution_count": 22,
   "id": "3163b069",
   "metadata": {},
   "outputs": [
    {
     "data": {
      "text/plain": [
       "Nbedrooms\n",
       "4.0    2037\n",
       "6.0    2029\n",
       "5.0    2023\n",
       "3.0    1416\n",
       "7.0    1401\n",
       "2.0     696\n",
       "8.0     693\n",
       "NaN       4\n",
       "Name: count, dtype: int64"
      ]
     },
     "execution_count": 22,
     "metadata": {},
     "output_type": "execute_result"
    }
   ],
   "source": [
    "combine_df.Nbedrooms.value_counts(dropna=False)"
   ]
  },
  {
   "cell_type": "code",
   "execution_count": 23,
   "id": "f50ab4a2",
   "metadata": {},
   "outputs": [],
   "source": [
    "combine_df.Nbedrooms=combine_df.Nbedrooms.fillna(combine_df.Nbedrooms.median())"
   ]
  },
  {
   "cell_type": "code",
   "execution_count": 24,
   "id": "efb6a63b",
   "metadata": {},
   "outputs": [
    {
     "data": {
      "text/plain": [
       "Twashrooms\n",
       "4.0    2113\n",
       "6.0    2078\n",
       "7.0    2069\n",
       "5.0    2021\n",
       "8.0    1019\n",
       "3.0     998\n",
       "NaN       1\n",
       "Name: count, dtype: int64"
      ]
     },
     "execution_count": 24,
     "metadata": {},
     "output_type": "execute_result"
    }
   ],
   "source": [
    "combine_df.Twashrooms.value_counts(dropna=False)"
   ]
  },
  {
   "cell_type": "code",
   "execution_count": 25,
   "id": "19ea53cd",
   "metadata": {},
   "outputs": [],
   "source": [
    "combine_df.Twashrooms=combine_df.Twashrooms.fillna(combine_df.Twashrooms.median())"
   ]
  },
  {
   "cell_type": "code",
   "execution_count": 26,
   "id": "a70725b9",
   "metadata": {},
   "outputs": [
    {
     "data": {
      "text/plain": [
       "roof\n",
       "no     2100\n",
       "NO     2095\n",
       "yes    2063\n",
       "YES    2035\n",
       "NaN    2006\n",
       "Name: count, dtype: int64"
      ]
     },
     "execution_count": 26,
     "metadata": {},
     "output_type": "execute_result"
    }
   ],
   "source": [
    "combine_df.roof.value_counts(dropna=False)"
   ]
  },
  {
   "cell_type": "code",
   "execution_count": 27,
   "id": "05e449d3",
   "metadata": {},
   "outputs": [],
   "source": [
    "combine_df.roof=combine_df.roof.replace({'no':'NO','yes':'YES'})"
   ]
  },
  {
   "cell_type": "code",
   "execution_count": 28,
   "id": "3358a494",
   "metadata": {},
   "outputs": [
    {
     "data": {
      "text/plain": [
       "roof\n",
       "NO     4195\n",
       "YES    4098\n",
       "NaN    2006\n",
       "Name: count, dtype: int64"
      ]
     },
     "execution_count": 28,
     "metadata": {},
     "output_type": "execute_result"
    }
   ],
   "source": [
    "combine_df.roof.value_counts(dropna=False)"
   ]
  },
  {
   "cell_type": "code",
   "execution_count": 29,
   "id": "0ef0f76b",
   "metadata": {},
   "outputs": [],
   "source": [
    "combine_df.roof=combine_df.roof.fillna(\"NO\")"
   ]
  },
  {
   "cell_type": "code",
   "execution_count": 30,
   "id": "c96126bd",
   "metadata": {},
   "outputs": [
    {
     "data": {
      "text/plain": [
       "Roof(Area)\n",
       "0.0      4195\n",
       "NaN      2006\n",
       "84.0      108\n",
       "88.0       99\n",
       "112.0      95\n",
       "80.0       95\n",
       "105.0      94\n",
       "117.0      94\n",
       "95.0       93\n",
       "90.0       92\n",
       "118.0      89\n",
       "114.0      89\n",
       "98.0       88\n",
       "111.0      88\n",
       "113.0      88\n",
       "94.0       87\n",
       "82.0       86\n",
       "93.0       85\n",
       "120.0      85\n",
       "79.0       85\n",
       "96.0       85\n",
       "75.0       84\n",
       "78.0       84\n",
       "72.0       84\n",
       "97.0       84\n",
       "107.0      83\n",
       "71.0       82\n",
       "91.0       81\n",
       "86.0       81\n",
       "73.0       80\n",
       "102.0      79\n",
       "103.0      78\n",
       "99.0       78\n",
       "101.0      78\n",
       "108.0      77\n",
       "119.0      77\n",
       "87.0       77\n",
       "115.0      76\n",
       "106.0      76\n",
       "109.0      76\n",
       "77.0       76\n",
       "81.0       75\n",
       "74.0       74\n",
       "76.0       73\n",
       "104.0      73\n",
       "89.0       73\n",
       "92.0       72\n",
       "85.0       71\n",
       "116.0      71\n",
       "100.0      69\n",
       "110.0      68\n",
       "83.0       63\n",
       "Name: count, dtype: int64"
      ]
     },
     "execution_count": 30,
     "metadata": {},
     "output_type": "execute_result"
    }
   ],
   "source": [
    "combine_df['Roof(Area)'].value_counts(dropna=False)"
   ]
  },
  {
   "cell_type": "code",
   "execution_count": 31,
   "id": "92554a36",
   "metadata": {},
   "outputs": [],
   "source": [
    "combine_df['Roof(Area)']=combine_df['Roof(Area)'].fillna(combine_df['Roof(Area)'].median())"
   ]
  },
  {
   "cell_type": "code",
   "execution_count": 32,
   "id": "32a108cb",
   "metadata": {},
   "outputs": [
    {
     "data": {
      "text/plain": [
       "Nbwashrooms\n",
       "3.0    2090\n",
       "5.0    2080\n",
       "4.0    2026\n",
       "6.0    1540\n",
       "2.0    1526\n",
       "7.0     523\n",
       "1.0     511\n",
       "NaN       3\n",
       "Name: count, dtype: int64"
      ]
     },
     "execution_count": 32,
     "metadata": {},
     "output_type": "execute_result"
    }
   ],
   "source": [
    "combine_df.Nbwashrooms.value_counts(dropna=False)"
   ]
  },
  {
   "cell_type": "code",
   "execution_count": 33,
   "id": "ddd3f94d",
   "metadata": {},
   "outputs": [],
   "source": [
    "combine_df.Nbwashrooms=combine_df.Nbwashrooms.fillna(combine_df.Nbwashrooms.median())"
   ]
  },
  {
   "cell_type": "code",
   "execution_count": 34,
   "id": "cb387109",
   "metadata": {},
   "outputs": [
    {
     "data": {
      "text/plain": [
       "Lawn(Area)\n",
       "97.0     287\n",
       "100.0    276\n",
       "87.0     275\n",
       "106.0    274\n",
       "88.0     268\n",
       "70.0     268\n",
       "85.0     266\n",
       "103.0    265\n",
       "84.0     265\n",
       "102.0    265\n",
       "80.0     264\n",
       "71.0     264\n",
       "98.0     263\n",
       "79.0     262\n",
       "77.0     260\n",
       "90.0     258\n",
       "99.0     255\n",
       "110.0    254\n",
       "82.0     254\n",
       "74.0     254\n",
       "72.0     252\n",
       "83.0     252\n",
       "101.0    251\n",
       "86.0     250\n",
       "109.0    249\n",
       "93.0     248\n",
       "91.0     246\n",
       "73.0     243\n",
       "108.0    243\n",
       "94.0     241\n",
       "107.0    240\n",
       "96.0     238\n",
       "95.0     236\n",
       "78.0     234\n",
       "92.0     233\n",
       "105.0    228\n",
       "75.0     226\n",
       "76.0     224\n",
       "104.0    223\n",
       "81.0     222\n",
       "89.0     220\n",
       "NaN        3\n",
       "Name: count, dtype: int64"
      ]
     },
     "execution_count": 34,
     "metadata": {},
     "output_type": "execute_result"
    }
   ],
   "source": [
    "combine_df['Lawn(Area)'].value_counts(dropna=False)"
   ]
  },
  {
   "cell_type": "code",
   "execution_count": 35,
   "id": "c103b8f4",
   "metadata": {},
   "outputs": [],
   "source": [
    "combine_df['Lawn(Area)']=combine_df['Lawn(Area)'].fillna(combine_df['Lawn(Area)'].median())"
   ]
  },
  {
   "cell_type": "code",
   "execution_count": 36,
   "id": "726563c9",
   "metadata": {},
   "outputs": [
    {
     "data": {
      "text/plain": [
       "API\n",
       "78.0    283\n",
       "65.0    281\n",
       "85.0    277\n",
       "62.0    275\n",
       "95.0    264\n",
       "96.0    263\n",
       "92.0    262\n",
       "64.0    262\n",
       "70.0    262\n",
       "76.0    261\n",
       "98.0    259\n",
       "90.0    259\n",
       "99.0    258\n",
       "77.0    256\n",
       "84.0    255\n",
       "75.0    254\n",
       "73.0    253\n",
       "86.0    251\n",
       "72.0    250\n",
       "74.0    250\n",
       "79.0    248\n",
       "68.0    247\n",
       "87.0    247\n",
       "81.0    246\n",
       "91.0    246\n",
       "80.0    246\n",
       "69.0    246\n",
       "61.0    244\n",
       "94.0    244\n",
       "97.0    242\n",
       "59.0    241\n",
       "93.0    241\n",
       "88.0    241\n",
       "71.0    241\n",
       "67.0    239\n",
       "63.0    238\n",
       "60.0    238\n",
       "89.0    238\n",
       "66.0    237\n",
       "82.0    234\n",
       "83.0    218\n",
       "NaN       2\n",
       "Name: count, dtype: int64"
      ]
     },
     "execution_count": 36,
     "metadata": {},
     "output_type": "execute_result"
    }
   ],
   "source": [
    "combine_df.API.value_counts(dropna=False)"
   ]
  },
  {
   "cell_type": "code",
   "execution_count": 37,
   "id": "17e98e3d",
   "metadata": {},
   "outputs": [],
   "source": [
    "combine_df.API=combine_df.API.fillna(combine_df.API.median())"
   ]
  },
  {
   "cell_type": "code",
   "execution_count": 38,
   "id": "e6e309d5",
   "metadata": {},
   "outputs": [
    {
     "data": {
      "text/plain": [
       "id             0\n",
       "Area(total)    0\n",
       "Troom          0\n",
       "Nbedrooms      0\n",
       "Nbwashrooms    0\n",
       "Twashrooms     0\n",
       "roof           0\n",
       "Roof(Area)     0\n",
       "Lawn(Area)     0\n",
       "Nfloors        0\n",
       "API            0\n",
       "ANB            0\n",
       "Grade          0\n",
       "EXPECTED       0\n",
       "dtype: int64"
      ]
     },
     "execution_count": 38,
     "metadata": {},
     "output_type": "execute_result"
    }
   ],
   "source": [
    "combine_df.isnull().sum()"
   ]
  },
  {
   "cell_type": "code",
   "execution_count": 39,
   "id": "7f4d1d25",
   "metadata": {},
   "outputs": [
    {
     "data": {
      "text/html": [
       "<div>\n",
       "<style scoped>\n",
       "    .dataframe tbody tr th:only-of-type {\n",
       "        vertical-align: middle;\n",
       "    }\n",
       "\n",
       "    .dataframe tbody tr th {\n",
       "        vertical-align: top;\n",
       "    }\n",
       "\n",
       "    .dataframe thead th {\n",
       "        text-align: right;\n",
       "    }\n",
       "</style>\n",
       "<table border=\"1\" class=\"dataframe\">\n",
       "  <thead>\n",
       "    <tr style=\"text-align: right;\">\n",
       "      <th></th>\n",
       "      <th>id</th>\n",
       "      <th>Area(total)</th>\n",
       "      <th>Troom</th>\n",
       "      <th>Nbedrooms</th>\n",
       "      <th>Nbwashrooms</th>\n",
       "      <th>Twashrooms</th>\n",
       "      <th>roof</th>\n",
       "      <th>Roof(Area)</th>\n",
       "      <th>Lawn(Area)</th>\n",
       "      <th>Nfloors</th>\n",
       "      <th>API</th>\n",
       "      <th>ANB</th>\n",
       "      <th>Grade</th>\n",
       "      <th>EXPECTED</th>\n",
       "    </tr>\n",
       "  </thead>\n",
       "  <tbody>\n",
       "    <tr>\n",
       "      <th>0</th>\n",
       "      <td>1</td>\n",
       "      <td>305</td>\n",
       "      <td>8.0</td>\n",
       "      <td>2.0</td>\n",
       "      <td>1.0</td>\n",
       "      <td>3.0</td>\n",
       "      <td>NO</td>\n",
       "      <td>0.0</td>\n",
       "      <td>76.0</td>\n",
       "      <td>2</td>\n",
       "      <td>63.0</td>\n",
       "      <td>4</td>\n",
       "      <td>D</td>\n",
       "      <td>3826$</td>\n",
       "    </tr>\n",
       "    <tr>\n",
       "      <th>1</th>\n",
       "      <td>2</td>\n",
       "      <td>344</td>\n",
       "      <td>6.0</td>\n",
       "      <td>7.0</td>\n",
       "      <td>7.0</td>\n",
       "      <td>8.0</td>\n",
       "      <td>NO</td>\n",
       "      <td>0.0</td>\n",
       "      <td>83.0</td>\n",
       "      <td>7</td>\n",
       "      <td>97.0</td>\n",
       "      <td>1</td>\n",
       "      <td>B</td>\n",
       "      <td>4458$</td>\n",
       "    </tr>\n",
       "    <tr>\n",
       "      <th>2</th>\n",
       "      <td>3</td>\n",
       "      <td>294</td>\n",
       "      <td>8.0</td>\n",
       "      <td>4.0</td>\n",
       "      <td>3.0</td>\n",
       "      <td>4.0</td>\n",
       "      <td>YES</td>\n",
       "      <td>97.0</td>\n",
       "      <td>78.0</td>\n",
       "      <td>1</td>\n",
       "      <td>88.0</td>\n",
       "      <td>4</td>\n",
       "      <td>C</td>\n",
       "      <td>4199$</td>\n",
       "    </tr>\n",
       "    <tr>\n",
       "      <th>3</th>\n",
       "      <td>4</td>\n",
       "      <td>328</td>\n",
       "      <td>5.0</td>\n",
       "      <td>4.0</td>\n",
       "      <td>2.0</td>\n",
       "      <td>4.0</td>\n",
       "      <td>NO</td>\n",
       "      <td>0.0</td>\n",
       "      <td>91.0</td>\n",
       "      <td>5</td>\n",
       "      <td>86.0</td>\n",
       "      <td>1</td>\n",
       "      <td>D</td>\n",
       "      <td>3462$</td>\n",
       "    </tr>\n",
       "    <tr>\n",
       "      <th>4</th>\n",
       "      <td>5</td>\n",
       "      <td>295</td>\n",
       "      <td>9.0</td>\n",
       "      <td>5.0</td>\n",
       "      <td>3.0</td>\n",
       "      <td>5.0</td>\n",
       "      <td>NO</td>\n",
       "      <td>0.0</td>\n",
       "      <td>97.0</td>\n",
       "      <td>4</td>\n",
       "      <td>93.0</td>\n",
       "      <td>3</td>\n",
       "      <td>C</td>\n",
       "      <td>4543$</td>\n",
       "    </tr>\n",
       "  </tbody>\n",
       "</table>\n",
       "</div>"
      ],
      "text/plain": [
       "   id  Area(total)  Troom  Nbedrooms  Nbwashrooms  Twashrooms roof  \\\n",
       "0   1          305    8.0        2.0          1.0         3.0   NO   \n",
       "1   2          344    6.0        7.0          7.0         8.0   NO   \n",
       "2   3          294    8.0        4.0          3.0         4.0  YES   \n",
       "3   4          328    5.0        4.0          2.0         4.0   NO   \n",
       "4   5          295    9.0        5.0          3.0         5.0   NO   \n",
       "\n",
       "   Roof(Area)  Lawn(Area)  Nfloors   API  ANB Grade EXPECTED  \n",
       "0         0.0        76.0        2  63.0    4     D    3826$  \n",
       "1         0.0        83.0        7  97.0    1     B    4458$  \n",
       "2        97.0        78.0        1  88.0    4     C    4199$  \n",
       "3         0.0        91.0        5  86.0    1     D    3462$  \n",
       "4         0.0        97.0        4  93.0    3     C    4543$  "
      ]
     },
     "execution_count": 39,
     "metadata": {},
     "output_type": "execute_result"
    }
   ],
   "source": [
    "combine_df.head()"
   ]
  },
  {
   "cell_type": "code",
   "execution_count": 40,
   "id": "d5c870d1",
   "metadata": {},
   "outputs": [],
   "source": [
    "combine_df=combine_df.drop('id',axis=1)"
   ]
  },
  {
   "cell_type": "code",
   "execution_count": 41,
   "id": "a88a7da8",
   "metadata": {},
   "outputs": [
    {
     "name": "stdout",
     "output_type": "stream",
     "text": [
      "<class 'pandas.core.frame.DataFrame'>\n",
      "RangeIndex: 10299 entries, 0 to 10298\n",
      "Data columns (total 13 columns):\n",
      " #   Column       Non-Null Count  Dtype  \n",
      "---  ------       --------------  -----  \n",
      " 0   Area(total)  10299 non-null  int64  \n",
      " 1   Troom        10299 non-null  float64\n",
      " 2   Nbedrooms    10299 non-null  float64\n",
      " 3   Nbwashrooms  10299 non-null  float64\n",
      " 4   Twashrooms   10299 non-null  float64\n",
      " 5   roof         10299 non-null  object \n",
      " 6   Roof(Area)   10299 non-null  float64\n",
      " 7   Lawn(Area)   10299 non-null  float64\n",
      " 8   Nfloors      10299 non-null  int64  \n",
      " 9   API          10299 non-null  float64\n",
      " 10  ANB          10299 non-null  int64  \n",
      " 11  Grade        10299 non-null  object \n",
      " 12  EXPECTED     10299 non-null  object \n",
      "dtypes: float64(7), int64(3), object(3)\n",
      "memory usage: 1.0+ MB\n"
     ]
    }
   ],
   "source": [
    "combine_df.info()"
   ]
  },
  {
   "cell_type": "code",
   "execution_count": 42,
   "id": "d01695f8",
   "metadata": {},
   "outputs": [
    {
     "data": {
      "text/html": [
       "<div>\n",
       "<style scoped>\n",
       "    .dataframe tbody tr th:only-of-type {\n",
       "        vertical-align: middle;\n",
       "    }\n",
       "\n",
       "    .dataframe tbody tr th {\n",
       "        vertical-align: top;\n",
       "    }\n",
       "\n",
       "    .dataframe thead th {\n",
       "        text-align: right;\n",
       "    }\n",
       "</style>\n",
       "<table border=\"1\" class=\"dataframe\">\n",
       "  <thead>\n",
       "    <tr style=\"text-align: right;\">\n",
       "      <th></th>\n",
       "      <th>Area(total)</th>\n",
       "      <th>Troom</th>\n",
       "      <th>Nbedrooms</th>\n",
       "      <th>Nbwashrooms</th>\n",
       "      <th>Twashrooms</th>\n",
       "      <th>roof</th>\n",
       "      <th>Roof(Area)</th>\n",
       "      <th>Lawn(Area)</th>\n",
       "      <th>Nfloors</th>\n",
       "      <th>API</th>\n",
       "      <th>ANB</th>\n",
       "      <th>Grade</th>\n",
       "      <th>EXPECTED</th>\n",
       "    </tr>\n",
       "  </thead>\n",
       "  <tbody>\n",
       "    <tr>\n",
       "      <th>0</th>\n",
       "      <td>305</td>\n",
       "      <td>8.0</td>\n",
       "      <td>2.0</td>\n",
       "      <td>1.0</td>\n",
       "      <td>3.0</td>\n",
       "      <td>NO</td>\n",
       "      <td>0.0</td>\n",
       "      <td>76.0</td>\n",
       "      <td>2</td>\n",
       "      <td>63.0</td>\n",
       "      <td>4</td>\n",
       "      <td>D</td>\n",
       "      <td>3826</td>\n",
       "    </tr>\n",
       "    <tr>\n",
       "      <th>1</th>\n",
       "      <td>344</td>\n",
       "      <td>6.0</td>\n",
       "      <td>7.0</td>\n",
       "      <td>7.0</td>\n",
       "      <td>8.0</td>\n",
       "      <td>NO</td>\n",
       "      <td>0.0</td>\n",
       "      <td>83.0</td>\n",
       "      <td>7</td>\n",
       "      <td>97.0</td>\n",
       "      <td>1</td>\n",
       "      <td>B</td>\n",
       "      <td>4458</td>\n",
       "    </tr>\n",
       "    <tr>\n",
       "      <th>2</th>\n",
       "      <td>294</td>\n",
       "      <td>8.0</td>\n",
       "      <td>4.0</td>\n",
       "      <td>3.0</td>\n",
       "      <td>4.0</td>\n",
       "      <td>YES</td>\n",
       "      <td>97.0</td>\n",
       "      <td>78.0</td>\n",
       "      <td>1</td>\n",
       "      <td>88.0</td>\n",
       "      <td>4</td>\n",
       "      <td>C</td>\n",
       "      <td>4199</td>\n",
       "    </tr>\n",
       "    <tr>\n",
       "      <th>3</th>\n",
       "      <td>328</td>\n",
       "      <td>5.0</td>\n",
       "      <td>4.0</td>\n",
       "      <td>2.0</td>\n",
       "      <td>4.0</td>\n",
       "      <td>NO</td>\n",
       "      <td>0.0</td>\n",
       "      <td>91.0</td>\n",
       "      <td>5</td>\n",
       "      <td>86.0</td>\n",
       "      <td>1</td>\n",
       "      <td>D</td>\n",
       "      <td>3462</td>\n",
       "    </tr>\n",
       "    <tr>\n",
       "      <th>4</th>\n",
       "      <td>295</td>\n",
       "      <td>9.0</td>\n",
       "      <td>5.0</td>\n",
       "      <td>3.0</td>\n",
       "      <td>5.0</td>\n",
       "      <td>NO</td>\n",
       "      <td>0.0</td>\n",
       "      <td>97.0</td>\n",
       "      <td>4</td>\n",
       "      <td>93.0</td>\n",
       "      <td>3</td>\n",
       "      <td>C</td>\n",
       "      <td>4543</td>\n",
       "    </tr>\n",
       "  </tbody>\n",
       "</table>\n",
       "</div>"
      ],
      "text/plain": [
       "   Area(total)  Troom  Nbedrooms  Nbwashrooms  Twashrooms roof  Roof(Area)  \\\n",
       "0          305    8.0        2.0          1.0         3.0   NO         0.0   \n",
       "1          344    6.0        7.0          7.0         8.0   NO         0.0   \n",
       "2          294    8.0        4.0          3.0         4.0  YES        97.0   \n",
       "3          328    5.0        4.0          2.0         4.0   NO         0.0   \n",
       "4          295    9.0        5.0          3.0         5.0   NO         0.0   \n",
       "\n",
       "   Lawn(Area)  Nfloors   API  ANB Grade EXPECTED  \n",
       "0        76.0        2  63.0    4     D    3826   \n",
       "1        83.0        7  97.0    1     B    4458   \n",
       "2        78.0        1  88.0    4     C    4199   \n",
       "3        91.0        5  86.0    1     D    3462   \n",
       "4        97.0        4  93.0    3     C    4543   "
      ]
     },
     "execution_count": 42,
     "metadata": {},
     "output_type": "execute_result"
    }
   ],
   "source": [
    "# replacing the space in place of '$' symbol \n",
    "combine_df.EXPECTED=combine_df.EXPECTED.str.replace('$',\" \")\n",
    "combine_df.head()"
   ]
  },
  {
   "cell_type": "code",
   "execution_count": 43,
   "id": "8514a496",
   "metadata": {},
   "outputs": [],
   "source": [
    "# changing the float to number datatype\n",
    "combine_df.EXPECTED=combine_df.EXPECTED.astype('int32')"
   ]
  },
  {
   "cell_type": "code",
   "execution_count": 44,
   "id": "ddf7d383",
   "metadata": {},
   "outputs": [
    {
     "data": {
      "text/html": [
       "<div>\n",
       "<style scoped>\n",
       "    .dataframe tbody tr th:only-of-type {\n",
       "        vertical-align: middle;\n",
       "    }\n",
       "\n",
       "    .dataframe tbody tr th {\n",
       "        vertical-align: top;\n",
       "    }\n",
       "\n",
       "    .dataframe thead th {\n",
       "        text-align: right;\n",
       "    }\n",
       "</style>\n",
       "<table border=\"1\" class=\"dataframe\">\n",
       "  <thead>\n",
       "    <tr style=\"text-align: right;\">\n",
       "      <th></th>\n",
       "      <th>Area(total)</th>\n",
       "      <th>Troom</th>\n",
       "      <th>Nbedrooms</th>\n",
       "      <th>Nbwashrooms</th>\n",
       "      <th>Twashrooms</th>\n",
       "      <th>roof</th>\n",
       "      <th>Roof(Area)</th>\n",
       "      <th>Lawn(Area)</th>\n",
       "      <th>Nfloors</th>\n",
       "      <th>API</th>\n",
       "      <th>ANB</th>\n",
       "      <th>Grade</th>\n",
       "      <th>EXPECTED</th>\n",
       "    </tr>\n",
       "  </thead>\n",
       "  <tbody>\n",
       "    <tr>\n",
       "      <th>0</th>\n",
       "      <td>305</td>\n",
       "      <td>8.0</td>\n",
       "      <td>2.0</td>\n",
       "      <td>1.0</td>\n",
       "      <td>3.0</td>\n",
       "      <td>NO</td>\n",
       "      <td>0.0</td>\n",
       "      <td>76.0</td>\n",
       "      <td>2</td>\n",
       "      <td>63.0</td>\n",
       "      <td>4</td>\n",
       "      <td>D</td>\n",
       "      <td>3826</td>\n",
       "    </tr>\n",
       "    <tr>\n",
       "      <th>1</th>\n",
       "      <td>344</td>\n",
       "      <td>6.0</td>\n",
       "      <td>7.0</td>\n",
       "      <td>7.0</td>\n",
       "      <td>8.0</td>\n",
       "      <td>NO</td>\n",
       "      <td>0.0</td>\n",
       "      <td>83.0</td>\n",
       "      <td>7</td>\n",
       "      <td>97.0</td>\n",
       "      <td>1</td>\n",
       "      <td>B</td>\n",
       "      <td>4458</td>\n",
       "    </tr>\n",
       "    <tr>\n",
       "      <th>2</th>\n",
       "      <td>294</td>\n",
       "      <td>8.0</td>\n",
       "      <td>4.0</td>\n",
       "      <td>3.0</td>\n",
       "      <td>4.0</td>\n",
       "      <td>YES</td>\n",
       "      <td>97.0</td>\n",
       "      <td>78.0</td>\n",
       "      <td>1</td>\n",
       "      <td>88.0</td>\n",
       "      <td>4</td>\n",
       "      <td>C</td>\n",
       "      <td>4199</td>\n",
       "    </tr>\n",
       "    <tr>\n",
       "      <th>3</th>\n",
       "      <td>328</td>\n",
       "      <td>5.0</td>\n",
       "      <td>4.0</td>\n",
       "      <td>2.0</td>\n",
       "      <td>4.0</td>\n",
       "      <td>NO</td>\n",
       "      <td>0.0</td>\n",
       "      <td>91.0</td>\n",
       "      <td>5</td>\n",
       "      <td>86.0</td>\n",
       "      <td>1</td>\n",
       "      <td>D</td>\n",
       "      <td>3462</td>\n",
       "    </tr>\n",
       "    <tr>\n",
       "      <th>4</th>\n",
       "      <td>295</td>\n",
       "      <td>9.0</td>\n",
       "      <td>5.0</td>\n",
       "      <td>3.0</td>\n",
       "      <td>5.0</td>\n",
       "      <td>NO</td>\n",
       "      <td>0.0</td>\n",
       "      <td>97.0</td>\n",
       "      <td>4</td>\n",
       "      <td>93.0</td>\n",
       "      <td>3</td>\n",
       "      <td>C</td>\n",
       "      <td>4543</td>\n",
       "    </tr>\n",
       "  </tbody>\n",
       "</table>\n",
       "</div>"
      ],
      "text/plain": [
       "   Area(total)  Troom  Nbedrooms  Nbwashrooms  Twashrooms roof  Roof(Area)  \\\n",
       "0          305    8.0        2.0          1.0         3.0   NO         0.0   \n",
       "1          344    6.0        7.0          7.0         8.0   NO         0.0   \n",
       "2          294    8.0        4.0          3.0         4.0  YES        97.0   \n",
       "3          328    5.0        4.0          2.0         4.0   NO         0.0   \n",
       "4          295    9.0        5.0          3.0         5.0   NO         0.0   \n",
       "\n",
       "   Lawn(Area)  Nfloors   API  ANB Grade  EXPECTED  \n",
       "0        76.0        2  63.0    4     D      3826  \n",
       "1        83.0        7  97.0    1     B      4458  \n",
       "2        78.0        1  88.0    4     C      4199  \n",
       "3        91.0        5  86.0    1     D      3462  \n",
       "4        97.0        4  93.0    3     C      4543  "
      ]
     },
     "execution_count": 44,
     "metadata": {},
     "output_type": "execute_result"
    }
   ],
   "source": [
    "combine_df.head()"
   ]
  },
  {
   "cell_type": "code",
   "execution_count": 45,
   "id": "1932cde8",
   "metadata": {},
   "outputs": [
    {
     "name": "stdout",
     "output_type": "stream",
     "text": [
      "<class 'pandas.core.frame.DataFrame'>\n",
      "RangeIndex: 10299 entries, 0 to 10298\n",
      "Data columns (total 13 columns):\n",
      " #   Column       Non-Null Count  Dtype  \n",
      "---  ------       --------------  -----  \n",
      " 0   Area(total)  10299 non-null  int64  \n",
      " 1   Troom        10299 non-null  float64\n",
      " 2   Nbedrooms    10299 non-null  float64\n",
      " 3   Nbwashrooms  10299 non-null  float64\n",
      " 4   Twashrooms   10299 non-null  float64\n",
      " 5   roof         10299 non-null  object \n",
      " 6   Roof(Area)   10299 non-null  float64\n",
      " 7   Lawn(Area)   10299 non-null  float64\n",
      " 8   Nfloors      10299 non-null  int64  \n",
      " 9   API          10299 non-null  float64\n",
      " 10  ANB          10299 non-null  int64  \n",
      " 11  Grade        10299 non-null  object \n",
      " 12  EXPECTED     10299 non-null  int32  \n",
      "dtypes: float64(7), int32(1), int64(3), object(2)\n",
      "memory usage: 1005.9+ KB\n"
     ]
    }
   ],
   "source": [
    "combine_df.info()"
   ]
  },
  {
   "cell_type": "markdown",
   "id": "85ae5cfb",
   "metadata": {},
   "source": [
    "# EDA(Exploratory Data Analysis)"
   ]
  },
  {
   "cell_type": "code",
   "execution_count": 46,
   "id": "1f0852b2",
   "metadata": {},
   "outputs": [
    {
     "data": {
      "text/html": [
       "<div>\n",
       "<style scoped>\n",
       "    .dataframe tbody tr th:only-of-type {\n",
       "        vertical-align: middle;\n",
       "    }\n",
       "\n",
       "    .dataframe tbody tr th {\n",
       "        vertical-align: top;\n",
       "    }\n",
       "\n",
       "    .dataframe thead th {\n",
       "        text-align: right;\n",
       "    }\n",
       "</style>\n",
       "<table border=\"1\" class=\"dataframe\">\n",
       "  <thead>\n",
       "    <tr style=\"text-align: right;\">\n",
       "      <th></th>\n",
       "      <th>Area(total)</th>\n",
       "      <th>Troom</th>\n",
       "      <th>Nbedrooms</th>\n",
       "      <th>Nbwashrooms</th>\n",
       "      <th>Twashrooms</th>\n",
       "      <th>Roof(Area)</th>\n",
       "      <th>Lawn(Area)</th>\n",
       "      <th>Nfloors</th>\n",
       "      <th>API</th>\n",
       "      <th>ANB</th>\n",
       "      <th>EXPECTED</th>\n",
       "    </tr>\n",
       "  </thead>\n",
       "  <tbody>\n",
       "    <tr>\n",
       "      <th>count</th>\n",
       "      <td>10299.000000</td>\n",
       "      <td>10299.000000</td>\n",
       "      <td>10299.000000</td>\n",
       "      <td>10299.000000</td>\n",
       "      <td>10299.000000</td>\n",
       "      <td>10299.000000</td>\n",
       "      <td>10299.000000</td>\n",
       "      <td>10299.000000</td>\n",
       "      <td>10299.000000</td>\n",
       "      <td>10299.000000</td>\n",
       "      <td>10299.000000</td>\n",
       "    </tr>\n",
       "    <tr>\n",
       "      <th>mean</th>\n",
       "      <td>325.002913</td>\n",
       "      <td>7.002525</td>\n",
       "      <td>4.995436</td>\n",
       "      <td>4.005243</td>\n",
       "      <td>5.501505</td>\n",
       "      <td>38.025342</td>\n",
       "      <td>90.013108</td>\n",
       "      <td>4.508690</td>\n",
       "      <td>79.029032</td>\n",
       "      <td>3.494320</td>\n",
       "      <td>4033.036508</td>\n",
       "    </tr>\n",
       "    <tr>\n",
       "      <th>std</th>\n",
       "      <td>20.481697</td>\n",
       "      <td>1.419762</td>\n",
       "      <td>1.644059</td>\n",
       "      <td>1.580977</td>\n",
       "      <td>1.495794</td>\n",
       "      <td>47.655624</td>\n",
       "      <td>11.822509</td>\n",
       "      <td>1.815055</td>\n",
       "      <td>11.838224</td>\n",
       "      <td>1.699177</td>\n",
       "      <td>493.140286</td>\n",
       "    </tr>\n",
       "    <tr>\n",
       "      <th>min</th>\n",
       "      <td>290.000000</td>\n",
       "      <td>5.000000</td>\n",
       "      <td>2.000000</td>\n",
       "      <td>1.000000</td>\n",
       "      <td>3.000000</td>\n",
       "      <td>0.000000</td>\n",
       "      <td>70.000000</td>\n",
       "      <td>1.000000</td>\n",
       "      <td>59.000000</td>\n",
       "      <td>1.000000</td>\n",
       "      <td>2717.000000</td>\n",
       "    </tr>\n",
       "    <tr>\n",
       "      <th>25%</th>\n",
       "      <td>307.000000</td>\n",
       "      <td>6.000000</td>\n",
       "      <td>4.000000</td>\n",
       "      <td>3.000000</td>\n",
       "      <td>4.000000</td>\n",
       "      <td>0.000000</td>\n",
       "      <td>80.000000</td>\n",
       "      <td>3.000000</td>\n",
       "      <td>69.000000</td>\n",
       "      <td>2.000000</td>\n",
       "      <td>3678.500000</td>\n",
       "    </tr>\n",
       "    <tr>\n",
       "      <th>50%</th>\n",
       "      <td>325.000000</td>\n",
       "      <td>7.000000</td>\n",
       "      <td>5.000000</td>\n",
       "      <td>4.000000</td>\n",
       "      <td>6.000000</td>\n",
       "      <td>0.000000</td>\n",
       "      <td>90.000000</td>\n",
       "      <td>5.000000</td>\n",
       "      <td>79.000000</td>\n",
       "      <td>3.000000</td>\n",
       "      <td>3999.000000</td>\n",
       "    </tr>\n",
       "    <tr>\n",
       "      <th>75%</th>\n",
       "      <td>342.000000</td>\n",
       "      <td>8.000000</td>\n",
       "      <td>6.000000</td>\n",
       "      <td>5.000000</td>\n",
       "      <td>7.000000</td>\n",
       "      <td>89.000000</td>\n",
       "      <td>100.000000</td>\n",
       "      <td>6.000000</td>\n",
       "      <td>89.000000</td>\n",
       "      <td>5.000000</td>\n",
       "      <td>4360.000000</td>\n",
       "    </tr>\n",
       "    <tr>\n",
       "      <th>max</th>\n",
       "      <td>360.000000</td>\n",
       "      <td>9.000000</td>\n",
       "      <td>8.000000</td>\n",
       "      <td>7.000000</td>\n",
       "      <td>8.000000</td>\n",
       "      <td>120.000000</td>\n",
       "      <td>110.000000</td>\n",
       "      <td>8.000000</td>\n",
       "      <td>99.000000</td>\n",
       "      <td>6.000000</td>\n",
       "      <td>5806.000000</td>\n",
       "    </tr>\n",
       "  </tbody>\n",
       "</table>\n",
       "</div>"
      ],
      "text/plain": [
       "        Area(total)         Troom     Nbedrooms   Nbwashrooms    Twashrooms  \\\n",
       "count  10299.000000  10299.000000  10299.000000  10299.000000  10299.000000   \n",
       "mean     325.002913      7.002525      4.995436      4.005243      5.501505   \n",
       "std       20.481697      1.419762      1.644059      1.580977      1.495794   \n",
       "min      290.000000      5.000000      2.000000      1.000000      3.000000   \n",
       "25%      307.000000      6.000000      4.000000      3.000000      4.000000   \n",
       "50%      325.000000      7.000000      5.000000      4.000000      6.000000   \n",
       "75%      342.000000      8.000000      6.000000      5.000000      7.000000   \n",
       "max      360.000000      9.000000      8.000000      7.000000      8.000000   \n",
       "\n",
       "         Roof(Area)    Lawn(Area)       Nfloors           API           ANB  \\\n",
       "count  10299.000000  10299.000000  10299.000000  10299.000000  10299.000000   \n",
       "mean      38.025342     90.013108      4.508690     79.029032      3.494320   \n",
       "std       47.655624     11.822509      1.815055     11.838224      1.699177   \n",
       "min        0.000000     70.000000      1.000000     59.000000      1.000000   \n",
       "25%        0.000000     80.000000      3.000000     69.000000      2.000000   \n",
       "50%        0.000000     90.000000      5.000000     79.000000      3.000000   \n",
       "75%       89.000000    100.000000      6.000000     89.000000      5.000000   \n",
       "max      120.000000    110.000000      8.000000     99.000000      6.000000   \n",
       "\n",
       "           EXPECTED  \n",
       "count  10299.000000  \n",
       "mean    4033.036508  \n",
       "std      493.140286  \n",
       "min     2717.000000  \n",
       "25%     3678.500000  \n",
       "50%     3999.000000  \n",
       "75%     4360.000000  \n",
       "max     5806.000000  "
      ]
     },
     "execution_count": 46,
     "metadata": {},
     "output_type": "execute_result"
    }
   ],
   "source": [
    "combine_df.describe()"
   ]
  },
  {
   "cell_type": "code",
   "execution_count": 47,
   "id": "7dab6385",
   "metadata": {},
   "outputs": [
    {
     "data": {
      "image/png": "[encoded data removed]",
      "text/plain": [
       "<Figure size 640x480 with 1 Axes>"
      ]
     },
     "metadata": {},
     "output_type": "display_data"
    }
   ],
   "source": [
    "ax=combine_df.Nbedrooms.value_counts().plot(kind='bar')\n",
    "for i in ax.containers:\n",
    "    ax.bar_label(i)"
   ]
  },
  {
   "cell_type": "code",
   "execution_count": 48,
   "id": "4870748e",
   "metadata": {},
   "outputs": [
    {
     "data": {
      "text/plain": [
       "<Axes: title={'center': 'Number Of washrooms for Bedrooms'}, ylabel='count'>"
      ]
     },
     "execution_count": 48,
     "metadata": {},
     "output_type": "execute_result"
    },
    {
     "data": {
      "image/png": "[encoded data removed]",
      "text/plain": [
       "<Figure size 640x480 with 1 Axes>"
      ]
     },
     "metadata": {},
     "output_type": "display_data"
    }
   ],
   "source": [
    "plt.title('Number Of washrooms for Bedrooms')\n",
    "combine_df.Nbwashrooms.value_counts().plot(kind='pie',autopct='%0.2f%%')"
   ]
  },
  {
   "cell_type": "code",
   "execution_count": 49,
   "id": "bfc96655",
   "metadata": {},
   "outputs": [
    {
     "data": {
      "text/html": [
       "<div>\n",
       "<style scoped>\n",
       "    .dataframe tbody tr th:only-of-type {\n",
       "        vertical-align: middle;\n",
       "    }\n",
       "\n",
       "    .dataframe tbody tr th {\n",
       "        vertical-align: top;\n",
       "    }\n",
       "\n",
       "    .dataframe thead th {\n",
       "        text-align: right;\n",
       "    }\n",
       "</style>\n",
       "<table border=\"1\" class=\"dataframe\">\n",
       "  <thead>\n",
       "    <tr style=\"text-align: right;\">\n",
       "      <th>Grade</th>\n",
       "      <th>A</th>\n",
       "      <th>B</th>\n",
       "      <th>C</th>\n",
       "      <th>D</th>\n",
       "      <th>E</th>\n",
       "      <th>Missing</th>\n",
       "    </tr>\n",
       "    <tr>\n",
       "      <th>roof</th>\n",
       "      <th></th>\n",
       "      <th></th>\n",
       "      <th></th>\n",
       "      <th></th>\n",
       "      <th></th>\n",
       "      <th></th>\n",
       "    </tr>\n",
       "  </thead>\n",
       "  <tbody>\n",
       "    <tr>\n",
       "      <th>NO</th>\n",
       "      <td>206</td>\n",
       "      <td>790</td>\n",
       "      <td>1739</td>\n",
       "      <td>1447</td>\n",
       "      <td>26</td>\n",
       "      <td>1993</td>\n",
       "    </tr>\n",
       "    <tr>\n",
       "      <th>YES</th>\n",
       "      <td>236</td>\n",
       "      <td>685</td>\n",
       "      <td>1189</td>\n",
       "      <td>682</td>\n",
       "      <td>0</td>\n",
       "      <td>1306</td>\n",
       "    </tr>\n",
       "  </tbody>\n",
       "</table>\n",
       "</div>"
      ],
      "text/plain": [
       "Grade    A    B     C     D   E  Missing\n",
       "roof                                    \n",
       "NO     206  790  1739  1447  26     1993\n",
       "YES    236  685  1189   682   0     1306"
      ]
     },
     "execution_count": 49,
     "metadata": {},
     "output_type": "execute_result"
    }
   ],
   "source": [
    "pd.crosstab(combine_df.roof,combine_df.Grade)"
   ]
  },
  {
   "cell_type": "code",
   "execution_count": 50,
   "id": "3ce08d44",
   "metadata": {},
   "outputs": [
    {
     "data": {
      "image/png": "[encoded data removed]",
      "text/plain": [
       "<Figure size 640x480 with 1 Axes>"
      ]
     },
     "metadata": {},
     "output_type": "display_data"
    }
   ],
   "source": [
    "ax=pd.crosstab(combine_df.Grade,combine_df.roof).plot(kind='bar',title=('For the House having Roof or not'))\n",
    "for i in ax.containers:\n",
    "    ax.bar_label(i)"
   ]
  },
  {
   "cell_type": "code",
   "execution_count": 51,
   "id": "76b25836",
   "metadata": {},
   "outputs": [
    {
     "data": {
      "text/plain": [
       "Grade\n",
       "A          4958.063348\n",
       "B          4484.622373\n",
       "C          4020.536202\n",
       "D          3567.981212\n",
       "E          3097.384615\n",
       "Missing    4025.785693\n",
       "Name: EXPECTED, dtype: float64"
      ]
     },
     "execution_count": 51,
     "metadata": {},
     "output_type": "execute_result"
    }
   ],
   "source": [
    "combine_df.EXPECTED.groupby(combine_df.Grade).mean()"
   ]
  },
  {
   "cell_type": "code",
   "execution_count": 52,
   "id": "97ac3919",
   "metadata": {},
   "outputs": [
    {
     "data": {
      "image/png": "[encoded data removed]",
      "text/plain": [
       "<Figure size 640x480 with 1 Axes>"
      ]
     },
     "metadata": {},
     "output_type": "display_data"
    }
   ],
   "source": [
    "ax=combine_df.EXPECTED.groupby(combine_df.Grade).mean().plot(kind='bar',title='Expected pricess for each Grade of House')\n",
    "for i in ax.containers:\n",
    "    ax.bar_label(i)"
   ]
  },
  {
   "cell_type": "markdown",
   "id": "ca88db80",
   "metadata": {},
   "source": [
    "# Hypothesis Testing"
   ]
  },
  {
   "cell_type": "code",
   "execution_count": 53,
   "id": "b24c8b43",
   "metadata": {},
   "outputs": [
    {
     "data": {
      "text/plain": [
       "roof\n",
       "NO     7.014836\n",
       "YES    6.983895\n",
       "Name: Troom, dtype: float64"
      ]
     },
     "execution_count": 53,
     "metadata": {},
     "output_type": "execute_result"
    }
   ],
   "source": [
    "combine_df.Troom.groupby(combine_df.roof).mean()"
   ]
  },
  {
   "cell_type": "code",
   "execution_count": 54,
   "id": "73d5df50",
   "metadata": {},
   "outputs": [],
   "source": [
    "yes=combine_df[combine_df.roof=='YES']\n",
    "no=combine_df[combine_df.roof=='NO']"
   ]
  },
  {
   "cell_type": "code",
   "execution_count": 55,
   "id": "df0aad4a",
   "metadata": {},
   "outputs": [],
   "source": [
    "from scipy.stats import ttest_ind"
   ]
  },
  {
   "cell_type": "code",
   "execution_count": 56,
   "id": "6a6fbc80",
   "metadata": {},
   "outputs": [
    {
     "data": {
      "text/plain": [
       "TtestResult(statistic=-1.0827678730546693, pvalue=0.27894121708210945, df=8776.044537572)"
      ]
     },
     "execution_count": 56,
     "metadata": {},
     "output_type": "execute_result"
    }
   ],
   "source": [
    "ttest_ind(yes.Troom,no.Troom,equal_var=False)\n",
    "# since pvalue=0.26427411516915633 os greater than 0.05, Fail to reject null Hypothesi\n",
    "# alternative hypothesis is true, there is no significance difference between average Troom and roof"
   ]
  },
  {
   "cell_type": "code",
   "execution_count": 57,
   "id": "8a05bb9c",
   "metadata": {},
   "outputs": [
    {
     "data": {
      "text/plain": [
       "roof\n",
       "NO     4.510563\n",
       "YES    4.505857\n",
       "Name: Nfloors, dtype: float64"
      ]
     },
     "execution_count": 57,
     "metadata": {},
     "output_type": "execute_result"
    }
   ],
   "source": [
    "combine_df.Nfloors.groupby(combine_df.roof).mean()"
   ]
  },
  {
   "cell_type": "code",
   "execution_count": 58,
   "id": "b6fb1979",
   "metadata": {},
   "outputs": [
    {
     "data": {
      "text/plain": [
       "TtestResult(statistic=-0.1288082761124077, pvalue=0.897512308975918, df=8774.130198530476)"
      ]
     },
     "execution_count": 58,
     "metadata": {},
     "output_type": "execute_result"
    }
   ],
   "source": [
    "ttest_ind(yes.Nfloors,no.Nfloors,equal_var=False)\n",
    "# since pvalue=0.897512308975918 is greater than 0.05,fail to reject null hypothesis\n",
    "# alternative hypothesis true,there is no significance dofference between average of Troom and Nfloors"
   ]
  },
  {
   "cell_type": "code",
   "execution_count": 59,
   "id": "f13e7b6c",
   "metadata": {},
   "outputs": [],
   "source": [
    "from scipy.stats import chi2_contingency"
   ]
  },
  {
   "cell_type": "code",
   "execution_count": 60,
   "id": "e759cfe5",
   "metadata": {},
   "outputs": [
    {
     "data": {
      "text/plain": [
       "Chi2ContingencyResult(statistic=132.89015878677472, pvalue=5.795534613231062e-27, dof=5, expected_freq=array([[ 266.12700262,  175.87299738],\n",
       "       [ 888.09350422,  586.90649578],\n",
       "       [1762.94086805, 1165.05913195],\n",
       "       [1281.86513254,  847.13486746],\n",
       "       [  15.65452957,   10.34547043],\n",
       "       [1986.31896301, 1312.68103699]]))"
      ]
     },
     "execution_count": 60,
     "metadata": {},
     "output_type": "execute_result"
    }
   ],
   "source": [
    "chi2_contingency(pd.crosstab(combine_df.Grade,combine_df.roof))\n",
    "# since pvalue=5.795534613231062e-27 is less than 0.05, reject null hypothesis\n",
    "# There is no associatioon between average of Gradde and roof"
   ]
  },
  {
   "cell_type": "code",
   "execution_count": 61,
   "id": "c37d8967",
   "metadata": {},
   "outputs": [
    {
     "data": {
      "text/plain": [
       "<Figure size 3000x1500 with 0 Axes>"
      ]
     },
     "metadata": {},
     "output_type": "display_data"
    },
    {
     "data": {
      "image/png": "[encoded data removed]",
      "text/plain": [
       "<Figure size 640x480 with 3 Axes>"
      ]
     },
     "metadata": {},
     "output_type": "display_data"
    }
   ],
   "source": [
    "plt.figure(figsize=(30,15))\n",
    "fig,ax=plt.subplots(3,1)\n",
    "\n",
    "combine_df.Grade.value_counts().plot(kind='kde',ax=ax[0])\n",
    "combine_df.Grade.value_counts().plot(kind='box',vert=False,ax=ax[1])\n",
    "combine_df.Grade.value_counts().plot(kind='bar',ax=ax[2])\n",
    "\n",
    "# You can add titles or labels for each subplot if needed\n",
    "ax[0].set_title('Line Plot')\n",
    "ax[1].set_title('Box Plot')\n",
    "ax[2].set_title('Bar Plot')\n",
    "\n",
    "plt.tight_layout()  # Ensures the subplots are properly spaced\n",
    "plt.show()"
   ]
  },
  {
   "cell_type": "markdown",
   "id": "d127b23a",
   "metadata": {},
   "source": [
    "# Splitting the data into numeric columns and object columns"
   ]
  },
  {
   "cell_type": "code",
   "execution_count": 62,
   "id": "fb0473ef",
   "metadata": {},
   "outputs": [],
   "source": [
    "numcols=combine_df.select_dtypes(include=np.number)\n",
    "objcols=combine_df.select_dtypes(include='object')"
   ]
  },
  {
   "cell_type": "code",
   "execution_count": 63,
   "id": "f96cddea",
   "metadata": {},
   "outputs": [
    {
     "data": {
      "text/html": [
       "<div>\n",
       "<style scoped>\n",
       "    .dataframe tbody tr th:only-of-type {\n",
       "        vertical-align: middle;\n",
       "    }\n",
       "\n",
       "    .dataframe tbody tr th {\n",
       "        vertical-align: top;\n",
       "    }\n",
       "\n",
       "    .dataframe thead th {\n",
       "        text-align: right;\n",
       "    }\n",
       "</style>\n",
       "<table border=\"1\" class=\"dataframe\">\n",
       "  <thead>\n",
       "    <tr style=\"text-align: right;\">\n",
       "      <th></th>\n",
       "      <th>Area(total)</th>\n",
       "      <th>Troom</th>\n",
       "      <th>Nbedrooms</th>\n",
       "      <th>Nbwashrooms</th>\n",
       "      <th>Twashrooms</th>\n",
       "      <th>Roof(Area)</th>\n",
       "      <th>Lawn(Area)</th>\n",
       "      <th>Nfloors</th>\n",
       "      <th>API</th>\n",
       "      <th>ANB</th>\n",
       "      <th>EXPECTED</th>\n",
       "    </tr>\n",
       "  </thead>\n",
       "  <tbody>\n",
       "    <tr>\n",
       "      <th>0</th>\n",
       "      <td>305</td>\n",
       "      <td>8.0</td>\n",
       "      <td>2.0</td>\n",
       "      <td>1.0</td>\n",
       "      <td>3.0</td>\n",
       "      <td>0.0</td>\n",
       "      <td>76.0</td>\n",
       "      <td>2</td>\n",
       "      <td>63.0</td>\n",
       "      <td>4</td>\n",
       "      <td>3826</td>\n",
       "    </tr>\n",
       "    <tr>\n",
       "      <th>1</th>\n",
       "      <td>344</td>\n",
       "      <td>6.0</td>\n",
       "      <td>7.0</td>\n",
       "      <td>7.0</td>\n",
       "      <td>8.0</td>\n",
       "      <td>0.0</td>\n",
       "      <td>83.0</td>\n",
       "      <td>7</td>\n",
       "      <td>97.0</td>\n",
       "      <td>1</td>\n",
       "      <td>4458</td>\n",
       "    </tr>\n",
       "    <tr>\n",
       "      <th>2</th>\n",
       "      <td>294</td>\n",
       "      <td>8.0</td>\n",
       "      <td>4.0</td>\n",
       "      <td>3.0</td>\n",
       "      <td>4.0</td>\n",
       "      <td>97.0</td>\n",
       "      <td>78.0</td>\n",
       "      <td>1</td>\n",
       "      <td>88.0</td>\n",
       "      <td>4</td>\n",
       "      <td>4199</td>\n",
       "    </tr>\n",
       "    <tr>\n",
       "      <th>3</th>\n",
       "      <td>328</td>\n",
       "      <td>5.0</td>\n",
       "      <td>4.0</td>\n",
       "      <td>2.0</td>\n",
       "      <td>4.0</td>\n",
       "      <td>0.0</td>\n",
       "      <td>91.0</td>\n",
       "      <td>5</td>\n",
       "      <td>86.0</td>\n",
       "      <td>1</td>\n",
       "      <td>3462</td>\n",
       "    </tr>\n",
       "    <tr>\n",
       "      <th>4</th>\n",
       "      <td>295</td>\n",
       "      <td>9.0</td>\n",
       "      <td>5.0</td>\n",
       "      <td>3.0</td>\n",
       "      <td>5.0</td>\n",
       "      <td>0.0</td>\n",
       "      <td>97.0</td>\n",
       "      <td>4</td>\n",
       "      <td>93.0</td>\n",
       "      <td>3</td>\n",
       "      <td>4543</td>\n",
       "    </tr>\n",
       "  </tbody>\n",
       "</table>\n",
       "</div>"
      ],
      "text/plain": [
       "   Area(total)  Troom  Nbedrooms  Nbwashrooms  Twashrooms  Roof(Area)  \\\n",
       "0          305    8.0        2.0          1.0         3.0         0.0   \n",
       "1          344    6.0        7.0          7.0         8.0         0.0   \n",
       "2          294    8.0        4.0          3.0         4.0        97.0   \n",
       "3          328    5.0        4.0          2.0         4.0         0.0   \n",
       "4          295    9.0        5.0          3.0         5.0         0.0   \n",
       "\n",
       "   Lawn(Area)  Nfloors   API  ANB  EXPECTED  \n",
       "0        76.0        2  63.0    4      3826  \n",
       "1        83.0        7  97.0    1      4458  \n",
       "2        78.0        1  88.0    4      4199  \n",
       "3        91.0        5  86.0    1      3462  \n",
       "4        97.0        4  93.0    3      4543  "
      ]
     },
     "execution_count": 63,
     "metadata": {},
     "output_type": "execute_result"
    }
   ],
   "source": [
    "numcols.head()"
   ]
  },
  {
   "cell_type": "code",
   "execution_count": 64,
   "id": "667ebaaa",
   "metadata": {},
   "outputs": [
    {
     "data": {
      "text/html": [
       "<div>\n",
       "<style scoped>\n",
       "    .dataframe tbody tr th:only-of-type {\n",
       "        vertical-align: middle;\n",
       "    }\n",
       "\n",
       "    .dataframe tbody tr th {\n",
       "        vertical-align: top;\n",
       "    }\n",
       "\n",
       "    .dataframe thead th {\n",
       "        text-align: right;\n",
       "    }\n",
       "</style>\n",
       "<table border=\"1\" class=\"dataframe\">\n",
       "  <thead>\n",
       "    <tr style=\"text-align: right;\">\n",
       "      <th></th>\n",
       "      <th>roof</th>\n",
       "      <th>Grade</th>\n",
       "    </tr>\n",
       "  </thead>\n",
       "  <tbody>\n",
       "    <tr>\n",
       "      <th>0</th>\n",
       "      <td>NO</td>\n",
       "      <td>D</td>\n",
       "    </tr>\n",
       "    <tr>\n",
       "      <th>1</th>\n",
       "      <td>NO</td>\n",
       "      <td>B</td>\n",
       "    </tr>\n",
       "    <tr>\n",
       "      <th>2</th>\n",
       "      <td>YES</td>\n",
       "      <td>C</td>\n",
       "    </tr>\n",
       "    <tr>\n",
       "      <th>3</th>\n",
       "      <td>NO</td>\n",
       "      <td>D</td>\n",
       "    </tr>\n",
       "    <tr>\n",
       "      <th>4</th>\n",
       "      <td>NO</td>\n",
       "      <td>C</td>\n",
       "    </tr>\n",
       "  </tbody>\n",
       "</table>\n",
       "</div>"
      ],
      "text/plain": [
       "  roof Grade\n",
       "0   NO     D\n",
       "1   NO     B\n",
       "2  YES     C\n",
       "3   NO     D\n",
       "4   NO     C"
      ]
     },
     "execution_count": 64,
     "metadata": {},
     "output_type": "execute_result"
    }
   ],
   "source": [
    "objcols.head()"
   ]
  },
  {
   "cell_type": "markdown",
   "id": "e5b9df15-2210-4272-b750-5aac4f482b0c",
   "metadata": {},
   "source": [
    "# Label Encoding the object columns"
   ]
  },
  {
   "cell_type": "code",
   "execution_count": 65,
   "id": "fc33ad21",
   "metadata": {},
   "outputs": [],
   "source": [
    "from sklearn.preprocessing import LabelEncoder\n",
    "le=LabelEncoder()\n",
    "objcols.roof=le.fit_transform(objcols.roof)"
   ]
  },
  {
   "cell_type": "code",
   "execution_count": 66,
   "id": "218e3d8c",
   "metadata": {},
   "outputs": [
    {
     "data": {
      "text/html": [
       "<div>\n",
       "<style scoped>\n",
       "    .dataframe tbody tr th:only-of-type {\n",
       "        vertical-align: middle;\n",
       "    }\n",
       "\n",
       "    .dataframe tbody tr th {\n",
       "        vertical-align: top;\n",
       "    }\n",
       "\n",
       "    .dataframe thead th {\n",
       "        text-align: right;\n",
       "    }\n",
       "</style>\n",
       "<table border=\"1\" class=\"dataframe\">\n",
       "  <thead>\n",
       "    <tr style=\"text-align: right;\">\n",
       "      <th></th>\n",
       "      <th>Area(total)</th>\n",
       "      <th>Troom</th>\n",
       "      <th>Nbedrooms</th>\n",
       "      <th>Nbwashrooms</th>\n",
       "      <th>Twashrooms</th>\n",
       "      <th>Roof(Area)</th>\n",
       "      <th>Lawn(Area)</th>\n",
       "      <th>Nfloors</th>\n",
       "      <th>API</th>\n",
       "      <th>ANB</th>\n",
       "      <th>EXPECTED</th>\n",
       "    </tr>\n",
       "  </thead>\n",
       "  <tbody>\n",
       "    <tr>\n",
       "      <th>Area(total)</th>\n",
       "      <td>1.000000</td>\n",
       "      <td>-0.002568</td>\n",
       "      <td>-0.001139</td>\n",
       "      <td>0.012424</td>\n",
       "      <td>0.008010</td>\n",
       "      <td>0.004469</td>\n",
       "      <td>0.006177</td>\n",
       "      <td>0.011474</td>\n",
       "      <td>-0.013358</td>\n",
       "      <td>0.000818</td>\n",
       "      <td>0.216077</td>\n",
       "    </tr>\n",
       "    <tr>\n",
       "      <th>Troom</th>\n",
       "      <td>-0.002568</td>\n",
       "      <td>1.000000</td>\n",
       "      <td>0.005372</td>\n",
       "      <td>0.008300</td>\n",
       "      <td>0.010469</td>\n",
       "      <td>-0.009294</td>\n",
       "      <td>0.005893</td>\n",
       "      <td>0.004626</td>\n",
       "      <td>0.017554</td>\n",
       "      <td>-0.002570</td>\n",
       "      <td>0.433820</td>\n",
       "    </tr>\n",
       "    <tr>\n",
       "      <th>Nbedrooms</th>\n",
       "      <td>-0.001139</td>\n",
       "      <td>0.005372</td>\n",
       "      <td>1.000000</td>\n",
       "      <td>0.774888</td>\n",
       "      <td>0.818477</td>\n",
       "      <td>0.005539</td>\n",
       "      <td>0.017744</td>\n",
       "      <td>0.679858</td>\n",
       "      <td>0.005345</td>\n",
       "      <td>0.009498</td>\n",
       "      <td>0.600568</td>\n",
       "    </tr>\n",
       "    <tr>\n",
       "      <th>Nbwashrooms</th>\n",
       "      <td>0.012424</td>\n",
       "      <td>0.008300</td>\n",
       "      <td>0.774888</td>\n",
       "      <td>1.000000</td>\n",
       "      <td>0.948592</td>\n",
       "      <td>0.001063</td>\n",
       "      <td>0.015047</td>\n",
       "      <td>0.702911</td>\n",
       "      <td>-0.001419</td>\n",
       "      <td>0.011434</td>\n",
       "      <td>0.587657</td>\n",
       "    </tr>\n",
       "    <tr>\n",
       "      <th>Twashrooms</th>\n",
       "      <td>0.008010</td>\n",
       "      <td>0.010469</td>\n",
       "      <td>0.818477</td>\n",
       "      <td>0.948592</td>\n",
       "      <td>1.000000</td>\n",
       "      <td>-0.001042</td>\n",
       "      <td>0.017969</td>\n",
       "      <td>0.742157</td>\n",
       "      <td>-0.001513</td>\n",
       "      <td>0.013213</td>\n",
       "      <td>0.604139</td>\n",
       "    </tr>\n",
       "    <tr>\n",
       "      <th>Roof(Area)</th>\n",
       "      <td>0.004469</td>\n",
       "      <td>-0.009294</td>\n",
       "      <td>0.005539</td>\n",
       "      <td>0.001063</td>\n",
       "      <td>-0.001042</td>\n",
       "      <td>1.000000</td>\n",
       "      <td>0.015228</td>\n",
       "      <td>-0.001603</td>\n",
       "      <td>0.005148</td>\n",
       "      <td>-0.002222</td>\n",
       "      <td>0.128261</td>\n",
       "    </tr>\n",
       "    <tr>\n",
       "      <th>Lawn(Area)</th>\n",
       "      <td>0.006177</td>\n",
       "      <td>0.005893</td>\n",
       "      <td>0.017744</td>\n",
       "      <td>0.015047</td>\n",
       "      <td>0.017969</td>\n",
       "      <td>0.015228</td>\n",
       "      <td>1.000000</td>\n",
       "      <td>0.022981</td>\n",
       "      <td>-0.007112</td>\n",
       "      <td>0.000997</td>\n",
       "      <td>0.068758</td>\n",
       "    </tr>\n",
       "    <tr>\n",
       "      <th>Nfloors</th>\n",
       "      <td>0.011474</td>\n",
       "      <td>0.004626</td>\n",
       "      <td>0.679858</td>\n",
       "      <td>0.702911</td>\n",
       "      <td>0.742157</td>\n",
       "      <td>-0.001603</td>\n",
       "      <td>0.022981</td>\n",
       "      <td>1.000000</td>\n",
       "      <td>0.002702</td>\n",
       "      <td>0.008982</td>\n",
       "      <td>0.575612</td>\n",
       "    </tr>\n",
       "    <tr>\n",
       "      <th>API</th>\n",
       "      <td>-0.013358</td>\n",
       "      <td>0.017554</td>\n",
       "      <td>0.005345</td>\n",
       "      <td>-0.001419</td>\n",
       "      <td>-0.001513</td>\n",
       "      <td>0.005148</td>\n",
       "      <td>-0.007112</td>\n",
       "      <td>0.002702</td>\n",
       "      <td>1.000000</td>\n",
       "      <td>0.012268</td>\n",
       "      <td>0.112338</td>\n",
       "    </tr>\n",
       "    <tr>\n",
       "      <th>ANB</th>\n",
       "      <td>0.000818</td>\n",
       "      <td>-0.002570</td>\n",
       "      <td>0.009498</td>\n",
       "      <td>0.011434</td>\n",
       "      <td>0.013213</td>\n",
       "      <td>-0.002222</td>\n",
       "      <td>0.000997</td>\n",
       "      <td>0.008982</td>\n",
       "      <td>0.012268</td>\n",
       "      <td>1.000000</td>\n",
       "      <td>0.028895</td>\n",
       "    </tr>\n",
       "    <tr>\n",
       "      <th>EXPECTED</th>\n",
       "      <td>0.216077</td>\n",
       "      <td>0.433820</td>\n",
       "      <td>0.600568</td>\n",
       "      <td>0.587657</td>\n",
       "      <td>0.604139</td>\n",
       "      <td>0.128261</td>\n",
       "      <td>0.068758</td>\n",
       "      <td>0.575612</td>\n",
       "      <td>0.112338</td>\n",
       "      <td>0.028895</td>\n",
       "      <td>1.000000</td>\n",
       "    </tr>\n",
       "  </tbody>\n",
       "</table>\n",
       "</div>"
      ],
      "text/plain": [
       "             Area(total)     Troom  Nbedrooms  Nbwashrooms  Twashrooms  \\\n",
       "Area(total)     1.000000 -0.002568  -0.001139     0.012424    0.008010   \n",
       "Troom          -0.002568  1.000000   0.005372     0.008300    0.010469   \n",
       "Nbedrooms      -0.001139  0.005372   1.000000     0.774888    0.818477   \n",
       "Nbwashrooms     0.012424  0.008300   0.774888     1.000000    0.948592   \n",
       "Twashrooms      0.008010  0.010469   0.818477     0.948592    1.000000   \n",
       "Roof(Area)      0.004469 -0.009294   0.005539     0.001063   -0.001042   \n",
       "Lawn(Area)      0.006177  0.005893   0.017744     0.015047    0.017969   \n",
       "Nfloors         0.011474  0.004626   0.679858     0.702911    0.742157   \n",
       "API            -0.013358  0.017554   0.005345    -0.001419   -0.001513   \n",
       "ANB             0.000818 -0.002570   0.009498     0.011434    0.013213   \n",
       "EXPECTED        0.216077  0.433820   0.600568     0.587657    0.604139   \n",
       "\n",
       "             Roof(Area)  Lawn(Area)   Nfloors       API       ANB  EXPECTED  \n",
       "Area(total)    0.004469    0.006177  0.011474 -0.013358  0.000818  0.216077  \n",
       "Troom         -0.009294    0.005893  0.004626  0.017554 -0.002570  0.433820  \n",
       "Nbedrooms      0.005539    0.017744  0.679858  0.005345  0.009498  0.600568  \n",
       "Nbwashrooms    0.001063    0.015047  0.702911 -0.001419  0.011434  0.587657  \n",
       "Twashrooms    -0.001042    0.017969  0.742157 -0.001513  0.013213  0.604139  \n",
       "Roof(Area)     1.000000    0.015228 -0.001603  0.005148 -0.002222  0.128261  \n",
       "Lawn(Area)     0.015228    1.000000  0.022981 -0.007112  0.000997  0.068758  \n",
       "Nfloors       -0.001603    0.022981  1.000000  0.002702  0.008982  0.575612  \n",
       "API            0.005148   -0.007112  0.002702  1.000000  0.012268  0.112338  \n",
       "ANB           -0.002222    0.000997  0.008982  0.012268  1.000000  0.028895  \n",
       "EXPECTED       0.128261    0.068758  0.575612  0.112338  0.028895  1.000000  "
      ]
     },
     "execution_count": 66,
     "metadata": {},
     "output_type": "execute_result"
    }
   ],
   "source": [
    "numcols.corr()"
   ]
  },
  {
   "cell_type": "code",
   "execution_count": 67,
   "id": "4023ecb5",
   "metadata": {},
   "outputs": [
    {
     "data": {
      "text/plain": [
       "<Axes: >"
      ]
     },
     "execution_count": 67,
     "metadata": {},
     "output_type": "execute_result"
    },
    {
     "data": {
      "image/png": "[encoded data removed]",
      "text/plain": [
       "<Figure size 3000x1500 with 2 Axes>"
      ]
     },
     "metadata": {},
     "output_type": "display_data"
    }
   ],
   "source": [
    "plt.figure(figsize=(30,15))\n",
    "sns.heatmap(numcols.corr(),annot=True)"
   ]
  },
  {
   "cell_type": "code",
   "execution_count": 68,
   "id": "ce1ac006",
   "metadata": {},
   "outputs": [],
   "source": [
    "numcols=numcols.drop('Twashrooms',axis=1)"
   ]
  },
  {
   "cell_type": "code",
   "execution_count": 69,
   "id": "c92988df",
   "metadata": {},
   "outputs": [
    {
     "data": {
      "text/html": [
       "<div>\n",
       "<style scoped>\n",
       "    .dataframe tbody tr th:only-of-type {\n",
       "        vertical-align: middle;\n",
       "    }\n",
       "\n",
       "    .dataframe tbody tr th {\n",
       "        vertical-align: top;\n",
       "    }\n",
       "\n",
       "    .dataframe thead th {\n",
       "        text-align: right;\n",
       "    }\n",
       "</style>\n",
       "<table border=\"1\" class=\"dataframe\">\n",
       "  <thead>\n",
       "    <tr style=\"text-align: right;\">\n",
       "      <th></th>\n",
       "      <th>Area(total)</th>\n",
       "      <th>Troom</th>\n",
       "      <th>Nbedrooms</th>\n",
       "      <th>Nbwashrooms</th>\n",
       "      <th>Roof(Area)</th>\n",
       "      <th>Lawn(Area)</th>\n",
       "      <th>Nfloors</th>\n",
       "      <th>API</th>\n",
       "      <th>ANB</th>\n",
       "      <th>EXPECTED</th>\n",
       "    </tr>\n",
       "  </thead>\n",
       "  <tbody>\n",
       "    <tr>\n",
       "      <th>0</th>\n",
       "      <td>305</td>\n",
       "      <td>8.0</td>\n",
       "      <td>2.0</td>\n",
       "      <td>1.0</td>\n",
       "      <td>0.0</td>\n",
       "      <td>76.0</td>\n",
       "      <td>2</td>\n",
       "      <td>63.0</td>\n",
       "      <td>4</td>\n",
       "      <td>3826</td>\n",
       "    </tr>\n",
       "    <tr>\n",
       "      <th>1</th>\n",
       "      <td>344</td>\n",
       "      <td>6.0</td>\n",
       "      <td>7.0</td>\n",
       "      <td>7.0</td>\n",
       "      <td>0.0</td>\n",
       "      <td>83.0</td>\n",
       "      <td>7</td>\n",
       "      <td>97.0</td>\n",
       "      <td>1</td>\n",
       "      <td>4458</td>\n",
       "    </tr>\n",
       "    <tr>\n",
       "      <th>2</th>\n",
       "      <td>294</td>\n",
       "      <td>8.0</td>\n",
       "      <td>4.0</td>\n",
       "      <td>3.0</td>\n",
       "      <td>97.0</td>\n",
       "      <td>78.0</td>\n",
       "      <td>1</td>\n",
       "      <td>88.0</td>\n",
       "      <td>4</td>\n",
       "      <td>4199</td>\n",
       "    </tr>\n",
       "    <tr>\n",
       "      <th>3</th>\n",
       "      <td>328</td>\n",
       "      <td>5.0</td>\n",
       "      <td>4.0</td>\n",
       "      <td>2.0</td>\n",
       "      <td>0.0</td>\n",
       "      <td>91.0</td>\n",
       "      <td>5</td>\n",
       "      <td>86.0</td>\n",
       "      <td>1</td>\n",
       "      <td>3462</td>\n",
       "    </tr>\n",
       "    <tr>\n",
       "      <th>4</th>\n",
       "      <td>295</td>\n",
       "      <td>9.0</td>\n",
       "      <td>5.0</td>\n",
       "      <td>3.0</td>\n",
       "      <td>0.0</td>\n",
       "      <td>97.0</td>\n",
       "      <td>4</td>\n",
       "      <td>93.0</td>\n",
       "      <td>3</td>\n",
       "      <td>4543</td>\n",
       "    </tr>\n",
       "  </tbody>\n",
       "</table>\n",
       "</div>"
      ],
      "text/plain": [
       "   Area(total)  Troom  Nbedrooms  Nbwashrooms  Roof(Area)  Lawn(Area)  \\\n",
       "0          305    8.0        2.0          1.0         0.0        76.0   \n",
       "1          344    6.0        7.0          7.0         0.0        83.0   \n",
       "2          294    8.0        4.0          3.0        97.0        78.0   \n",
       "3          328    5.0        4.0          2.0         0.0        91.0   \n",
       "4          295    9.0        5.0          3.0         0.0        97.0   \n",
       "\n",
       "   Nfloors   API  ANB  EXPECTED  \n",
       "0        2  63.0    4      3826  \n",
       "1        7  97.0    1      4458  \n",
       "2        1  88.0    4      4199  \n",
       "3        5  86.0    1      3462  \n",
       "4        4  93.0    3      4543  "
      ]
     },
     "execution_count": 69,
     "metadata": {},
     "output_type": "execute_result"
    }
   ],
   "source": [
    "numcols.head()"
   ]
  },
  {
   "cell_type": "markdown",
   "id": "63ff70d7",
   "metadata": {},
   "source": [
    "# Standard Scaler"
   ]
  },
  {
   "cell_type": "code",
   "execution_count": 70,
   "id": "fce507e4",
   "metadata": {},
   "outputs": [],
   "source": [
    "from sklearn.preprocessing import StandardScaler"
   ]
  },
  {
   "cell_type": "code",
   "execution_count": 71,
   "id": "cd5f299f",
   "metadata": {},
   "outputs": [],
   "source": [
    "sc=StandardScaler()"
   ]
  },
  {
   "cell_type": "code",
   "execution_count": 72,
   "id": "9a3d0d5d",
   "metadata": {},
   "outputs": [],
   "source": [
    "numcols_scaled=sc.fit_transform(numcols)"
   ]
  },
  {
   "cell_type": "code",
   "execution_count": 73,
   "id": "886fc645",
   "metadata": {},
   "outputs": [],
   "source": [
    "numcols_scaled=pd.DataFrame(numcols_scaled,columns=numcols.columns)"
   ]
  },
  {
   "cell_type": "code",
   "execution_count": 74,
   "id": "0b0d448c",
   "metadata": {},
   "outputs": [
    {
     "data": {
      "text/html": [
       "<div>\n",
       "<style scoped>\n",
       "    .dataframe tbody tr th:only-of-type {\n",
       "        vertical-align: middle;\n",
       "    }\n",
       "\n",
       "    .dataframe tbody tr th {\n",
       "        vertical-align: top;\n",
       "    }\n",
       "\n",
       "    .dataframe thead th {\n",
       "        text-align: right;\n",
       "    }\n",
       "</style>\n",
       "<table border=\"1\" class=\"dataframe\">\n",
       "  <thead>\n",
       "    <tr style=\"text-align: right;\">\n",
       "      <th></th>\n",
       "      <th>Area(total)</th>\n",
       "      <th>Troom</th>\n",
       "      <th>Nbedrooms</th>\n",
       "      <th>Nbwashrooms</th>\n",
       "      <th>Roof(Area)</th>\n",
       "      <th>Lawn(Area)</th>\n",
       "      <th>Nfloors</th>\n",
       "      <th>API</th>\n",
       "      <th>ANB</th>\n",
       "      <th>EXPECTED</th>\n",
       "    </tr>\n",
       "  </thead>\n",
       "  <tbody>\n",
       "    <tr>\n",
       "      <th>0</th>\n",
       "      <td>-0.976671</td>\n",
       "      <td>0.702599</td>\n",
       "      <td>-1.822064</td>\n",
       "      <td>-1.900970</td>\n",
       "      <td>-0.797958</td>\n",
       "      <td>-1.185348</td>\n",
       "      <td>-1.382224</td>\n",
       "      <td>-1.354072</td>\n",
       "      <td>0.297617</td>\n",
       "      <td>-0.419853</td>\n",
       "    </tr>\n",
       "    <tr>\n",
       "      <th>1</th>\n",
       "      <td>0.927560</td>\n",
       "      <td>-0.706156</td>\n",
       "      <td>1.219336</td>\n",
       "      <td>1.894337</td>\n",
       "      <td>-0.797958</td>\n",
       "      <td>-0.593228</td>\n",
       "      <td>1.372648</td>\n",
       "      <td>1.518120</td>\n",
       "      <td>-1.468029</td>\n",
       "      <td>0.861792</td>\n",
       "    </tr>\n",
       "    <tr>\n",
       "      <th>2</th>\n",
       "      <td>-1.513762</td>\n",
       "      <td>0.702599</td>\n",
       "      <td>-0.605504</td>\n",
       "      <td>-0.635868</td>\n",
       "      <td>1.237577</td>\n",
       "      <td>-1.016171</td>\n",
       "      <td>-1.933198</td>\n",
       "      <td>0.757834</td>\n",
       "      <td>0.297617</td>\n",
       "      <td>0.336561</td>\n",
       "    </tr>\n",
       "    <tr>\n",
       "      <th>3</th>\n",
       "      <td>0.146337</td>\n",
       "      <td>-1.410533</td>\n",
       "      <td>-0.605504</td>\n",
       "      <td>-1.268419</td>\n",
       "      <td>-0.797958</td>\n",
       "      <td>0.083480</td>\n",
       "      <td>0.270699</td>\n",
       "      <td>0.588881</td>\n",
       "      <td>-1.468029</td>\n",
       "      <td>-1.158016</td>\n",
       "    </tr>\n",
       "    <tr>\n",
       "      <th>4</th>\n",
       "      <td>-1.464936</td>\n",
       "      <td>1.406977</td>\n",
       "      <td>0.002776</td>\n",
       "      <td>-0.635868</td>\n",
       "      <td>-0.797958</td>\n",
       "      <td>0.591011</td>\n",
       "      <td>-0.280275</td>\n",
       "      <td>1.180215</td>\n",
       "      <td>-0.290931</td>\n",
       "      <td>1.034165</td>\n",
       "    </tr>\n",
       "  </tbody>\n",
       "</table>\n",
       "</div>"
      ],
      "text/plain": [
       "   Area(total)     Troom  Nbedrooms  Nbwashrooms  Roof(Area)  Lawn(Area)  \\\n",
       "0    -0.976671  0.702599  -1.822064    -1.900970   -0.797958   -1.185348   \n",
       "1     0.927560 -0.706156   1.219336     1.894337   -0.797958   -0.593228   \n",
       "2    -1.513762  0.702599  -0.605504    -0.635868    1.237577   -1.016171   \n",
       "3     0.146337 -1.410533  -0.605504    -1.268419   -0.797958    0.083480   \n",
       "4    -1.464936  1.406977   0.002776    -0.635868   -0.797958    0.591011   \n",
       "\n",
       "    Nfloors       API       ANB  EXPECTED  \n",
       "0 -1.382224 -1.354072  0.297617 -0.419853  \n",
       "1  1.372648  1.518120 -1.468029  0.861792  \n",
       "2 -1.933198  0.757834  0.297617  0.336561  \n",
       "3  0.270699  0.588881 -1.468029 -1.158016  \n",
       "4 -0.280275  1.180215 -0.290931  1.034165  "
      ]
     },
     "execution_count": 74,
     "metadata": {},
     "output_type": "execute_result"
    }
   ],
   "source": [
    "numcols_scaled.head()"
   ]
  },
  {
   "cell_type": "code",
   "execution_count": 75,
   "id": "e994b9e9",
   "metadata": {},
   "outputs": [
    {
     "data": {
      "text/plain": [
       "<Axes: >"
      ]
     },
     "execution_count": 75,
     "metadata": {},
     "output_type": "execute_result"
    },
    {
     "data": {
      "image/png": "[encoded data removed]",
      "text/plain": [
       "<Figure size 2000x1000 with 1 Axes>"
      ]
     },
     "metadata": {},
     "output_type": "display_data"
    }
   ],
   "source": [
    "plt.figure(figsize=(20,10))\n",
    "sns.boxplot(numcols_scaled)"
   ]
  },
  {
   "cell_type": "markdown",
   "id": "8bd72657",
   "metadata": {},
   "source": [
    "# Minmax Scaler"
   ]
  },
  {
   "cell_type": "code",
   "execution_count": 76,
   "id": "ac51d9f0",
   "metadata": {},
   "outputs": [],
   "source": [
    "from sklearn.preprocessing import MinMaxScaler"
   ]
  },
  {
   "cell_type": "code",
   "execution_count": 77,
   "id": "9a33ca34",
   "metadata": {},
   "outputs": [],
   "source": [
    "mm=MinMaxScaler()"
   ]
  },
  {
   "cell_type": "code",
   "execution_count": 78,
   "id": "c7dcdeec",
   "metadata": {},
   "outputs": [],
   "source": [
    "numcols_mm=mm.fit_transform(numcols)"
   ]
  },
  {
   "cell_type": "code",
   "execution_count": 79,
   "id": "ea47071c",
   "metadata": {},
   "outputs": [],
   "source": [
    "numcols_mm=pd.DataFrame(numcols_mm,columns=numcols.columns)"
   ]
  },
  {
   "cell_type": "code",
   "execution_count": 80,
   "id": "13d901ae",
   "metadata": {},
   "outputs": [
    {
     "data": {
      "text/html": [
       "<div>\n",
       "<style scoped>\n",
       "    .dataframe tbody tr th:only-of-type {\n",
       "        vertical-align: middle;\n",
       "    }\n",
       "\n",
       "    .dataframe tbody tr th {\n",
       "        vertical-align: top;\n",
       "    }\n",
       "\n",
       "    .dataframe thead th {\n",
       "        text-align: right;\n",
       "    }\n",
       "</style>\n",
       "<table border=\"1\" class=\"dataframe\">\n",
       "  <thead>\n",
       "    <tr style=\"text-align: right;\">\n",
       "      <th></th>\n",
       "      <th>Area(total)</th>\n",
       "      <th>Troom</th>\n",
       "      <th>Nbedrooms</th>\n",
       "      <th>Nbwashrooms</th>\n",
       "      <th>Roof(Area)</th>\n",
       "      <th>Lawn(Area)</th>\n",
       "      <th>Nfloors</th>\n",
       "      <th>API</th>\n",
       "      <th>ANB</th>\n",
       "      <th>EXPECTED</th>\n",
       "    </tr>\n",
       "  </thead>\n",
       "  <tbody>\n",
       "    <tr>\n",
       "      <th>0</th>\n",
       "      <td>0.214286</td>\n",
       "      <td>0.75</td>\n",
       "      <td>0.000000</td>\n",
       "      <td>0.000000</td>\n",
       "      <td>0.000000</td>\n",
       "      <td>0.150</td>\n",
       "      <td>0.142857</td>\n",
       "      <td>0.100</td>\n",
       "      <td>0.6</td>\n",
       "      <td>0.359016</td>\n",
       "    </tr>\n",
       "    <tr>\n",
       "      <th>1</th>\n",
       "      <td>0.771429</td>\n",
       "      <td>0.25</td>\n",
       "      <td>0.833333</td>\n",
       "      <td>1.000000</td>\n",
       "      <td>0.000000</td>\n",
       "      <td>0.325</td>\n",
       "      <td>0.857143</td>\n",
       "      <td>0.950</td>\n",
       "      <td>0.0</td>\n",
       "      <td>0.563613</td>\n",
       "    </tr>\n",
       "    <tr>\n",
       "      <th>2</th>\n",
       "      <td>0.057143</td>\n",
       "      <td>0.75</td>\n",
       "      <td>0.333333</td>\n",
       "      <td>0.333333</td>\n",
       "      <td>0.808333</td>\n",
       "      <td>0.200</td>\n",
       "      <td>0.000000</td>\n",
       "      <td>0.725</td>\n",
       "      <td>0.6</td>\n",
       "      <td>0.479767</td>\n",
       "    </tr>\n",
       "    <tr>\n",
       "      <th>3</th>\n",
       "      <td>0.542857</td>\n",
       "      <td>0.00</td>\n",
       "      <td>0.333333</td>\n",
       "      <td>0.166667</td>\n",
       "      <td>0.000000</td>\n",
       "      <td>0.525</td>\n",
       "      <td>0.571429</td>\n",
       "      <td>0.675</td>\n",
       "      <td>0.0</td>\n",
       "      <td>0.241178</td>\n",
       "    </tr>\n",
       "    <tr>\n",
       "      <th>4</th>\n",
       "      <td>0.071429</td>\n",
       "      <td>1.00</td>\n",
       "      <td>0.500000</td>\n",
       "      <td>0.333333</td>\n",
       "      <td>0.000000</td>\n",
       "      <td>0.675</td>\n",
       "      <td>0.428571</td>\n",
       "      <td>0.850</td>\n",
       "      <td>0.4</td>\n",
       "      <td>0.591130</td>\n",
       "    </tr>\n",
       "  </tbody>\n",
       "</table>\n",
       "</div>"
      ],
      "text/plain": [
       "   Area(total)  Troom  Nbedrooms  Nbwashrooms  Roof(Area)  Lawn(Area)  \\\n",
       "0     0.214286   0.75   0.000000     0.000000    0.000000       0.150   \n",
       "1     0.771429   0.25   0.833333     1.000000    0.000000       0.325   \n",
       "2     0.057143   0.75   0.333333     0.333333    0.808333       0.200   \n",
       "3     0.542857   0.00   0.333333     0.166667    0.000000       0.525   \n",
       "4     0.071429   1.00   0.500000     0.333333    0.000000       0.675   \n",
       "\n",
       "    Nfloors    API  ANB  EXPECTED  \n",
       "0  0.142857  0.100  0.6  0.359016  \n",
       "1  0.857143  0.950  0.0  0.563613  \n",
       "2  0.000000  0.725  0.6  0.479767  \n",
       "3  0.571429  0.675  0.0  0.241178  \n",
       "4  0.428571  0.850  0.4  0.591130  "
      ]
     },
     "execution_count": 80,
     "metadata": {},
     "output_type": "execute_result"
    }
   ],
   "source": [
    "numcols_mm.head()"
   ]
  },
  {
   "cell_type": "code",
   "execution_count": 81,
   "id": "cadfd8b8",
   "metadata": {},
   "outputs": [
    {
     "data": {
      "text/plain": [
       "<Axes: >"
      ]
     },
     "execution_count": 81,
     "metadata": {},
     "output_type": "execute_result"
    },
    {
     "data": {
      "image/png": "[encoded data removed]",
      "text/plain": [
       "<Figure size 2000x1000 with 1 Axes>"
      ]
     },
     "metadata": {},
     "output_type": "display_data"
    }
   ],
   "source": [
    "plt.figure(figsize=(20,10))\n",
    "sns.boxplot(numcols_mm)"
   ]
  },
  {
   "cell_type": "markdown",
   "id": "26c925f3",
   "metadata": {},
   "source": [
    "# Robust scaler"
   ]
  },
  {
   "cell_type": "code",
   "execution_count": 82,
   "id": "1b0256eb",
   "metadata": {},
   "outputs": [],
   "source": [
    "from sklearn.preprocessing import RobustScaler"
   ]
  },
  {
   "cell_type": "code",
   "execution_count": 83,
   "id": "46764fe7",
   "metadata": {},
   "outputs": [],
   "source": [
    "robust=RobustScaler()"
   ]
  },
  {
   "cell_type": "code",
   "execution_count": 84,
   "id": "1a82da36",
   "metadata": {},
   "outputs": [],
   "source": [
    "numcols_robust=robust.fit_transform(numcols)"
   ]
  },
  {
   "cell_type": "code",
   "execution_count": 85,
   "id": "c5851004",
   "metadata": {},
   "outputs": [],
   "source": [
    "numcols_robust=pd.DataFrame(numcols_robust,columns=numcols.columns)"
   ]
  },
  {
   "cell_type": "code",
   "execution_count": 86,
   "id": "60253b59",
   "metadata": {},
   "outputs": [
    {
     "data": {
      "text/html": [
       "<div>\n",
       "<style scoped>\n",
       "    .dataframe tbody tr th:only-of-type {\n",
       "        vertical-align: middle;\n",
       "    }\n",
       "\n",
       "    .dataframe tbody tr th {\n",
       "        vertical-align: top;\n",
       "    }\n",
       "\n",
       "    .dataframe thead th {\n",
       "        text-align: right;\n",
       "    }\n",
       "</style>\n",
       "<table border=\"1\" class=\"dataframe\">\n",
       "  <thead>\n",
       "    <tr style=\"text-align: right;\">\n",
       "      <th></th>\n",
       "      <th>Area(total)</th>\n",
       "      <th>Troom</th>\n",
       "      <th>Nbedrooms</th>\n",
       "      <th>Nbwashrooms</th>\n",
       "      <th>Roof(Area)</th>\n",
       "      <th>Lawn(Area)</th>\n",
       "      <th>Nfloors</th>\n",
       "      <th>API</th>\n",
       "      <th>ANB</th>\n",
       "      <th>EXPECTED</th>\n",
       "    </tr>\n",
       "  </thead>\n",
       "  <tbody>\n",
       "    <tr>\n",
       "      <th>0</th>\n",
       "      <td>-0.571429</td>\n",
       "      <td>0.5</td>\n",
       "      <td>-1.5</td>\n",
       "      <td>-1.5</td>\n",
       "      <td>0.000000</td>\n",
       "      <td>-0.70</td>\n",
       "      <td>-1.000000</td>\n",
       "      <td>-0.80</td>\n",
       "      <td>0.333333</td>\n",
       "      <td>-0.253852</td>\n",
       "    </tr>\n",
       "    <tr>\n",
       "      <th>1</th>\n",
       "      <td>0.542857</td>\n",
       "      <td>-0.5</td>\n",
       "      <td>1.0</td>\n",
       "      <td>1.5</td>\n",
       "      <td>0.000000</td>\n",
       "      <td>-0.35</td>\n",
       "      <td>0.666667</td>\n",
       "      <td>0.90</td>\n",
       "      <td>-0.666667</td>\n",
       "      <td>0.673514</td>\n",
       "    </tr>\n",
       "    <tr>\n",
       "      <th>2</th>\n",
       "      <td>-0.885714</td>\n",
       "      <td>0.5</td>\n",
       "      <td>-0.5</td>\n",
       "      <td>-0.5</td>\n",
       "      <td>1.089888</td>\n",
       "      <td>-0.60</td>\n",
       "      <td>-1.333333</td>\n",
       "      <td>0.45</td>\n",
       "      <td>0.333333</td>\n",
       "      <td>0.293470</td>\n",
       "    </tr>\n",
       "    <tr>\n",
       "      <th>3</th>\n",
       "      <td>0.085714</td>\n",
       "      <td>-1.0</td>\n",
       "      <td>-0.5</td>\n",
       "      <td>-1.0</td>\n",
       "      <td>0.000000</td>\n",
       "      <td>0.05</td>\n",
       "      <td>0.000000</td>\n",
       "      <td>0.35</td>\n",
       "      <td>-0.666667</td>\n",
       "      <td>-0.787968</td>\n",
       "    </tr>\n",
       "    <tr>\n",
       "      <th>4</th>\n",
       "      <td>-0.857143</td>\n",
       "      <td>1.0</td>\n",
       "      <td>0.0</td>\n",
       "      <td>-0.5</td>\n",
       "      <td>0.000000</td>\n",
       "      <td>0.35</td>\n",
       "      <td>-0.333333</td>\n",
       "      <td>0.70</td>\n",
       "      <td>0.000000</td>\n",
       "      <td>0.798239</td>\n",
       "    </tr>\n",
       "  </tbody>\n",
       "</table>\n",
       "</div>"
      ],
      "text/plain": [
       "   Area(total)  Troom  Nbedrooms  Nbwashrooms  Roof(Area)  Lawn(Area)  \\\n",
       "0    -0.571429    0.5       -1.5         -1.5    0.000000       -0.70   \n",
       "1     0.542857   -0.5        1.0          1.5    0.000000       -0.35   \n",
       "2    -0.885714    0.5       -0.5         -0.5    1.089888       -0.60   \n",
       "3     0.085714   -1.0       -0.5         -1.0    0.000000        0.05   \n",
       "4    -0.857143    1.0        0.0         -0.5    0.000000        0.35   \n",
       "\n",
       "    Nfloors   API       ANB  EXPECTED  \n",
       "0 -1.000000 -0.80  0.333333 -0.253852  \n",
       "1  0.666667  0.90 -0.666667  0.673514  \n",
       "2 -1.333333  0.45  0.333333  0.293470  \n",
       "3  0.000000  0.35 -0.666667 -0.787968  \n",
       "4 -0.333333  0.70  0.000000  0.798239  "
      ]
     },
     "execution_count": 86,
     "metadata": {},
     "output_type": "execute_result"
    }
   ],
   "source": [
    "numcols_robust.head()"
   ]
  },
  {
   "cell_type": "code",
   "execution_count": 87,
   "id": "f3e326ff",
   "metadata": {},
   "outputs": [
    {
     "data": {
      "text/plain": [
       "<Axes: >"
      ]
     },
     "execution_count": 87,
     "metadata": {},
     "output_type": "execute_result"
    },
    {
     "data": {
      "image/png": "[encoded data removed]",
      "text/plain": [
       "<Figure size 2000x1000 with 1 Axes>"
      ]
     },
     "metadata": {},
     "output_type": "display_data"
    }
   ],
   "source": [
    "plt.figure(figsize=(20,10))\n",
    "sns.boxplot(numcols_robust)"
   ]
  },
  {
   "cell_type": "code",
   "execution_count": 88,
   "id": "f8eba676",
   "metadata": {},
   "outputs": [
    {
     "name": "stdout",
     "output_type": "stream",
     "text": [
      "<class 'pandas.core.frame.DataFrame'>\n",
      "RangeIndex: 10299 entries, 0 to 10298\n",
      "Data columns (total 10 columns):\n",
      " #   Column       Non-Null Count  Dtype  \n",
      "---  ------       --------------  -----  \n",
      " 0   Area(total)  10299 non-null  float64\n",
      " 1   Troom        10299 non-null  float64\n",
      " 2   Nbedrooms    10299 non-null  float64\n",
      " 3   Nbwashrooms  10299 non-null  float64\n",
      " 4   Roof(Area)   10299 non-null  float64\n",
      " 5   Lawn(Area)   10299 non-null  float64\n",
      " 6   Nfloors      10299 non-null  float64\n",
      " 7   API          10299 non-null  float64\n",
      " 8   ANB          10299 non-null  float64\n",
      " 9   EXPECTED     10299 non-null  float64\n",
      "dtypes: float64(10)\n",
      "memory usage: 804.7 KB\n"
     ]
    }
   ],
   "source": [
    "numcols_mm.info()"
   ]
  },
  {
   "cell_type": "code",
   "execution_count": 89,
   "id": "1e8c1760",
   "metadata": {},
   "outputs": [
    {
     "name": "stdout",
     "output_type": "stream",
     "text": [
      "<class 'pandas.core.frame.DataFrame'>\n",
      "RangeIndex: 10299 entries, 0 to 10298\n",
      "Data columns (total 12 columns):\n",
      " #   Column       Non-Null Count  Dtype  \n",
      "---  ------       --------------  -----  \n",
      " 0   Area(total)  10299 non-null  float64\n",
      " 1   Troom        10299 non-null  float64\n",
      " 2   Nbedrooms    10299 non-null  float64\n",
      " 3   Nbwashrooms  10299 non-null  float64\n",
      " 4   Roof(Area)   10299 non-null  float64\n",
      " 5   Lawn(Area)   10299 non-null  float64\n",
      " 6   Nfloors      10299 non-null  float64\n",
      " 7   API          10299 non-null  float64\n",
      " 8   ANB          10299 non-null  float64\n",
      " 9   EXPECTED     10299 non-null  float64\n",
      " 10  roof         10299 non-null  int32  \n",
      " 11  Grade        10299 non-null  object \n",
      "dtypes: float64(10), int32(1), object(1)\n",
      "memory usage: 925.4+ KB\n"
     ]
    }
   ],
   "source": [
    "clean=pd.concat([numcols_mm,objcols],axis=1)\n",
    "clean.info()"
   ]
  },
  {
   "cell_type": "code",
   "execution_count": 90,
   "id": "cb9a9290-46a3-4597-94e8-0c8c9c129744",
   "metadata": {},
   "outputs": [
    {
     "data": {
      "text/html": [
       "<div>\n",
       "<style scoped>\n",
       "    .dataframe tbody tr th:only-of-type {\n",
       "        vertical-align: middle;\n",
       "    }\n",
       "\n",
       "    .dataframe tbody tr th {\n",
       "        vertical-align: top;\n",
       "    }\n",
       "\n",
       "    .dataframe thead th {\n",
       "        text-align: right;\n",
       "    }\n",
       "</style>\n",
       "<table border=\"1\" class=\"dataframe\">\n",
       "  <thead>\n",
       "    <tr style=\"text-align: right;\">\n",
       "      <th></th>\n",
       "      <th>Area(total)</th>\n",
       "      <th>Troom</th>\n",
       "      <th>Nbedrooms</th>\n",
       "      <th>Nbwashrooms</th>\n",
       "      <th>Roof(Area)</th>\n",
       "      <th>Lawn(Area)</th>\n",
       "      <th>Nfloors</th>\n",
       "      <th>API</th>\n",
       "      <th>ANB</th>\n",
       "      <th>EXPECTED</th>\n",
       "      <th>roof</th>\n",
       "      <th>Grade</th>\n",
       "    </tr>\n",
       "  </thead>\n",
       "  <tbody>\n",
       "    <tr>\n",
       "      <th>0</th>\n",
       "      <td>0.214286</td>\n",
       "      <td>0.75</td>\n",
       "      <td>0.000000</td>\n",
       "      <td>0.000000</td>\n",
       "      <td>0.000000</td>\n",
       "      <td>0.150</td>\n",
       "      <td>0.142857</td>\n",
       "      <td>0.100</td>\n",
       "      <td>0.6</td>\n",
       "      <td>0.359016</td>\n",
       "      <td>0</td>\n",
       "      <td>D</td>\n",
       "    </tr>\n",
       "    <tr>\n",
       "      <th>1</th>\n",
       "      <td>0.771429</td>\n",
       "      <td>0.25</td>\n",
       "      <td>0.833333</td>\n",
       "      <td>1.000000</td>\n",
       "      <td>0.000000</td>\n",
       "      <td>0.325</td>\n",
       "      <td>0.857143</td>\n",
       "      <td>0.950</td>\n",
       "      <td>0.0</td>\n",
       "      <td>0.563613</td>\n",
       "      <td>0</td>\n",
       "      <td>B</td>\n",
       "    </tr>\n",
       "    <tr>\n",
       "      <th>2</th>\n",
       "      <td>0.057143</td>\n",
       "      <td>0.75</td>\n",
       "      <td>0.333333</td>\n",
       "      <td>0.333333</td>\n",
       "      <td>0.808333</td>\n",
       "      <td>0.200</td>\n",
       "      <td>0.000000</td>\n",
       "      <td>0.725</td>\n",
       "      <td>0.6</td>\n",
       "      <td>0.479767</td>\n",
       "      <td>1</td>\n",
       "      <td>C</td>\n",
       "    </tr>\n",
       "    <tr>\n",
       "      <th>3</th>\n",
       "      <td>0.542857</td>\n",
       "      <td>0.00</td>\n",
       "      <td>0.333333</td>\n",
       "      <td>0.166667</td>\n",
       "      <td>0.000000</td>\n",
       "      <td>0.525</td>\n",
       "      <td>0.571429</td>\n",
       "      <td>0.675</td>\n",
       "      <td>0.0</td>\n",
       "      <td>0.241178</td>\n",
       "      <td>0</td>\n",
       "      <td>D</td>\n",
       "    </tr>\n",
       "    <tr>\n",
       "      <th>4</th>\n",
       "      <td>0.071429</td>\n",
       "      <td>1.00</td>\n",
       "      <td>0.500000</td>\n",
       "      <td>0.333333</td>\n",
       "      <td>0.000000</td>\n",
       "      <td>0.675</td>\n",
       "      <td>0.428571</td>\n",
       "      <td>0.850</td>\n",
       "      <td>0.4</td>\n",
       "      <td>0.591130</td>\n",
       "      <td>0</td>\n",
       "      <td>C</td>\n",
       "    </tr>\n",
       "  </tbody>\n",
       "</table>\n",
       "</div>"
      ],
      "text/plain": [
       "   Area(total)  Troom  Nbedrooms  Nbwashrooms  Roof(Area)  Lawn(Area)  \\\n",
       "0     0.214286   0.75   0.000000     0.000000    0.000000       0.150   \n",
       "1     0.771429   0.25   0.833333     1.000000    0.000000       0.325   \n",
       "2     0.057143   0.75   0.333333     0.333333    0.808333       0.200   \n",
       "3     0.542857   0.00   0.333333     0.166667    0.000000       0.525   \n",
       "4     0.071429   1.00   0.500000     0.333333    0.000000       0.675   \n",
       "\n",
       "    Nfloors    API  ANB  EXPECTED  roof Grade  \n",
       "0  0.142857  0.100  0.6  0.359016     0     D  \n",
       "1  0.857143  0.950  0.0  0.563613     0     B  \n",
       "2  0.000000  0.725  0.6  0.479767     1     C  \n",
       "3  0.571429  0.675  0.0  0.241178     0     D  \n",
       "4  0.428571  0.850  0.4  0.591130     0     C  "
      ]
     },
     "execution_count": 90,
     "metadata": {},
     "output_type": "execute_result"
    }
   ],
   "source": [
    "clean.head()"
   ]
  },
  {
   "cell_type": "code",
   "execution_count": 91,
   "id": "4ec602da",
   "metadata": {},
   "outputs": [],
   "source": [
    "house_tr=clean[clean.Grade!='Missing']\n",
    "house_tt=clean[clean.Grade=='Missing']"
   ]
  },
  {
   "cell_type": "code",
   "execution_count": 92,
   "id": "30792cd8",
   "metadata": {},
   "outputs": [
    {
     "data": {
      "text/html": [
       "<div>\n",
       "<style scoped>\n",
       "    .dataframe tbody tr th:only-of-type {\n",
       "        vertical-align: middle;\n",
       "    }\n",
       "\n",
       "    .dataframe tbody tr th {\n",
       "        vertical-align: top;\n",
       "    }\n",
       "\n",
       "    .dataframe thead th {\n",
       "        text-align: right;\n",
       "    }\n",
       "</style>\n",
       "<table border=\"1\" class=\"dataframe\">\n",
       "  <thead>\n",
       "    <tr style=\"text-align: right;\">\n",
       "      <th></th>\n",
       "      <th>Area(total)</th>\n",
       "      <th>Troom</th>\n",
       "      <th>Nbedrooms</th>\n",
       "      <th>Nbwashrooms</th>\n",
       "      <th>Roof(Area)</th>\n",
       "      <th>Lawn(Area)</th>\n",
       "      <th>Nfloors</th>\n",
       "      <th>API</th>\n",
       "      <th>ANB</th>\n",
       "      <th>EXPECTED</th>\n",
       "      <th>roof</th>\n",
       "      <th>Grade</th>\n",
       "    </tr>\n",
       "  </thead>\n",
       "  <tbody>\n",
       "    <tr>\n",
       "      <th>6995</th>\n",
       "      <td>0.228571</td>\n",
       "      <td>0.75</td>\n",
       "      <td>0.000000</td>\n",
       "      <td>0.000000</td>\n",
       "      <td>0.000000</td>\n",
       "      <td>0.200</td>\n",
       "      <td>0.000000</td>\n",
       "      <td>0.350</td>\n",
       "      <td>0.8</td>\n",
       "      <td>0.323729</td>\n",
       "      <td>0</td>\n",
       "      <td>D</td>\n",
       "    </tr>\n",
       "    <tr>\n",
       "      <th>6996</th>\n",
       "      <td>0.728571</td>\n",
       "      <td>0.00</td>\n",
       "      <td>0.166667</td>\n",
       "      <td>0.166667</td>\n",
       "      <td>0.833333</td>\n",
       "      <td>0.050</td>\n",
       "      <td>0.428571</td>\n",
       "      <td>0.425</td>\n",
       "      <td>0.6</td>\n",
       "      <td>0.201360</td>\n",
       "      <td>1</td>\n",
       "      <td>D</td>\n",
       "    </tr>\n",
       "    <tr>\n",
       "      <th>6997</th>\n",
       "      <td>0.228571</td>\n",
       "      <td>0.25</td>\n",
       "      <td>0.333333</td>\n",
       "      <td>0.166667</td>\n",
       "      <td>0.691667</td>\n",
       "      <td>0.250</td>\n",
       "      <td>0.428571</td>\n",
       "      <td>0.925</td>\n",
       "      <td>0.6</td>\n",
       "      <td>0.359987</td>\n",
       "      <td>1</td>\n",
       "      <td>D</td>\n",
       "    </tr>\n",
       "    <tr>\n",
       "      <th>6998</th>\n",
       "      <td>0.685714</td>\n",
       "      <td>0.75</td>\n",
       "      <td>0.833333</td>\n",
       "      <td>0.833333</td>\n",
       "      <td>0.000000</td>\n",
       "      <td>0.625</td>\n",
       "      <td>0.428571</td>\n",
       "      <td>0.625</td>\n",
       "      <td>0.0</td>\n",
       "      <td>0.573325</td>\n",
       "      <td>0</td>\n",
       "      <td>B</td>\n",
       "    </tr>\n",
       "    <tr>\n",
       "      <th>6999</th>\n",
       "      <td>0.342857</td>\n",
       "      <td>0.00</td>\n",
       "      <td>0.666667</td>\n",
       "      <td>0.500000</td>\n",
       "      <td>0.908333</td>\n",
       "      <td>0.250</td>\n",
       "      <td>0.428571</td>\n",
       "      <td>0.925</td>\n",
       "      <td>0.2</td>\n",
       "      <td>0.226934</td>\n",
       "      <td>1</td>\n",
       "      <td>C</td>\n",
       "    </tr>\n",
       "  </tbody>\n",
       "</table>\n",
       "</div>"
      ],
      "text/plain": [
       "      Area(total)  Troom  Nbedrooms  Nbwashrooms  Roof(Area)  Lawn(Area)  \\\n",
       "6995     0.228571   0.75   0.000000     0.000000    0.000000       0.200   \n",
       "6996     0.728571   0.00   0.166667     0.166667    0.833333       0.050   \n",
       "6997     0.228571   0.25   0.333333     0.166667    0.691667       0.250   \n",
       "6998     0.685714   0.75   0.833333     0.833333    0.000000       0.625   \n",
       "6999     0.342857   0.00   0.666667     0.500000    0.908333       0.250   \n",
       "\n",
       "       Nfloors    API  ANB  EXPECTED  roof Grade  \n",
       "6995  0.000000  0.350  0.8  0.323729     0     D  \n",
       "6996  0.428571  0.425  0.6  0.201360     1     D  \n",
       "6997  0.428571  0.925  0.6  0.359987     1     D  \n",
       "6998  0.428571  0.625  0.0  0.573325     0     B  \n",
       "6999  0.428571  0.925  0.2  0.226934     1     C  "
      ]
     },
     "execution_count": 92,
     "metadata": {},
     "output_type": "execute_result"
    }
   ],
   "source": [
    "house_tr.tail()"
   ]
  },
  {
   "cell_type": "code",
   "execution_count": 93,
   "id": "b589015a",
   "metadata": {},
   "outputs": [
    {
     "name": "stdout",
     "output_type": "stream",
     "text": [
      "<class 'pandas.core.frame.DataFrame'>\n",
      "Index: 3299 entries, 7000 to 10298\n",
      "Data columns (total 12 columns):\n",
      " #   Column       Non-Null Count  Dtype  \n",
      "---  ------       --------------  -----  \n",
      " 0   Area(total)  3299 non-null   float64\n",
      " 1   Troom        3299 non-null   float64\n",
      " 2   Nbedrooms    3299 non-null   float64\n",
      " 3   Nbwashrooms  3299 non-null   float64\n",
      " 4   Roof(Area)   3299 non-null   float64\n",
      " 5   Lawn(Area)   3299 non-null   float64\n",
      " 6   Nfloors      3299 non-null   float64\n",
      " 7   API          3299 non-null   float64\n",
      " 8   ANB          3299 non-null   float64\n",
      " 9   EXPECTED     3299 non-null   float64\n",
      " 10  roof         3299 non-null   int32  \n",
      " 11  Grade        3299 non-null   object \n",
      "dtypes: float64(10), int32(1), object(1)\n",
      "memory usage: 322.2+ KB\n"
     ]
    }
   ],
   "source": [
    "house_tt.info()"
   ]
  },
  {
   "cell_type": "code",
   "execution_count": 94,
   "id": "19b0f305",
   "metadata": {},
   "outputs": [
    {
     "name": "stdout",
     "output_type": "stream",
     "text": [
      "<class 'pandas.core.frame.DataFrame'>\n",
      "Index: 3299 entries, 7000 to 10298\n",
      "Data columns (total 11 columns):\n",
      " #   Column       Non-Null Count  Dtype  \n",
      "---  ------       --------------  -----  \n",
      " 0   Area(total)  3299 non-null   float64\n",
      " 1   Troom        3299 non-null   float64\n",
      " 2   Nbedrooms    3299 non-null   float64\n",
      " 3   Nbwashrooms  3299 non-null   float64\n",
      " 4   Roof(Area)   3299 non-null   float64\n",
      " 5   Lawn(Area)   3299 non-null   float64\n",
      " 6   Nfloors      3299 non-null   float64\n",
      " 7   API          3299 non-null   float64\n",
      " 8   ANB          3299 non-null   float64\n",
      " 9   EXPECTED     3299 non-null   float64\n",
      " 10  roof         3299 non-null   int32  \n",
      "dtypes: float64(10), int32(1)\n",
      "memory usage: 296.4 KB\n"
     ]
    }
   ],
   "source": [
    "house_tt=house_tt.drop('Grade',axis=1)\n",
    "house_tt.info()"
   ]
  },
  {
   "cell_type": "markdown",
   "id": "74d95260",
   "metadata": {},
   "source": [
    "# Label Encoding for dependent variable"
   ]
  },
  {
   "cell_type": "code",
   "execution_count": 95,
   "id": "d162e8a3",
   "metadata": {},
   "outputs": [],
   "source": [
    "from sklearn.preprocessing import LabelEncoder"
   ]
  },
  {
   "cell_type": "code",
   "execution_count": 96,
   "id": "89e93e20",
   "metadata": {},
   "outputs": [],
   "source": [
    "le=LabelEncoder()"
   ]
  },
  {
   "cell_type": "code",
   "execution_count": 97,
   "id": "01596e15",
   "metadata": {},
   "outputs": [],
   "source": [
    "house_tr.Grade=le.fit_transform(house_tr.Grade)"
   ]
  },
  {
   "cell_type": "code",
   "execution_count": 98,
   "id": "68e72634",
   "metadata": {},
   "outputs": [
    {
     "data": {
      "text/html": [
       "<div>\n",
       "<style scoped>\n",
       "    .dataframe tbody tr th:only-of-type {\n",
       "        vertical-align: middle;\n",
       "    }\n",
       "\n",
       "    .dataframe tbody tr th {\n",
       "        vertical-align: top;\n",
       "    }\n",
       "\n",
       "    .dataframe thead th {\n",
       "        text-align: right;\n",
       "    }\n",
       "</style>\n",
       "<table border=\"1\" class=\"dataframe\">\n",
       "  <thead>\n",
       "    <tr style=\"text-align: right;\">\n",
       "      <th></th>\n",
       "      <th>Area(total)</th>\n",
       "      <th>Troom</th>\n",
       "      <th>Nbedrooms</th>\n",
       "      <th>Nbwashrooms</th>\n",
       "      <th>Roof(Area)</th>\n",
       "      <th>Lawn(Area)</th>\n",
       "      <th>Nfloors</th>\n",
       "      <th>API</th>\n",
       "      <th>ANB</th>\n",
       "      <th>EXPECTED</th>\n",
       "      <th>roof</th>\n",
       "      <th>Grade</th>\n",
       "    </tr>\n",
       "  </thead>\n",
       "  <tbody>\n",
       "    <tr>\n",
       "      <th>0</th>\n",
       "      <td>0.214286</td>\n",
       "      <td>0.75</td>\n",
       "      <td>0.000000</td>\n",
       "      <td>0.000000</td>\n",
       "      <td>0.000000</td>\n",
       "      <td>0.150</td>\n",
       "      <td>0.142857</td>\n",
       "      <td>0.100</td>\n",
       "      <td>0.6</td>\n",
       "      <td>0.359016</td>\n",
       "      <td>0</td>\n",
       "      <td>3</td>\n",
       "    </tr>\n",
       "    <tr>\n",
       "      <th>1</th>\n",
       "      <td>0.771429</td>\n",
       "      <td>0.25</td>\n",
       "      <td>0.833333</td>\n",
       "      <td>1.000000</td>\n",
       "      <td>0.000000</td>\n",
       "      <td>0.325</td>\n",
       "      <td>0.857143</td>\n",
       "      <td>0.950</td>\n",
       "      <td>0.0</td>\n",
       "      <td>0.563613</td>\n",
       "      <td>0</td>\n",
       "      <td>1</td>\n",
       "    </tr>\n",
       "    <tr>\n",
       "      <th>2</th>\n",
       "      <td>0.057143</td>\n",
       "      <td>0.75</td>\n",
       "      <td>0.333333</td>\n",
       "      <td>0.333333</td>\n",
       "      <td>0.808333</td>\n",
       "      <td>0.200</td>\n",
       "      <td>0.000000</td>\n",
       "      <td>0.725</td>\n",
       "      <td>0.6</td>\n",
       "      <td>0.479767</td>\n",
       "      <td>1</td>\n",
       "      <td>2</td>\n",
       "    </tr>\n",
       "    <tr>\n",
       "      <th>3</th>\n",
       "      <td>0.542857</td>\n",
       "      <td>0.00</td>\n",
       "      <td>0.333333</td>\n",
       "      <td>0.166667</td>\n",
       "      <td>0.000000</td>\n",
       "      <td>0.525</td>\n",
       "      <td>0.571429</td>\n",
       "      <td>0.675</td>\n",
       "      <td>0.0</td>\n",
       "      <td>0.241178</td>\n",
       "      <td>0</td>\n",
       "      <td>3</td>\n",
       "    </tr>\n",
       "    <tr>\n",
       "      <th>4</th>\n",
       "      <td>0.071429</td>\n",
       "      <td>1.00</td>\n",
       "      <td>0.500000</td>\n",
       "      <td>0.333333</td>\n",
       "      <td>0.000000</td>\n",
       "      <td>0.675</td>\n",
       "      <td>0.428571</td>\n",
       "      <td>0.850</td>\n",
       "      <td>0.4</td>\n",
       "      <td>0.591130</td>\n",
       "      <td>0</td>\n",
       "      <td>2</td>\n",
       "    </tr>\n",
       "  </tbody>\n",
       "</table>\n",
       "</div>"
      ],
      "text/plain": [
       "   Area(total)  Troom  Nbedrooms  Nbwashrooms  Roof(Area)  Lawn(Area)  \\\n",
       "0     0.214286   0.75   0.000000     0.000000    0.000000       0.150   \n",
       "1     0.771429   0.25   0.833333     1.000000    0.000000       0.325   \n",
       "2     0.057143   0.75   0.333333     0.333333    0.808333       0.200   \n",
       "3     0.542857   0.00   0.333333     0.166667    0.000000       0.525   \n",
       "4     0.071429   1.00   0.500000     0.333333    0.000000       0.675   \n",
       "\n",
       "    Nfloors    API  ANB  EXPECTED  roof  Grade  \n",
       "0  0.142857  0.100  0.6  0.359016     0      3  \n",
       "1  0.857143  0.950  0.0  0.563613     0      1  \n",
       "2  0.000000  0.725  0.6  0.479767     1      2  \n",
       "3  0.571429  0.675  0.0  0.241178     0      3  \n",
       "4  0.428571  0.850  0.4  0.591130     0      2  "
      ]
     },
     "execution_count": 98,
     "metadata": {},
     "output_type": "execute_result"
    }
   ],
   "source": [
    "house_tr.head()"
   ]
  },
  {
   "cell_type": "markdown",
   "id": "7bceb170",
   "metadata": {},
   "source": [
    "# Splitting the data into Dependent(y) and Independent variables(X's)"
   ]
  },
  {
   "cell_type": "code",
   "execution_count": 99,
   "id": "4a6b9f33",
   "metadata": {},
   "outputs": [],
   "source": [
    "X=house_tr.drop('Grade',axis=1)\n",
    "y=house_tr.Grade"
   ]
  },
  {
   "cell_type": "code",
   "execution_count": 100,
   "id": "f615daaa",
   "metadata": {},
   "outputs": [
    {
     "name": "stdout",
     "output_type": "stream",
     "text": [
      "<class 'pandas.core.frame.DataFrame'>\n",
      "Index: 7000 entries, 0 to 6999\n",
      "Data columns (total 11 columns):\n",
      " #   Column       Non-Null Count  Dtype  \n",
      "---  ------       --------------  -----  \n",
      " 0   Area(total)  7000 non-null   float64\n",
      " 1   Troom        7000 non-null   float64\n",
      " 2   Nbedrooms    7000 non-null   float64\n",
      " 3   Nbwashrooms  7000 non-null   float64\n",
      " 4   Roof(Area)   7000 non-null   float64\n",
      " 5   Lawn(Area)   7000 non-null   float64\n",
      " 6   Nfloors      7000 non-null   float64\n",
      " 7   API          7000 non-null   float64\n",
      " 8   ANB          7000 non-null   float64\n",
      " 9   EXPECTED     7000 non-null   float64\n",
      " 10  roof         7000 non-null   int32  \n",
      "dtypes: float64(10), int32(1)\n",
      "memory usage: 628.9 KB\n"
     ]
    }
   ],
   "source": [
    "X.info()"
   ]
  },
  {
   "cell_type": "code",
   "execution_count": 101,
   "id": "265b4533",
   "metadata": {},
   "outputs": [
    {
     "name": "stdout",
     "output_type": "stream",
     "text": [
      "<class 'pandas.core.series.Series'>\n",
      "Index: 7000 entries, 0 to 6999\n",
      "Series name: Grade\n",
      "Non-Null Count  Dtype\n",
      "--------------  -----\n",
      "7000 non-null   int32\n",
      "dtypes: int32(1)\n",
      "memory usage: 82.0 KB\n"
     ]
    }
   ],
   "source": [
    "y.info()"
   ]
  },
  {
   "cell_type": "code",
   "execution_count": 102,
   "id": "0fa20d77-62ed-4f01-96fa-6d8fb2956cd4",
   "metadata": {},
   "outputs": [
    {
     "data": {
      "text/plain": [
       "<Axes: xlabel='Grade'>"
      ]
     },
     "execution_count": 102,
     "metadata": {},
     "output_type": "execute_result"
    },
    {
     "data": {
      "image/png": "[encoded data removed]",
      "text/plain": [
       "<Figure size 640x480 with 1 Axes>"
      ]
     },
     "metadata": {},
     "output_type": "display_data"
    }
   ],
   "source": [
    "y.value_counts().plot(kind='bar')"
   ]
  },
  {
   "cell_type": "markdown",
   "id": "00c80498-cdb7-41d2-a9a5-b18075109f95",
   "metadata": {},
   "source": [
    "# SMOTE"
   ]
  },
  {
   "cell_type": "code",
   "execution_count": 103,
   "id": "9a820a65-1721-4ea1-b646-d64cc23d3642",
   "metadata": {},
   "outputs": [],
   "source": [
    "from imblearn.over_sampling import SMOTE # importing the smote as the data is been oversampled"
   ]
  },
  {
   "cell_type": "code",
   "execution_count": 104,
   "id": "35361b27-71f1-4507-ac0f-9566709eb9b0",
   "metadata": {},
   "outputs": [],
   "source": [
    "oversample = SMOTE()"
   ]
  },
  {
   "cell_type": "code",
   "execution_count": 105,
   "id": "36590207-8891-4773-bc45-30d650fc20e6",
   "metadata": {},
   "outputs": [],
   "source": [
    "X_smote,y_smote = oversample.fit_resample(X, y)"
   ]
  },
  {
   "cell_type": "markdown",
   "id": "541d9c6e",
   "metadata": {},
   "source": [
    "# Logistic Regression"
   ]
  },
  {
   "cell_type": "code",
   "execution_count": 106,
   "id": "517366df",
   "metadata": {},
   "outputs": [],
   "source": [
    "from sklearn.linear_model import LogisticRegression"
   ]
  },
  {
   "cell_type": "code",
   "execution_count": 107,
   "id": "77978143",
   "metadata": {},
   "outputs": [],
   "source": [
    "reg=LogisticRegression(max_iter=1000)"
   ]
  },
  {
   "cell_type": "code",
   "execution_count": 108,
   "id": "bd152218",
   "metadata": {},
   "outputs": [],
   "source": [
    "regmodel=reg.fit(X_smote,y_smote)"
   ]
  },
  {
   "cell_type": "code",
   "execution_count": 109,
   "id": "292f38d2",
   "metadata": {},
   "outputs": [
    {
     "data": {
      "text/plain": [
       "0.9096311475409836"
      ]
     },
     "execution_count": 109,
     "metadata": {},
     "output_type": "execute_result"
    }
   ],
   "source": [
    "regmodel.score(X_smote,y_smote)"
   ]
  },
  {
   "cell_type": "code",
   "execution_count": 110,
   "id": "77961838",
   "metadata": {},
   "outputs": [],
   "source": [
    "repredict=regmodel.predict(X_smote)"
   ]
  },
  {
   "cell_type": "code",
   "execution_count": 111,
   "id": "b99bdccd-e6ec-4342-8b7a-4bc8ff89cac2",
   "metadata": {},
   "outputs": [
    {
     "data": {
      "text/html": [
       "<div>\n",
       "<style scoped>\n",
       "    .dataframe tbody tr th:only-of-type {\n",
       "        vertical-align: middle;\n",
       "    }\n",
       "\n",
       "    .dataframe tbody tr th {\n",
       "        vertical-align: top;\n",
       "    }\n",
       "\n",
       "    .dataframe thead th {\n",
       "        text-align: right;\n",
       "    }\n",
       "</style>\n",
       "<table border=\"1\" class=\"dataframe\">\n",
       "  <thead>\n",
       "    <tr style=\"text-align: right;\">\n",
       "      <th>col_0</th>\n",
       "      <th>0</th>\n",
       "      <th>1</th>\n",
       "      <th>2</th>\n",
       "      <th>3</th>\n",
       "      <th>4</th>\n",
       "    </tr>\n",
       "    <tr>\n",
       "      <th>Grade</th>\n",
       "      <th></th>\n",
       "      <th></th>\n",
       "      <th></th>\n",
       "      <th></th>\n",
       "      <th></th>\n",
       "    </tr>\n",
       "  </thead>\n",
       "  <tbody>\n",
       "    <tr>\n",
       "      <th>0</th>\n",
       "      <td>2831</td>\n",
       "      <td>97</td>\n",
       "      <td>0</td>\n",
       "      <td>0</td>\n",
       "      <td>0</td>\n",
       "    </tr>\n",
       "    <tr>\n",
       "      <th>1</th>\n",
       "      <td>207</td>\n",
       "      <td>2546</td>\n",
       "      <td>175</td>\n",
       "      <td>0</td>\n",
       "      <td>0</td>\n",
       "    </tr>\n",
       "    <tr>\n",
       "      <th>2</th>\n",
       "      <td>0</td>\n",
       "      <td>275</td>\n",
       "      <td>2407</td>\n",
       "      <td>246</td>\n",
       "      <td>0</td>\n",
       "    </tr>\n",
       "    <tr>\n",
       "      <th>3</th>\n",
       "      <td>0</td>\n",
       "      <td>0</td>\n",
       "      <td>230</td>\n",
       "      <td>2605</td>\n",
       "      <td>93</td>\n",
       "    </tr>\n",
       "    <tr>\n",
       "      <th>4</th>\n",
       "      <td>0</td>\n",
       "      <td>0</td>\n",
       "      <td>0</td>\n",
       "      <td>0</td>\n",
       "      <td>2928</td>\n",
       "    </tr>\n",
       "  </tbody>\n",
       "</table>\n",
       "</div>"
      ],
      "text/plain": [
       "col_0     0     1     2     3     4\n",
       "Grade                              \n",
       "0      2831    97     0     0     0\n",
       "1       207  2546   175     0     0\n",
       "2         0   275  2407   246     0\n",
       "3         0     0   230  2605    93\n",
       "4         0     0     0     0  2928"
      ]
     },
     "execution_count": 111,
     "metadata": {},
     "output_type": "execute_result"
    }
   ],
   "source": [
    "pd.crosstab(y_smote,repredict)"
   ]
  },
  {
   "cell_type": "code",
   "execution_count": 112,
   "id": "72cd529e",
   "metadata": {},
   "outputs": [],
   "source": [
    "from sklearn.model_selection import cross_val_score\n",
    "from sklearn.metrics import classification_report,RocCurveDisplay"
   ]
  },
  {
   "cell_type": "code",
   "execution_count": 113,
   "id": "9dae54b4",
   "metadata": {},
   "outputs": [
    {
     "data": {
      "text/plain": [
       "array([0.89822404, 0.89754098, 0.90368852, 0.91495902, 0.92178962])"
      ]
     },
     "execution_count": 113,
     "metadata": {},
     "output_type": "execute_result"
    }
   ],
   "source": [
    "cross_val_score(reg,X_smote,y_smote)"
   ]
  },
  {
   "cell_type": "code",
   "execution_count": 114,
   "id": "316d43d2",
   "metadata": {},
   "outputs": [
    {
     "data": {
      "text/plain": [
       "0.905054644"
      ]
     },
     "execution_count": 114,
     "metadata": {},
     "output_type": "execute_result"
    }
   ],
   "source": [
    "np.mean([0.89685792, 0.89617486, 0.90539617, 0.9170082 , 0.90983607])"
   ]
  },
  {
   "cell_type": "code",
   "execution_count": 115,
   "id": "da13f0e1-1101-4e90-82b8-9783bf5e1b62",
   "metadata": {},
   "outputs": [
    {
     "data": {
      "text/html": [
       "<div>\n",
       "<style scoped>\n",
       "    .dataframe tbody tr th:only-of-type {\n",
       "        vertical-align: middle;\n",
       "    }\n",
       "\n",
       "    .dataframe tbody tr th {\n",
       "        vertical-align: top;\n",
       "    }\n",
       "\n",
       "    .dataframe thead th {\n",
       "        text-align: right;\n",
       "    }\n",
       "</style>\n",
       "<table border=\"1\" class=\"dataframe\">\n",
       "  <thead>\n",
       "    <tr style=\"text-align: right;\">\n",
       "      <th>col_0</th>\n",
       "      <th>0</th>\n",
       "      <th>1</th>\n",
       "      <th>2</th>\n",
       "      <th>3</th>\n",
       "      <th>4</th>\n",
       "    </tr>\n",
       "    <tr>\n",
       "      <th>Grade</th>\n",
       "      <th></th>\n",
       "      <th></th>\n",
       "      <th></th>\n",
       "      <th></th>\n",
       "      <th></th>\n",
       "    </tr>\n",
       "  </thead>\n",
       "  <tbody>\n",
       "    <tr>\n",
       "      <th>0</th>\n",
       "      <td>2831</td>\n",
       "      <td>97</td>\n",
       "      <td>0</td>\n",
       "      <td>0</td>\n",
       "      <td>0</td>\n",
       "    </tr>\n",
       "    <tr>\n",
       "      <th>1</th>\n",
       "      <td>207</td>\n",
       "      <td>2546</td>\n",
       "      <td>175</td>\n",
       "      <td>0</td>\n",
       "      <td>0</td>\n",
       "    </tr>\n",
       "    <tr>\n",
       "      <th>2</th>\n",
       "      <td>0</td>\n",
       "      <td>275</td>\n",
       "      <td>2407</td>\n",
       "      <td>246</td>\n",
       "      <td>0</td>\n",
       "    </tr>\n",
       "    <tr>\n",
       "      <th>3</th>\n",
       "      <td>0</td>\n",
       "      <td>0</td>\n",
       "      <td>230</td>\n",
       "      <td>2605</td>\n",
       "      <td>93</td>\n",
       "    </tr>\n",
       "    <tr>\n",
       "      <th>4</th>\n",
       "      <td>0</td>\n",
       "      <td>0</td>\n",
       "      <td>0</td>\n",
       "      <td>0</td>\n",
       "      <td>2928</td>\n",
       "    </tr>\n",
       "  </tbody>\n",
       "</table>\n",
       "</div>"
      ],
      "text/plain": [
       "col_0     0     1     2     3     4\n",
       "Grade                              \n",
       "0      2831    97     0     0     0\n",
       "1       207  2546   175     0     0\n",
       "2         0   275  2407   246     0\n",
       "3         0     0   230  2605    93\n",
       "4         0     0     0     0  2928"
      ]
     },
     "execution_count": 115,
     "metadata": {},
     "output_type": "execute_result"
    }
   ],
   "source": [
    "pd.crosstab(y_smote,repredict)"
   ]
  },
  {
   "cell_type": "code",
   "execution_count": 116,
   "id": "b0ea26ae",
   "metadata": {},
   "outputs": [
    {
     "name": "stdout",
     "output_type": "stream",
     "text": [
      "              precision    recall  f1-score   support\n",
      "\n",
      "           0       0.93      0.97      0.95      2928\n",
      "           1       0.87      0.87      0.87      2928\n",
      "           2       0.86      0.82      0.84      2928\n",
      "           3       0.91      0.89      0.90      2928\n",
      "           4       0.97      1.00      0.98      2928\n",
      "\n",
      "    accuracy                           0.91     14640\n",
      "   macro avg       0.91      0.91      0.91     14640\n",
      "weighted avg       0.91      0.91      0.91     14640\n",
      "\n"
     ]
    }
   ],
   "source": [
    "print(classification_report(y_smote,repredict))"
   ]
  },
  {
   "cell_type": "code",
   "execution_count": 117,
   "id": "7c12497f",
   "metadata": {},
   "outputs": [],
   "source": [
    "predict_test=regmodel.predict(house_tt)"
   ]
  },
  {
   "cell_type": "code",
   "execution_count": 118,
   "id": "3dac3c17",
   "metadata": {},
   "outputs": [],
   "source": [
    "predict_test=pd.DataFrame(predict_test)"
   ]
  },
  {
   "cell_type": "code",
   "execution_count": 119,
   "id": "134a3c21",
   "metadata": {},
   "outputs": [
    {
     "data": {
      "text/plain": [
       "0\n",
       "2    1312\n",
       "3    1006\n",
       "1     720\n",
       "0     216\n",
       "4      45\n",
       "Name: count, dtype: int64"
      ]
     },
     "execution_count": 119,
     "metadata": {},
     "output_type": "execute_result"
    }
   ],
   "source": [
    "predict_test.value_counts()"
   ]
  },
  {
   "cell_type": "code",
   "execution_count": 120,
   "id": "7d27686c",
   "metadata": {},
   "outputs": [],
   "source": [
    "predict_test=predict_test.replace({0:'A',1:'B',2:'C',3:'D',4:'E'})"
   ]
  },
  {
   "cell_type": "code",
   "execution_count": 121,
   "id": "314255c2",
   "metadata": {},
   "outputs": [],
   "source": [
    "predict_test.to_csv('regpred.csv')"
   ]
  },
  {
   "cell_type": "markdown",
   "id": "cb73f5d2",
   "metadata": {},
   "source": [
    "# Decision Tree"
   ]
  },
  {
   "cell_type": "code",
   "execution_count": 122,
   "id": "e0fb4a4b",
   "metadata": {},
   "outputs": [],
   "source": [
    "from sklearn.tree import DecisionTreeClassifier"
   ]
  },
  {
   "cell_type": "code",
   "execution_count": 123,
   "id": "032ba0cd",
   "metadata": {},
   "outputs": [],
   "source": [
    "tree=DecisionTreeClassifier(max_depth=10)"
   ]
  },
  {
   "cell_type": "code",
   "execution_count": 124,
   "id": "372bbc27",
   "metadata": {},
   "outputs": [],
   "source": [
    "treemodel=tree.fit(X_smote,y_smote)"
   ]
  },
  {
   "cell_type": "code",
   "execution_count": 125,
   "id": "a3e3bb73",
   "metadata": {},
   "outputs": [
    {
     "data": {
      "text/plain": [
       "0.9432377049180328"
      ]
     },
     "execution_count": 125,
     "metadata": {},
     "output_type": "execute_result"
    }
   ],
   "source": [
    "treemodel.score(X_smote,y_smote)"
   ]
  },
  {
   "cell_type": "code",
   "execution_count": 126,
   "id": "963bb08d",
   "metadata": {},
   "outputs": [],
   "source": [
    "treepredict=treemodel.predict(X_smote)"
   ]
  },
  {
   "cell_type": "code",
   "execution_count": 127,
   "id": "1a446e44",
   "metadata": {},
   "outputs": [
    {
     "data": {
      "text/html": [
       "<div>\n",
       "<style scoped>\n",
       "    .dataframe tbody tr th:only-of-type {\n",
       "        vertical-align: middle;\n",
       "    }\n",
       "\n",
       "    .dataframe tbody tr th {\n",
       "        vertical-align: top;\n",
       "    }\n",
       "\n",
       "    .dataframe thead th {\n",
       "        text-align: right;\n",
       "    }\n",
       "</style>\n",
       "<table border=\"1\" class=\"dataframe\">\n",
       "  <thead>\n",
       "    <tr style=\"text-align: right;\">\n",
       "      <th>col_0</th>\n",
       "      <th>0</th>\n",
       "      <th>1</th>\n",
       "      <th>2</th>\n",
       "      <th>3</th>\n",
       "      <th>4</th>\n",
       "    </tr>\n",
       "    <tr>\n",
       "      <th>Grade</th>\n",
       "      <th></th>\n",
       "      <th></th>\n",
       "      <th></th>\n",
       "      <th></th>\n",
       "      <th></th>\n",
       "    </tr>\n",
       "  </thead>\n",
       "  <tbody>\n",
       "    <tr>\n",
       "      <th>0</th>\n",
       "      <td>2825</td>\n",
       "      <td>102</td>\n",
       "      <td>1</td>\n",
       "      <td>0</td>\n",
       "      <td>0</td>\n",
       "    </tr>\n",
       "    <tr>\n",
       "      <th>1</th>\n",
       "      <td>107</td>\n",
       "      <td>2685</td>\n",
       "      <td>136</td>\n",
       "      <td>0</td>\n",
       "      <td>0</td>\n",
       "    </tr>\n",
       "    <tr>\n",
       "      <th>2</th>\n",
       "      <td>0</td>\n",
       "      <td>173</td>\n",
       "      <td>2626</td>\n",
       "      <td>129</td>\n",
       "      <td>0</td>\n",
       "    </tr>\n",
       "    <tr>\n",
       "      <th>3</th>\n",
       "      <td>0</td>\n",
       "      <td>0</td>\n",
       "      <td>152</td>\n",
       "      <td>2746</td>\n",
       "      <td>30</td>\n",
       "    </tr>\n",
       "    <tr>\n",
       "      <th>4</th>\n",
       "      <td>0</td>\n",
       "      <td>0</td>\n",
       "      <td>0</td>\n",
       "      <td>1</td>\n",
       "      <td>2927</td>\n",
       "    </tr>\n",
       "  </tbody>\n",
       "</table>\n",
       "</div>"
      ],
      "text/plain": [
       "col_0     0     1     2     3     4\n",
       "Grade                              \n",
       "0      2825   102     1     0     0\n",
       "1       107  2685   136     0     0\n",
       "2         0   173  2626   129     0\n",
       "3         0     0   152  2746    30\n",
       "4         0     0     0     1  2927"
      ]
     },
     "execution_count": 127,
     "metadata": {},
     "output_type": "execute_result"
    }
   ],
   "source": [
    "pd.crosstab(y_smote,treepredict)"
   ]
  },
  {
   "cell_type": "code",
   "execution_count": 128,
   "id": "dd780f43",
   "metadata": {},
   "outputs": [
    {
     "data": {
      "text/plain": [
       "array([0.85177596, 0.85280055, 0.87807377, 0.90095628, 0.90403005])"
      ]
     },
     "execution_count": 128,
     "metadata": {},
     "output_type": "execute_result"
    }
   ],
   "source": [
    "cross_val_score(tree,X_smote,y_smote)"
   ]
  },
  {
   "cell_type": "code",
   "execution_count": 129,
   "id": "964af099",
   "metadata": {},
   "outputs": [
    {
     "data": {
      "text/plain": [
       "0.8773224040000001"
      ]
     },
     "execution_count": 129,
     "metadata": {},
     "output_type": "execute_result"
    }
   ],
   "source": [
    "np.mean([0.84836066, 0.85416667, 0.88080601, 0.9057377 , 0.89754098])"
   ]
  },
  {
   "cell_type": "code",
   "execution_count": 130,
   "id": "7c9564ab",
   "metadata": {},
   "outputs": [
    {
     "name": "stdout",
     "output_type": "stream",
     "text": [
      "              precision    recall  f1-score   support\n",
      "\n",
      "           0       0.96      0.96      0.96      2928\n",
      "           1       0.91      0.92      0.91      2928\n",
      "           2       0.90      0.90      0.90      2928\n",
      "           3       0.95      0.94      0.95      2928\n",
      "           4       0.99      1.00      0.99      2928\n",
      "\n",
      "    accuracy                           0.94     14640\n",
      "   macro avg       0.94      0.94      0.94     14640\n",
      "weighted avg       0.94      0.94      0.94     14640\n",
      "\n"
     ]
    }
   ],
   "source": [
    "print(classification_report(y_smote,treepredict))"
   ]
  },
  {
   "cell_type": "code",
   "execution_count": 131,
   "id": "c7f80222",
   "metadata": {},
   "outputs": [],
   "source": [
    "tree_testpredict=treemodel.predict(house_tt)"
   ]
  },
  {
   "cell_type": "code",
   "execution_count": 132,
   "id": "465bdfa1",
   "metadata": {},
   "outputs": [],
   "source": [
    "tree_testpredict=pd.DataFrame(tree_testpredict)"
   ]
  },
  {
   "cell_type": "code",
   "execution_count": 133,
   "id": "aff5f817",
   "metadata": {},
   "outputs": [
    {
     "data": {
      "text/plain": [
       "0\n",
       "2    1333\n",
       "3    1023\n",
       "1     749\n",
       "0     174\n",
       "4      20\n",
       "Name: count, dtype: int64"
      ]
     },
     "execution_count": 133,
     "metadata": {},
     "output_type": "execute_result"
    }
   ],
   "source": [
    "tree_testpredict.value_counts()"
   ]
  },
  {
   "cell_type": "code",
   "execution_count": 134,
   "id": "7bb70c8e",
   "metadata": {},
   "outputs": [],
   "source": [
    "tree_testpredict=tree_testpredict.replace({0:'A',1:'B',2:'C',3:'D',4:'E'})"
   ]
  },
  {
   "cell_type": "code",
   "execution_count": 135,
   "id": "63a7277f",
   "metadata": {},
   "outputs": [],
   "source": [
    "tree_testpredict.to_csv('tree.csv')"
   ]
  },
  {
   "cell_type": "markdown",
   "id": "ebeef0ac",
   "metadata": {},
   "source": [
    "# Random forest"
   ]
  },
  {
   "cell_type": "code",
   "execution_count": 136,
   "id": "afecd512",
   "metadata": {},
   "outputs": [],
   "source": [
    "from sklearn.ensemble import RandomForestClassifier"
   ]
  },
  {
   "cell_type": "code",
   "execution_count": 137,
   "id": "7bf7f1fe",
   "metadata": {},
   "outputs": [],
   "source": [
    "rf=RandomForestClassifier(max_depth=8,n_estimators=150)"
   ]
  },
  {
   "cell_type": "code",
   "execution_count": 138,
   "id": "2309166a",
   "metadata": {},
   "outputs": [],
   "source": [
    "rfmodel=rf.fit(X_smote,y_smote)"
   ]
  },
  {
   "cell_type": "code",
   "execution_count": 139,
   "id": "9f1a7fd9",
   "metadata": {},
   "outputs": [
    {
     "data": {
      "text/plain": [
       "0.9270491803278689"
      ]
     },
     "execution_count": 139,
     "metadata": {},
     "output_type": "execute_result"
    }
   ],
   "source": [
    "rfmodel.score(X_smote,y_smote)"
   ]
  },
  {
   "cell_type": "code",
   "execution_count": 140,
   "id": "a655bb8c",
   "metadata": {},
   "outputs": [],
   "source": [
    "rfpredict=rfmodel.predict(X_smote)"
   ]
  },
  {
   "cell_type": "code",
   "execution_count": 141,
   "id": "91bcf7c9",
   "metadata": {},
   "outputs": [
    {
     "data": {
      "text/html": [
       "<div>\n",
       "<style scoped>\n",
       "    .dataframe tbody tr th:only-of-type {\n",
       "        vertical-align: middle;\n",
       "    }\n",
       "\n",
       "    .dataframe tbody tr th {\n",
       "        vertical-align: top;\n",
       "    }\n",
       "\n",
       "    .dataframe thead th {\n",
       "        text-align: right;\n",
       "    }\n",
       "</style>\n",
       "<table border=\"1\" class=\"dataframe\">\n",
       "  <thead>\n",
       "    <tr style=\"text-align: right;\">\n",
       "      <th>col_0</th>\n",
       "      <th>0</th>\n",
       "      <th>1</th>\n",
       "      <th>2</th>\n",
       "      <th>3</th>\n",
       "      <th>4</th>\n",
       "    </tr>\n",
       "    <tr>\n",
       "      <th>Grade</th>\n",
       "      <th></th>\n",
       "      <th></th>\n",
       "      <th></th>\n",
       "      <th></th>\n",
       "      <th></th>\n",
       "    </tr>\n",
       "  </thead>\n",
       "  <tbody>\n",
       "    <tr>\n",
       "      <th>0</th>\n",
       "      <td>2832</td>\n",
       "      <td>96</td>\n",
       "      <td>0</td>\n",
       "      <td>0</td>\n",
       "      <td>0</td>\n",
       "    </tr>\n",
       "    <tr>\n",
       "      <th>1</th>\n",
       "      <td>153</td>\n",
       "      <td>2626</td>\n",
       "      <td>149</td>\n",
       "      <td>0</td>\n",
       "      <td>0</td>\n",
       "    </tr>\n",
       "    <tr>\n",
       "      <th>2</th>\n",
       "      <td>0</td>\n",
       "      <td>224</td>\n",
       "      <td>2494</td>\n",
       "      <td>210</td>\n",
       "      <td>0</td>\n",
       "    </tr>\n",
       "    <tr>\n",
       "      <th>3</th>\n",
       "      <td>0</td>\n",
       "      <td>0</td>\n",
       "      <td>207</td>\n",
       "      <td>2694</td>\n",
       "      <td>27</td>\n",
       "    </tr>\n",
       "    <tr>\n",
       "      <th>4</th>\n",
       "      <td>0</td>\n",
       "      <td>0</td>\n",
       "      <td>0</td>\n",
       "      <td>2</td>\n",
       "      <td>2926</td>\n",
       "    </tr>\n",
       "  </tbody>\n",
       "</table>\n",
       "</div>"
      ],
      "text/plain": [
       "col_0     0     1     2     3     4\n",
       "Grade                              \n",
       "0      2832    96     0     0     0\n",
       "1       153  2626   149     0     0\n",
       "2         0   224  2494   210     0\n",
       "3         0     0   207  2694    27\n",
       "4         0     0     0     2  2926"
      ]
     },
     "execution_count": 141,
     "metadata": {},
     "output_type": "execute_result"
    }
   ],
   "source": [
    "pd.crosstab(y_smote,rfpredict)"
   ]
  },
  {
   "cell_type": "code",
   "execution_count": 142,
   "id": "cd5b0fb1",
   "metadata": {},
   "outputs": [
    {
     "data": {
      "text/plain": [
       "array([0.87568306, 0.89617486, 0.91051913, 0.92486339, 0.92930328])"
      ]
     },
     "execution_count": 142,
     "metadata": {},
     "output_type": "execute_result"
    }
   ],
   "source": [
    "cross_val_score(rf,X_smote,y_smote)"
   ]
  },
  {
   "cell_type": "code",
   "execution_count": 143,
   "id": "d257a3ac",
   "metadata": {},
   "outputs": [
    {
     "data": {
      "text/plain": [
       "0.839857144"
      ]
     },
     "execution_count": 143,
     "metadata": {},
     "output_type": "execute_result"
    }
   ],
   "source": [
    "np.mean([0.835     , 0.82785714, 0.825     , 0.85571429, 0.85571429])"
   ]
  },
  {
   "cell_type": "code",
   "execution_count": 144,
   "id": "a7796733",
   "metadata": {},
   "outputs": [
    {
     "name": "stdout",
     "output_type": "stream",
     "text": [
      "              precision    recall  f1-score   support\n",
      "\n",
      "           0       0.95      0.97      0.96      2928\n",
      "           1       0.89      0.90      0.89      2928\n",
      "           2       0.88      0.85      0.86      2928\n",
      "           3       0.93      0.92      0.92      2928\n",
      "           4       0.99      1.00      1.00      2928\n",
      "\n",
      "    accuracy                           0.93     14640\n",
      "   macro avg       0.93      0.93      0.93     14640\n",
      "weighted avg       0.93      0.93      0.93     14640\n",
      "\n"
     ]
    }
   ],
   "source": [
    "print(classification_report(y_smote,rfpredict))"
   ]
  },
  {
   "cell_type": "code",
   "execution_count": 145,
   "id": "deb67a4e",
   "metadata": {},
   "outputs": [],
   "source": [
    "rf_testpredict=rfmodel.predict(house_tt)"
   ]
  },
  {
   "cell_type": "code",
   "execution_count": 146,
   "id": "399c1ea4",
   "metadata": {},
   "outputs": [],
   "source": [
    "rf_testpredict=pd.DataFrame(rf_testpredict)"
   ]
  },
  {
   "cell_type": "code",
   "execution_count": 147,
   "id": "ca3771d4",
   "metadata": {},
   "outputs": [
    {
     "data": {
      "text/plain": [
       "0\n",
       "2    1348\n",
       "3    1030\n",
       "1     715\n",
       "0     192\n",
       "4      14\n",
       "Name: count, dtype: int64"
      ]
     },
     "execution_count": 147,
     "metadata": {},
     "output_type": "execute_result"
    }
   ],
   "source": [
    "rf_testpredict.value_counts()"
   ]
  },
  {
   "cell_type": "code",
   "execution_count": 148,
   "id": "c74c054c",
   "metadata": {},
   "outputs": [],
   "source": [
    "rf_testpredict=rf_testpredict.replace({0:'A',1:'B',2:'C',3:'D',4:'E'})"
   ]
  },
  {
   "cell_type": "code",
   "execution_count": 149,
   "id": "24112dff",
   "metadata": {},
   "outputs": [],
   "source": [
    "rf_testpredict.to_csv('rf_test.csv')"
   ]
  },
  {
   "cell_type": "markdown",
   "id": "9453be84",
   "metadata": {},
   "source": [
    "# GBM"
   ]
  },
  {
   "cell_type": "code",
   "execution_count": 150,
   "id": "9568cf52",
   "metadata": {},
   "outputs": [],
   "source": [
    "from sklearn.ensemble import GradientBoostingClassifier"
   ]
  },
  {
   "cell_type": "code",
   "execution_count": 208,
   "id": "d822a541",
   "metadata": {},
   "outputs": [],
   "source": [
    "gbm=GradientBoostingClassifier(max_depth=3,n_estimators=170)"
   ]
  },
  {
   "cell_type": "code",
   "execution_count": 209,
   "id": "7591acb9",
   "metadata": {},
   "outputs": [],
   "source": [
    "gbmmodel=gbm.fit(X_smote,y_smote)"
   ]
  },
  {
   "cell_type": "code",
   "execution_count": 210,
   "id": "88105466",
   "metadata": {},
   "outputs": [
    {
     "data": {
      "text/plain": [
       "0.9634562841530054"
      ]
     },
     "execution_count": 210,
     "metadata": {},
     "output_type": "execute_result"
    }
   ],
   "source": [
    "gbmmodel.score(X_smote,y_smote)"
   ]
  },
  {
   "cell_type": "code",
   "execution_count": 211,
   "id": "703c0c3a",
   "metadata": {},
   "outputs": [],
   "source": [
    "gbmpredict=gbm.predict(X_smote)"
   ]
  },
  {
   "cell_type": "code",
   "execution_count": 212,
   "id": "0f1c89fa",
   "metadata": {},
   "outputs": [
    {
     "data": {
      "text/html": [
       "<div>\n",
       "<style scoped>\n",
       "    .dataframe tbody tr th:only-of-type {\n",
       "        vertical-align: middle;\n",
       "    }\n",
       "\n",
       "    .dataframe tbody tr th {\n",
       "        vertical-align: top;\n",
       "    }\n",
       "\n",
       "    .dataframe thead th {\n",
       "        text-align: right;\n",
       "    }\n",
       "</style>\n",
       "<table border=\"1\" class=\"dataframe\">\n",
       "  <thead>\n",
       "    <tr style=\"text-align: right;\">\n",
       "      <th>col_0</th>\n",
       "      <th>0</th>\n",
       "      <th>1</th>\n",
       "      <th>2</th>\n",
       "      <th>3</th>\n",
       "      <th>4</th>\n",
       "    </tr>\n",
       "    <tr>\n",
       "      <th>Grade</th>\n",
       "      <th></th>\n",
       "      <th></th>\n",
       "      <th></th>\n",
       "      <th></th>\n",
       "      <th></th>\n",
       "    </tr>\n",
       "  </thead>\n",
       "  <tbody>\n",
       "    <tr>\n",
       "      <th>0</th>\n",
       "      <td>2891</td>\n",
       "      <td>37</td>\n",
       "      <td>0</td>\n",
       "      <td>0</td>\n",
       "      <td>0</td>\n",
       "    </tr>\n",
       "    <tr>\n",
       "      <th>1</th>\n",
       "      <td>44</td>\n",
       "      <td>2784</td>\n",
       "      <td>100</td>\n",
       "      <td>0</td>\n",
       "      <td>0</td>\n",
       "    </tr>\n",
       "    <tr>\n",
       "      <th>2</th>\n",
       "      <td>0</td>\n",
       "      <td>108</td>\n",
       "      <td>2706</td>\n",
       "      <td>114</td>\n",
       "      <td>0</td>\n",
       "    </tr>\n",
       "    <tr>\n",
       "      <th>3</th>\n",
       "      <td>0</td>\n",
       "      <td>0</td>\n",
       "      <td>130</td>\n",
       "      <td>2797</td>\n",
       "      <td>1</td>\n",
       "    </tr>\n",
       "    <tr>\n",
       "      <th>4</th>\n",
       "      <td>0</td>\n",
       "      <td>0</td>\n",
       "      <td>0</td>\n",
       "      <td>1</td>\n",
       "      <td>2927</td>\n",
       "    </tr>\n",
       "  </tbody>\n",
       "</table>\n",
       "</div>"
      ],
      "text/plain": [
       "col_0     0     1     2     3     4\n",
       "Grade                              \n",
       "0      2891    37     0     0     0\n",
       "1        44  2784   100     0     0\n",
       "2         0   108  2706   114     0\n",
       "3         0     0   130  2797     1\n",
       "4         0     0     0     1  2927"
      ]
     },
     "execution_count": 212,
     "metadata": {},
     "output_type": "execute_result"
    }
   ],
   "source": [
    "pd.crosstab(y_smote,gbmpredict)"
   ]
  },
  {
   "cell_type": "code",
   "execution_count": 156,
   "id": "4e03b0aa",
   "metadata": {},
   "outputs": [
    {
     "data": {
      "text/plain": [
       "array([0.87431694, 0.88319672, 0.90778689, 0.92418033, 0.92759563])"
      ]
     },
     "execution_count": 156,
     "metadata": {},
     "output_type": "execute_result"
    }
   ],
   "source": [
    "cross_val_score(gbm,X_smote,y_smote)"
   ]
  },
  {
   "cell_type": "code",
   "execution_count": 157,
   "id": "1648e34d",
   "metadata": {},
   "outputs": [
    {
     "data": {
      "text/plain": [
       "0.8821428579999999"
      ]
     },
     "execution_count": 157,
     "metadata": {},
     "output_type": "execute_result"
    }
   ],
   "source": [
    "np.mean([0.89      , 0.89142857, 0.86714286, 0.88071429, 0.88142857])"
   ]
  },
  {
   "cell_type": "code",
   "execution_count": 158,
   "id": "0b69542c",
   "metadata": {},
   "outputs": [
    {
     "name": "stdout",
     "output_type": "stream",
     "text": [
      "              precision    recall  f1-score   support\n",
      "\n",
      "           0       0.95      0.96      0.95      2928\n",
      "           1       0.87      0.89      0.88      2928\n",
      "           2       0.85      0.84      0.84      2928\n",
      "           3       0.92      0.91      0.91      2928\n",
      "           4       0.99      1.00      0.99      2928\n",
      "\n",
      "    accuracy                           0.92     14640\n",
      "   macro avg       0.92      0.92      0.92     14640\n",
      "weighted avg       0.92      0.92      0.92     14640\n",
      "\n"
     ]
    }
   ],
   "source": [
    "print(classification_report(y_smote,gbmpredict))"
   ]
  },
  {
   "cell_type": "code",
   "execution_count": 159,
   "id": "52d83b0c",
   "metadata": {},
   "outputs": [],
   "source": [
    "gbm_testpredict=gbmmodel.predict(house_tt)"
   ]
  },
  {
   "cell_type": "code",
   "execution_count": 160,
   "id": "702497ed",
   "metadata": {},
   "outputs": [],
   "source": [
    "gbm_testpredict=pd.DataFrame(gbm_testpredict)"
   ]
  },
  {
   "cell_type": "code",
   "execution_count": 161,
   "id": "95d2b46d",
   "metadata": {},
   "outputs": [
    {
     "data": {
      "text/plain": [
       "0\n",
       "2    1335\n",
       "3    1035\n",
       "1     732\n",
       "0     176\n",
       "4      21\n",
       "Name: count, dtype: int64"
      ]
     },
     "execution_count": 161,
     "metadata": {},
     "output_type": "execute_result"
    }
   ],
   "source": [
    "gbm_testpredict.value_counts()"
   ]
  },
  {
   "cell_type": "code",
   "execution_count": 162,
   "id": "ada4f017",
   "metadata": {},
   "outputs": [],
   "source": [
    "gbm_testpredict=gbm_testpredict.replace({0:'A',1:'B',2:'C',3:'D',4:'E'})"
   ]
  },
  {
   "cell_type": "code",
   "execution_count": 163,
   "id": "348caa27",
   "metadata": {},
   "outputs": [],
   "source": [
    "gbm_testpredict.to_csv('gbm.csv')"
   ]
  },
  {
   "cell_type": "markdown",
   "id": "0011e1cf",
   "metadata": {},
   "source": [
    "# SVC"
   ]
  },
  {
   "cell_type": "code",
   "execution_count": 164,
   "id": "1e371015",
   "metadata": {},
   "outputs": [],
   "source": [
    "from sklearn.svm import SVC"
   ]
  },
  {
   "cell_type": "code",
   "execution_count": 165,
   "id": "f865bff6",
   "metadata": {},
   "outputs": [],
   "source": [
    "svc=SVC(C=5)"
   ]
  },
  {
   "cell_type": "code",
   "execution_count": 166,
   "id": "0578701f",
   "metadata": {},
   "outputs": [],
   "source": [
    "svcmodel=svc.fit(X_smote,y_smote)"
   ]
  },
  {
   "cell_type": "code",
   "execution_count": 167,
   "id": "81cc8b21",
   "metadata": {},
   "outputs": [
    {
     "data": {
      "text/plain": [
       "0.9610655737704918"
      ]
     },
     "execution_count": 167,
     "metadata": {},
     "output_type": "execute_result"
    }
   ],
   "source": [
    "svcmodel.score(X_smote,y_smote)"
   ]
  },
  {
   "cell_type": "code",
   "execution_count": 168,
   "id": "c25865f4",
   "metadata": {},
   "outputs": [],
   "source": [
    "svcpredict=svc.predict(X_smote)"
   ]
  },
  {
   "cell_type": "code",
   "execution_count": 170,
   "id": "04489785",
   "metadata": {},
   "outputs": [
    {
     "data": {
      "text/html": [
       "<div>\n",
       "<style scoped>\n",
       "    .dataframe tbody tr th:only-of-type {\n",
       "        vertical-align: middle;\n",
       "    }\n",
       "\n",
       "    .dataframe tbody tr th {\n",
       "        vertical-align: top;\n",
       "    }\n",
       "\n",
       "    .dataframe thead th {\n",
       "        text-align: right;\n",
       "    }\n",
       "</style>\n",
       "<table border=\"1\" class=\"dataframe\">\n",
       "  <thead>\n",
       "    <tr style=\"text-align: right;\">\n",
       "      <th>col_0</th>\n",
       "      <th>0</th>\n",
       "      <th>1</th>\n",
       "      <th>2</th>\n",
       "      <th>3</th>\n",
       "      <th>4</th>\n",
       "    </tr>\n",
       "    <tr>\n",
       "      <th>Grade</th>\n",
       "      <th></th>\n",
       "      <th></th>\n",
       "      <th></th>\n",
       "      <th></th>\n",
       "      <th></th>\n",
       "    </tr>\n",
       "  </thead>\n",
       "  <tbody>\n",
       "    <tr>\n",
       "      <th>0</th>\n",
       "      <td>2919</td>\n",
       "      <td>9</td>\n",
       "      <td>0</td>\n",
       "      <td>0</td>\n",
       "      <td>0</td>\n",
       "    </tr>\n",
       "    <tr>\n",
       "      <th>1</th>\n",
       "      <td>83</td>\n",
       "      <td>2745</td>\n",
       "      <td>100</td>\n",
       "      <td>0</td>\n",
       "      <td>0</td>\n",
       "    </tr>\n",
       "    <tr>\n",
       "      <th>2</th>\n",
       "      <td>0</td>\n",
       "      <td>131</td>\n",
       "      <td>2661</td>\n",
       "      <td>136</td>\n",
       "      <td>0</td>\n",
       "    </tr>\n",
       "    <tr>\n",
       "      <th>3</th>\n",
       "      <td>0</td>\n",
       "      <td>0</td>\n",
       "      <td>87</td>\n",
       "      <td>2817</td>\n",
       "      <td>24</td>\n",
       "    </tr>\n",
       "    <tr>\n",
       "      <th>4</th>\n",
       "      <td>0</td>\n",
       "      <td>0</td>\n",
       "      <td>0</td>\n",
       "      <td>0</td>\n",
       "      <td>2928</td>\n",
       "    </tr>\n",
       "  </tbody>\n",
       "</table>\n",
       "</div>"
      ],
      "text/plain": [
       "col_0     0     1     2     3     4\n",
       "Grade                              \n",
       "0      2919     9     0     0     0\n",
       "1        83  2745   100     0     0\n",
       "2         0   131  2661   136     0\n",
       "3         0     0    87  2817    24\n",
       "4         0     0     0     0  2928"
      ]
     },
     "execution_count": 170,
     "metadata": {},
     "output_type": "execute_result"
    }
   ],
   "source": [
    "pd.crosstab(y_smote,svcpredict)"
   ]
  },
  {
   "cell_type": "code",
   "execution_count": 171,
   "id": "21b2e901",
   "metadata": {},
   "outputs": [
    {
     "data": {
      "text/plain": [
       "array([0.9443306 , 0.93613388, 0.94057377, 0.95525956, 0.9614071 ])"
      ]
     },
     "execution_count": 171,
     "metadata": {},
     "output_type": "execute_result"
    }
   ],
   "source": [
    "cross_val_score(svc,X_smote,y_smote)"
   ]
  },
  {
   "cell_type": "code",
   "execution_count": 172,
   "id": "15c2cf5a",
   "metadata": {},
   "outputs": [
    {
     "data": {
      "text/plain": [
       "0.8965714260000001"
      ]
     },
     "execution_count": 172,
     "metadata": {},
     "output_type": "execute_result"
    }
   ],
   "source": [
    "np.mean([0.9       , 0.90428571, 0.88785714, 0.89428571, 0.89642857])"
   ]
  },
  {
   "cell_type": "code",
   "execution_count": 173,
   "id": "0054903c",
   "metadata": {},
   "outputs": [
    {
     "name": "stdout",
     "output_type": "stream",
     "text": [
      "              precision    recall  f1-score   support\n",
      "\n",
      "           0       0.97      1.00      0.98      2928\n",
      "           1       0.95      0.94      0.94      2928\n",
      "           2       0.93      0.91      0.92      2928\n",
      "           3       0.95      0.96      0.96      2928\n",
      "           4       0.99      1.00      1.00      2928\n",
      "\n",
      "    accuracy                           0.96     14640\n",
      "   macro avg       0.96      0.96      0.96     14640\n",
      "weighted avg       0.96      0.96      0.96     14640\n",
      "\n"
     ]
    }
   ],
   "source": [
    "print(classification_report(y_smote,svcpredict))"
   ]
  },
  {
   "cell_type": "code",
   "execution_count": 174,
   "id": "d669cc5c",
   "metadata": {},
   "outputs": [],
   "source": [
    "svc_testpredict=svc.predict(house_tt)"
   ]
  },
  {
   "cell_type": "code",
   "execution_count": 175,
   "id": "72a1f9d1",
   "metadata": {},
   "outputs": [],
   "source": [
    "svc_testpredict=pd.DataFrame(svc_testpredict)"
   ]
  },
  {
   "cell_type": "code",
   "execution_count": 176,
   "id": "99d9e861",
   "metadata": {},
   "outputs": [
    {
     "data": {
      "text/plain": [
       "0\n",
       "2    1334\n",
       "3    1064\n",
       "1     683\n",
       "0     201\n",
       "4      17\n",
       "Name: count, dtype: int64"
      ]
     },
     "execution_count": 176,
     "metadata": {},
     "output_type": "execute_result"
    }
   ],
   "source": [
    "svc_testpredict.value_counts()"
   ]
  },
  {
   "cell_type": "code",
   "execution_count": 177,
   "id": "a21c9b64",
   "metadata": {},
   "outputs": [],
   "source": [
    "svc_testpredict=svc_testpredict.replace({0:'A',1:'B',2:'C',3:'D',4:'E'})"
   ]
  },
  {
   "cell_type": "code",
   "execution_count": 178,
   "id": "4239871a",
   "metadata": {},
   "outputs": [],
   "source": [
    "svc_testpredict.to_csv('svc.csv')"
   ]
  },
  {
   "cell_type": "markdown",
   "id": "8e805724",
   "metadata": {},
   "source": [
    "# KNN"
   ]
  },
  {
   "cell_type": "code",
   "execution_count": 179,
   "id": "b292b6af",
   "metadata": {},
   "outputs": [],
   "source": [
    "from sklearn.neighbors import KNeighborsClassifier"
   ]
  },
  {
   "cell_type": "code",
   "execution_count": 180,
   "id": "60639880",
   "metadata": {},
   "outputs": [],
   "source": [
    "knc=KNeighborsClassifier(n_neighbors=2)"
   ]
  },
  {
   "cell_type": "code",
   "execution_count": 181,
   "id": "bf614e85",
   "metadata": {},
   "outputs": [],
   "source": [
    "kncmodel=knc.fit(X_smote,y_smote)"
   ]
  },
  {
   "cell_type": "code",
   "execution_count": 182,
   "id": "29a73716",
   "metadata": {},
   "outputs": [
    {
     "data": {
      "text/plain": [
       "0.9629781420765028"
      ]
     },
     "execution_count": 182,
     "metadata": {},
     "output_type": "execute_result"
    }
   ],
   "source": [
    "kncmodel.score(X_smote,y_smote)"
   ]
  },
  {
   "cell_type": "code",
   "execution_count": 183,
   "id": "1a8db669",
   "metadata": {},
   "outputs": [],
   "source": [
    "kncpredict=kncmodel.predict(X_smote)"
   ]
  },
  {
   "cell_type": "code",
   "execution_count": 184,
   "id": "50192bca",
   "metadata": {},
   "outputs": [
    {
     "data": {
      "text/html": [
       "<div>\n",
       "<style scoped>\n",
       "    .dataframe tbody tr th:only-of-type {\n",
       "        vertical-align: middle;\n",
       "    }\n",
       "\n",
       "    .dataframe tbody tr th {\n",
       "        vertical-align: top;\n",
       "    }\n",
       "\n",
       "    .dataframe thead th {\n",
       "        text-align: right;\n",
       "    }\n",
       "</style>\n",
       "<table border=\"1\" class=\"dataframe\">\n",
       "  <thead>\n",
       "    <tr style=\"text-align: right;\">\n",
       "      <th>col_0</th>\n",
       "      <th>0</th>\n",
       "      <th>1</th>\n",
       "      <th>2</th>\n",
       "      <th>3</th>\n",
       "      <th>4</th>\n",
       "    </tr>\n",
       "    <tr>\n",
       "      <th>Grade</th>\n",
       "      <th></th>\n",
       "      <th></th>\n",
       "      <th></th>\n",
       "      <th></th>\n",
       "      <th></th>\n",
       "    </tr>\n",
       "  </thead>\n",
       "  <tbody>\n",
       "    <tr>\n",
       "      <th>0</th>\n",
       "      <td>2928</td>\n",
       "      <td>0</td>\n",
       "      <td>0</td>\n",
       "      <td>0</td>\n",
       "      <td>0</td>\n",
       "    </tr>\n",
       "    <tr>\n",
       "      <th>1</th>\n",
       "      <td>48</td>\n",
       "      <td>2880</td>\n",
       "      <td>0</td>\n",
       "      <td>0</td>\n",
       "      <td>0</td>\n",
       "    </tr>\n",
       "    <tr>\n",
       "      <th>2</th>\n",
       "      <td>0</td>\n",
       "      <td>308</td>\n",
       "      <td>2620</td>\n",
       "      <td>0</td>\n",
       "      <td>0</td>\n",
       "    </tr>\n",
       "    <tr>\n",
       "      <th>3</th>\n",
       "      <td>0</td>\n",
       "      <td>0</td>\n",
       "      <td>186</td>\n",
       "      <td>2742</td>\n",
       "      <td>0</td>\n",
       "    </tr>\n",
       "    <tr>\n",
       "      <th>4</th>\n",
       "      <td>0</td>\n",
       "      <td>0</td>\n",
       "      <td>0</td>\n",
       "      <td>0</td>\n",
       "      <td>2928</td>\n",
       "    </tr>\n",
       "  </tbody>\n",
       "</table>\n",
       "</div>"
      ],
      "text/plain": [
       "col_0     0     1     2     3     4\n",
       "Grade                              \n",
       "0      2928     0     0     0     0\n",
       "1        48  2880     0     0     0\n",
       "2         0   308  2620     0     0\n",
       "3         0     0   186  2742     0\n",
       "4         0     0     0     0  2928"
      ]
     },
     "execution_count": 184,
     "metadata": {},
     "output_type": "execute_result"
    }
   ],
   "source": [
    "pd.crosstab(y_smote,kncpredict)"
   ]
  },
  {
   "cell_type": "code",
   "execution_count": 185,
   "id": "6fa25ef9",
   "metadata": {},
   "outputs": [
    {
     "data": {
      "text/plain": [
       "array([0.88900273, 0.88695355, 0.9023224 , 0.90983607, 0.93203552])"
      ]
     },
     "execution_count": 185,
     "metadata": {},
     "output_type": "execute_result"
    }
   ],
   "source": [
    "cross_val_score(knc,X_smote,y_smote)"
   ]
  },
  {
   "cell_type": "code",
   "execution_count": 186,
   "id": "67f4797c",
   "metadata": {},
   "outputs": [
    {
     "data": {
      "text/plain": [
       "0.7561428580000001"
      ]
     },
     "execution_count": 186,
     "metadata": {},
     "output_type": "execute_result"
    }
   ],
   "source": [
    "np.mean([0.74714286, 0.76285714, 0.75857143, 0.76357143, 0.74857143])"
   ]
  },
  {
   "cell_type": "code",
   "execution_count": 187,
   "id": "1ad5ede9",
   "metadata": {},
   "outputs": [
    {
     "name": "stdout",
     "output_type": "stream",
     "text": [
      "              precision    recall  f1-score   support\n",
      "\n",
      "           0       0.98      1.00      0.99      2928\n",
      "           1       0.90      0.98      0.94      2928\n",
      "           2       0.93      0.89      0.91      2928\n",
      "           3       1.00      0.94      0.97      2928\n",
      "           4       1.00      1.00      1.00      2928\n",
      "\n",
      "    accuracy                           0.96     14640\n",
      "   macro avg       0.96      0.96      0.96     14640\n",
      "weighted avg       0.96      0.96      0.96     14640\n",
      "\n"
     ]
    }
   ],
   "source": [
    "print(classification_report(y_smote,kncpredict))"
   ]
  },
  {
   "cell_type": "code",
   "execution_count": 188,
   "id": "ad5744a6",
   "metadata": {},
   "outputs": [],
   "source": [
    "kncpredict_test=knc.predict(house_tt)"
   ]
  },
  {
   "cell_type": "code",
   "execution_count": 189,
   "id": "10d0ad0e",
   "metadata": {},
   "outputs": [],
   "source": [
    "kncpredict_test=pd.DataFrame(kncpredict_test)"
   ]
  },
  {
   "cell_type": "code",
   "execution_count": 190,
   "id": "07267fed",
   "metadata": {},
   "outputs": [
    {
     "data": {
      "text/plain": [
       "0\n",
       "2    1306\n",
       "3     896\n",
       "1     828\n",
       "0     254\n",
       "4      15\n",
       "Name: count, dtype: int64"
      ]
     },
     "execution_count": 190,
     "metadata": {},
     "output_type": "execute_result"
    }
   ],
   "source": [
    "kncpredict_test.value_counts()"
   ]
  },
  {
   "cell_type": "code",
   "execution_count": 191,
   "id": "b5d4689f",
   "metadata": {},
   "outputs": [],
   "source": [
    "kncpredict_test=kncpredict_test.replace({0:'A',1:'B',2:'C',3:'D',4:'E'})"
   ]
  },
  {
   "cell_type": "code",
   "execution_count": 192,
   "id": "6ce8e71d",
   "metadata": {},
   "outputs": [],
   "source": [
    "kncpredict_test.to_csv('knc.csv')"
   ]
  },
  {
   "cell_type": "markdown",
   "id": "abf12fed",
   "metadata": {},
   "source": [
    "# GaussianNB"
   ]
  },
  {
   "cell_type": "code",
   "execution_count": 193,
   "id": "33605b47",
   "metadata": {},
   "outputs": [],
   "source": [
    "from sklearn.naive_bayes import GaussianNB"
   ]
  },
  {
   "cell_type": "code",
   "execution_count": 194,
   "id": "0033cedd",
   "metadata": {},
   "outputs": [],
   "source": [
    "gb=GaussianNB()"
   ]
  },
  {
   "cell_type": "code",
   "execution_count": 195,
   "id": "13c741ca",
   "metadata": {},
   "outputs": [],
   "source": [
    "gbmodel=gb.fit(X_smote,y_smote)"
   ]
  },
  {
   "cell_type": "code",
   "execution_count": 196,
   "id": "5da8c4c5",
   "metadata": {},
   "outputs": [
    {
     "data": {
      "text/plain": [
       "0.807103825136612"
      ]
     },
     "execution_count": 196,
     "metadata": {},
     "output_type": "execute_result"
    }
   ],
   "source": [
    "gbmodel.score(X_smote,y_smote)"
   ]
  },
  {
   "cell_type": "code",
   "execution_count": 197,
   "id": "b4ffd597",
   "metadata": {},
   "outputs": [],
   "source": [
    "gbpredict=gbmodel.predict(X_smote)"
   ]
  },
  {
   "cell_type": "code",
   "execution_count": 198,
   "id": "e840503c",
   "metadata": {},
   "outputs": [
    {
     "data": {
      "text/html": [
       "<div>\n",
       "<style scoped>\n",
       "    .dataframe tbody tr th:only-of-type {\n",
       "        vertical-align: middle;\n",
       "    }\n",
       "\n",
       "    .dataframe tbody tr th {\n",
       "        vertical-align: top;\n",
       "    }\n",
       "\n",
       "    .dataframe thead th {\n",
       "        text-align: right;\n",
       "    }\n",
       "</style>\n",
       "<table border=\"1\" class=\"dataframe\">\n",
       "  <thead>\n",
       "    <tr style=\"text-align: right;\">\n",
       "      <th>col_0</th>\n",
       "      <th>0</th>\n",
       "      <th>1</th>\n",
       "      <th>2</th>\n",
       "      <th>3</th>\n",
       "      <th>4</th>\n",
       "    </tr>\n",
       "    <tr>\n",
       "      <th>Grade</th>\n",
       "      <th></th>\n",
       "      <th></th>\n",
       "      <th></th>\n",
       "      <th></th>\n",
       "      <th></th>\n",
       "    </tr>\n",
       "  </thead>\n",
       "  <tbody>\n",
       "    <tr>\n",
       "      <th>0</th>\n",
       "      <td>2708</td>\n",
       "      <td>220</td>\n",
       "      <td>0</td>\n",
       "      <td>0</td>\n",
       "      <td>0</td>\n",
       "    </tr>\n",
       "    <tr>\n",
       "      <th>1</th>\n",
       "      <td>371</td>\n",
       "      <td>2243</td>\n",
       "      <td>314</td>\n",
       "      <td>0</td>\n",
       "      <td>0</td>\n",
       "    </tr>\n",
       "    <tr>\n",
       "      <th>2</th>\n",
       "      <td>0</td>\n",
       "      <td>582</td>\n",
       "      <td>2013</td>\n",
       "      <td>331</td>\n",
       "      <td>2</td>\n",
       "    </tr>\n",
       "    <tr>\n",
       "      <th>3</th>\n",
       "      <td>0</td>\n",
       "      <td>1</td>\n",
       "      <td>372</td>\n",
       "      <td>1924</td>\n",
       "      <td>631</td>\n",
       "    </tr>\n",
       "    <tr>\n",
       "      <th>4</th>\n",
       "      <td>0</td>\n",
       "      <td>0</td>\n",
       "      <td>0</td>\n",
       "      <td>0</td>\n",
       "      <td>2928</td>\n",
       "    </tr>\n",
       "  </tbody>\n",
       "</table>\n",
       "</div>"
      ],
      "text/plain": [
       "col_0     0     1     2     3     4\n",
       "Grade                              \n",
       "0      2708   220     0     0     0\n",
       "1       371  2243   314     0     0\n",
       "2         0   582  2013   331     2\n",
       "3         0     1   372  1924   631\n",
       "4         0     0     0     0  2928"
      ]
     },
     "execution_count": 198,
     "metadata": {},
     "output_type": "execute_result"
    }
   ],
   "source": [
    "pd.crosstab(y_smote,gbpredict)"
   ]
  },
  {
   "cell_type": "code",
   "execution_count": 199,
   "id": "b66075ef",
   "metadata": {},
   "outputs": [
    {
     "data": {
      "text/plain": [
       "array([0.78483607, 0.79747268, 0.80088798, 0.82889344, 0.82069672])"
      ]
     },
     "execution_count": 199,
     "metadata": {},
     "output_type": "execute_result"
    }
   ],
   "source": [
    "cross_val_score(gb,X_smote,y_smote)"
   ]
  },
  {
   "cell_type": "code",
   "execution_count": 200,
   "id": "58e0248c",
   "metadata": {},
   "outputs": [
    {
     "data": {
      "text/plain": [
       "0.653"
      ]
     },
     "execution_count": 200,
     "metadata": {},
     "output_type": "execute_result"
    }
   ],
   "source": [
    "np.mean([0.63214286, 0.665     , 0.63785714, 0.65357143, 0.67642857])"
   ]
  },
  {
   "cell_type": "code",
   "execution_count": 201,
   "id": "57785243",
   "metadata": {},
   "outputs": [
    {
     "name": "stdout",
     "output_type": "stream",
     "text": [
      "              precision    recall  f1-score   support\n",
      "\n",
      "           0       0.88      0.92      0.90      2928\n",
      "           1       0.74      0.77      0.75      2928\n",
      "           2       0.75      0.69      0.72      2928\n",
      "           3       0.85      0.66      0.74      2928\n",
      "           4       0.82      1.00      0.90      2928\n",
      "\n",
      "    accuracy                           0.81     14640\n",
      "   macro avg       0.81      0.81      0.80     14640\n",
      "weighted avg       0.81      0.81      0.80     14640\n",
      "\n"
     ]
    }
   ],
   "source": [
    "print(classification_report(y_smote,gbpredict))"
   ]
  },
  {
   "cell_type": "code",
   "execution_count": 202,
   "id": "564b21f2",
   "metadata": {},
   "outputs": [],
   "source": [
    "gb_testpredict=gb.predict(house_tt)"
   ]
  },
  {
   "cell_type": "code",
   "execution_count": 203,
   "id": "52261ab2",
   "metadata": {},
   "outputs": [],
   "source": [
    "gb_testpredict=pd.DataFrame(gb_testpredict)"
   ]
  },
  {
   "cell_type": "code",
   "execution_count": 204,
   "id": "41ef8102",
   "metadata": {},
   "outputs": [
    {
     "data": {
      "text/plain": [
       "0\n",
       "2    1207\n",
       "3     824\n",
       "1     801\n",
       "0     244\n",
       "4     223\n",
       "Name: count, dtype: int64"
      ]
     },
     "execution_count": 204,
     "metadata": {},
     "output_type": "execute_result"
    }
   ],
   "source": [
    "gb_testpredict.value_counts()"
   ]
  },
  {
   "cell_type": "code",
   "execution_count": 205,
   "id": "e850493d",
   "metadata": {},
   "outputs": [],
   "source": [
    "gb_testpredict=gb_testpredict.replace({0:'A',1:'B',2:'C',3:'D',4:'E'})"
   ]
  },
  {
   "cell_type": "code",
   "execution_count": 206,
   "id": "8c542cc6",
   "metadata": {},
   "outputs": [
    {
     "data": {
      "text/plain": [
       "0\n",
       "C    1207\n",
       "D     824\n",
       "B     801\n",
       "A     244\n",
       "E     223\n",
       "Name: count, dtype: int64"
      ]
     },
     "execution_count": 206,
     "metadata": {},
     "output_type": "execute_result"
    }
   ],
   "source": [
    "gb_testpredict.value_counts()"
   ]
  },
  {
   "cell_type": "code",
   "execution_count": 207,
   "id": "bc0b0b86",
   "metadata": {},
   "outputs": [],
   "source": [
    "gb_testpredict.to_csv('gb.csv')"
   ]
  },
  {
   "cell_type": "code",
   "execution_count": null,
   "id": "02b3ead1-e71e-4423-9e9b-efe7474586c4",
   "metadata": {},
   "outputs": [],
   "source": []
  },
  {
   "cell_type": "markdown",
   "id": "fef00193-6a62-4206-b4d6-bb6b04c6a48e",
   "metadata": {},
   "source": [
    "# Accuracies for different machine learning models:\n",
    "\n",
    "| Model Name | Accuracy |\n",
    "|--|--|\n",
    "| Logistic Regression | 0.9096311475409836 | \n",
    "| Decision Tree | 0.9432377049180328 |\n",
    "| Random Forest | 0.9270491803278689 |\n",
    "| Gradient Boosting Machine| 0.9634562841530054 |\n",
    "| Support Vector Machine | 0.9610655737704918 |\n",
    "| k-nearest neighbors | 0.9629781420765028 |\n",
    "| Naive Bayes | 0.807103825136612 |\n",
    "\n",
    "## The summary of model accuracies from highest to lowest is as follows:\n",
    "\n",
    "| Model Name | Accuracy |\n",
    "|--|--|\n",
    "| Gradient Boosting Machine |0.9634562841530054|\n",
    "| k-nearest neighbors | 0.9629781420765028 |\n",
    "| SupportVector Machine | 0.9610655737704918 |\n",
    "| Decision Tree | 0.9432377049180328 |\n",
    "| Random Forest | 0.9270491803278689 |\n",
    "| Logistic Regression | 0.9096311475409836 |\n",
    "| Naive Bayes | 0.807103825136612 |\n",
    "\n",
    "# Based on the provided accuracies, \n",
    "## the best fit model:\n",
    "the best fit model would be **Gradient Boosting** with an accuracy of **0.9634562841530054**. This model has the highest accuracy among the ones listed. Gradient Boosting is known for its ability to produce highly accurate predictions by combining the outputs of multiple weak learners (often decision trees) to improve overall predictive performance."
   ]
  }
 ],
 "metadata": {
  "kernelspec": {
   "display_name": "Python 3 (ipykernel)",
   "language": "python",
   "name": "python3"
  },
  "language_info": {
   "codemirror_mode": {
    "name": "ipython",
    "version": 3
   },
   "file_extension": ".py",
   "mimetype": "text/x-python",
   "name": "python",
   "nbconvert_exporter": "python",
   "pygments_lexer": "ipython3",
   "version": "3.11.5"
  },
  "widgets": {
   "application/vnd.jupyter.widget-state+json": {
    "state": {},
    "version_major": 2,
    "version_minor": 0
   }
  }
 },
 "nbformat": 4,
 "nbformat_minor": 5
}
